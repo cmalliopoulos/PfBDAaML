{
 "cells": [
  {
   "cell_type": "markdown",
   "metadata": {},
   "source": [
    "![MLTrain logo](https://mltrain.cc/wp-content/uploads/2017/11/mltrain_logo-4.png \"MLTrain logo\")\n",
    "\n",
    "---------------------------------------------------------"
   ]
  },
  {
   "cell_type": "code",
   "execution_count": 28,
   "metadata": {},
   "outputs": [],
   "source": [
    "!wget -q -O changeNBLayout.py https://raw.githubusercontent.com/cmalliopoulos/PfBDAaML/master/changeNBLayout.py\n",
    "!wget -q -O binTree.jpg https://raw.githubusercontent.com/cmalliopoulos/PfBDAaML/master/binTree.jpg\n",
    "!wget -q -O kyphosis.csv https://raw.githubusercontent.com/cmalliopoulos/PfBDAaML/master/kyphosis.csv"
   ]
  },
  {
   "cell_type": "code",
   "execution_count": 1,
   "metadata": {},
   "outputs": [
    {
     "data": {
      "text/html": [
       "\n",
       "    <style>\n",
       "    @import url('https://fonts.googleapis.com/css?family=Roboto+Condensed');\n",
       "    </style> "
      ],
      "text/plain": [
       "<IPython.core.display.HTML object>"
      ]
     },
     "metadata": {},
     "output_type": "display_data"
    },
    {
     "data": {
      "text/html": [
       "<style> .container {width: 90%} </style>"
      ],
      "text/plain": [
       "<IPython.core.display.HTML object>"
      ]
     },
     "metadata": {},
     "output_type": "display_data"
    },
    {
     "data": {
      "text/html": [
       "\n",
       "    <style> .CodeMirror {font-size: 10.5pt !important} </style>"
      ],
      "text/plain": [
       "<IPython.core.display.HTML object>"
      ]
     },
     "metadata": {},
     "output_type": "display_data"
    },
    {
     "data": {
      "text/html": [
       "\n",
       "    <style> div.cell.selected{border: 0px};</style>"
      ],
      "text/plain": [
       "<IPython.core.display.HTML object>"
      ]
     },
     "metadata": {},
     "output_type": "display_data"
    },
    {
     "data": {
      "text/html": [
       "<style> \n",
       "    .text_cell_render {\n",
       "        font-family: \"Roboto Condensed\"; \n",
       "        line-height: 145%; \n",
       "        font-size: 14pt} </style>"
      ],
      "text/plain": [
       "<IPython.core.display.HTML object>"
      ]
     },
     "metadata": {},
     "output_type": "display_data"
    },
    {
     "data": {
      "text/html": [
       "<style> \n",
       "    .output_area {font-size: large} </style>"
      ],
      "text/plain": [
       "<IPython.core.display.HTML object>"
      ]
     },
     "metadata": {},
     "output_type": "display_data"
    }
   ],
   "source": [
    "%%capture --no-display\n",
    "%run changeNBLayout.py"
   ]
  },
  {
   "cell_type": "markdown",
   "metadata": {},
   "source": [
    "# Introduction and terminology #"
   ]
  },
  {
   "cell_type": "markdown",
   "metadata": {},
   "source": [
    "In mathematical terms a ML problem is to learn (find) a function $y = f(x)$ from a set of input-output observations $(x, y)$ so that the function best represents the observations.  \n",
    "The input-output observations are called \"the training sample\".  \n",
    "The $x's$ are called input observations or inputs and the $y's$ output observations or outputs.  \n",
    "The function is not arbitrary and it is always assumed to belong to a certain set usually refered to as __the model__.  \n",
    "  \n",
    "The model is specified by a set of __parameters__.  \n",
    "For example, if I'm given a set of inputs and outputs in $\\mathbb R$, I can try to fit $sin(\\alpha x)$ to the outputs.  \n",
    "My model is the set of all sinuses with zero initial phase and arbitrary frequency, specified by the parameter  \n",
    "$\\alpha$ - which must be greater or equal to 0.  \n",
    "  \n",
    "__Learning__ means to estimate the best model parameters from the observations in the trainset.  \n",
    "It is therefore apparent that __model parameters are functions of the trainset__.  \n",
    "In the above example $\\alpha$ will be a function of the available $x's$ and $y's$. If a different set of observations  \n",
    "is provided, the estimated (learned) value of $\\alpha$ will change."
   ]
  },
  {
   "cell_type": "markdown",
   "metadata": {},
   "source": [
    "In an analytical model like the above the parameter is obvious. More advanced or 'algorithmic' models though require a bit of thought. Let's see it with an example:  \n",
    "\n",
    "__Nearest-neighboor classifier:__  \n",
    "NN algorithms classify a new $x$ to the class where the majority of the __nearest__ $x's$ from the trainset belong.  \n",
    "Assume that I want to train a k-NN classifier ie, a NN classifier that takes into account the classes of the k nearest neighboors of an input point  \n",
    "in order to decide where to classify $x$. What are the parameters of this model?"
   ]
  },
  {
   "cell_type": "markdown",
   "metadata": {},
   "source": [
    "### Fitting error ###\n",
    "Suppose that a candidate function has been selected from the model and let's denote by $\\hat y$ the value generated \n",
    "by that function at $x$.  \n",
    "To __learn $f$__ means to find the parameter values that minimize __an error__ over the pairs $(y, \\hat y)$.  \n",
    "  \n",
    "In classification problems this error is usually a function assigning 1 to the pairs $y\\neq\\hat y$ and 0 otherwise.  \n",
    "In regression problems the error is a positive function of the difference $y - \\hat y$."
   ]
  },
  {
   "cell_type": "markdown",
   "metadata": {},
   "source": [
    "### Test sets and test error ###\n",
    "After we have trained (or 'fitted' as we say) our model to the trainset, we must __test__ the performance of the model.  \n",
    "This is done using a different set of observations that were __not used in the training phase__.  \n",
    "Mind that 'learning' is the ability to __generalize__ that is, to provide acceptable predictions to __unseen__ data.  \n",
    "It is therefore meaningless to test a model's performance on the data used to train its parameters."
   ]
  },
  {
   "cell_type": "markdown",
   "metadata": {},
   "source": [
    "-------------------------------------\n",
    "# Decision-tree theory #\n"
   ]
  },
  {
   "cell_type": "markdown",
   "metadata": {},
   "source": [
    "Classification and regression trees (CARTs) are devices that exploit a binary-tree structure to partition the input feature space into rectangles  \n",
    "with edges formed by simple expressions of the form $X_j < a$ where $X_j$ is the $j^{th}$ feature in the input space.  \n",
    "\n",
    "For those with a CS background, CARTs are similar to K-d trees however the purpose here is not to speedup search by balancing partition sizes but to minimize a __misclassification cost__.  \n",
    "We will try to explain the splitting process with an example of a 2-class classifier and 2 features $X_1$ and $X_2$:"
   ]
  },
  {
   "cell_type": "markdown",
   "metadata": {},
   "source": [
    "![binary tree regions](binTree.jpg \"binTree\")"
   ]
  },
  {
   "cell_type": "markdown",
   "metadata": {},
   "source": [
    "# Imports #"
   ]
  },
  {
   "cell_type": "code",
   "execution_count": 7,
   "metadata": {},
   "outputs": [],
   "source": [
    "%matplotlib inline\n",
    "\n",
    "import pandas as pd\n",
    "import numpy as np\n",
    "import matplotlib.pyplot as plt\n",
    "import seaborn as sns"
   ]
  },
  {
   "cell_type": "code",
   "execution_count": 12,
   "metadata": {},
   "outputs": [
    {
     "name": "stdout",
     "output_type": "stream",
     "text": [
      "  Kyphosis  Age  Number  Start\n",
      "0   absent   71       3      5\n",
      "1   absent  158       3     14\n",
      "2  present  128       4      5\n",
      "3   absent    2       5      1\n",
      "4   absent    1       4     15\n",
      "              Age     Number      Start\n",
      "count   81.000000  81.000000  81.000000\n",
      "mean    83.654321   4.049383  11.493827\n",
      "std     58.104251   1.619423   4.883962\n",
      "min      1.000000   2.000000   1.000000\n",
      "25%     26.000000   3.000000   9.000000\n",
      "50%     87.000000   4.000000  13.000000\n",
      "75%    130.000000   5.000000  16.000000\n",
      "max    206.000000  10.000000  18.000000\n"
     ]
    }
   ],
   "source": [
    "df = pd.read_csv('kyphosis.csv')\n",
    "print df.head()\n",
    "print df.describe()"
   ]
  },
  {
   "cell_type": "markdown",
   "metadata": {},
   "source": [
    "`kyphosis.csv` is a record of the results of medical operations for kyphosis correction in toddlers and juveniles.  \n",
    "`Kyphosis` field is the result of the operation (whether kyphosis was present or not after the operation).  \n",
    "`Age` is the child's age in months.  \n",
    "`Number` is the number of spinals affected and `Start` the lower starting spinal disk."
   ]
  },
  {
   "cell_type": "code",
   "execution_count": 5,
   "metadata": {},
   "outputs": [
    {
     "data": {
      "image/png": "[encoded data removed]",
      "text/plain": [
       "<matplotlib.figure.Figure at 0x7ff053019ad0>"
      ]
     },
     "metadata": {},
     "output_type": "display_data"
    }
   ],
   "source": [
    "sns.set(context = 'notebook', style = 'dark', font_scale = 1.4)\n",
    "_ = sns.pairplot(df, hue = 'Kyphosis', size = 3.2, aspect = 1.4, palette = 'Set1')"
   ]
  },
  {
   "cell_type": "markdown",
   "metadata": {},
   "source": [
    "# The machine-learning process #\n",
    "\n",
    "It is assumed the observations have been feature-engineered and are available as a single line per observation. It is also assumed that there're separate datasets for the input and output observations.\n",
    "  \n",
    "1. Split the data in train and test sets\n",
    "2. Fit the model using the trainset\n",
    "3. Evaluate the model on the testset\n",
    "  \n",
    "This is the elementary process. Several modifications are used with the object of reducing bias and variance of the trained model."
   ]
  },
  {
   "cell_type": "markdown",
   "metadata": {},
   "source": [
    "### 1. Train and test split ###"
   ]
  },
  {
   "cell_type": "code",
   "execution_count": 7,
   "metadata": {},
   "outputs": [],
   "source": [
    "from sklearn.model_selection import train_test_split\n",
    "\n",
    "# Separate input and putput observations\n",
    "X = df.drop('Kyphosis', axis = 1)\n",
    "y = df['Kyphosis']\n",
    "\n",
    "# Split to train an test sets\n",
    "X_train, X_test, y_train, y_test = train_test_split(X, y, test_size = 0.30)"
   ]
  },
  {
   "cell_type": "markdown",
   "metadata": {},
   "source": [
    "### 2. Training the decision tree ###"
   ]
  },
  {
   "cell_type": "code",
   "execution_count": 8,
   "metadata": {},
   "outputs": [
    {
     "data": {
      "text/plain": [
       "DecisionTreeClassifier(class_weight=None, criterion='gini', max_depth=None,\n",
       "            max_features=None, max_leaf_nodes=None,\n",
       "            min_impurity_split=1e-07, min_samples_leaf=1,\n",
       "            min_samples_split=2, min_weight_fraction_leaf=0.0,\n",
       "            presort=False, random_state=None, splitter='best')"
      ]
     },
     "execution_count": 8,
     "metadata": {},
     "output_type": "execute_result"
    }
   ],
   "source": [
    "from sklearn.tree import DecisionTreeClassifier\n",
    "\n",
    "dtree = DecisionTreeClassifier()\n",
    "dtree.fit(X_train, y_train)"
   ]
  },
  {
   "cell_type": "markdown",
   "metadata": {},
   "source": [
    " ### 3. Model evaluation #"
   ]
  },
  {
   "cell_type": "code",
   "execution_count": 9,
   "metadata": {},
   "outputs": [],
   "source": [
    "# Apply the trained model to input observations of the test set\n",
    "predictions = dtree.predict(X_test)\n"
   ]
  },
  {
   "cell_type": "code",
   "execution_count": null,
   "metadata": {},
   "outputs": [],
   "source": [
    "from sklearn.metrics import classification_report, confusion_matrix\n",
    "\n",
    "# Mean misclassification cost (later on this)\n",
    "print dtree.score(X_test, y_test)\n",
    "\n",
    "# precision, recall, F-score (later on these)\n",
    "print(classification_report(y_test, predictions))"
   ]
  },
  {
   "cell_type": "markdown",
   "metadata": {},
   "source": [
    "__'Actual vs predicted' tabulation:__  \n",
    "rows refer to __actual__ positive (absent) and negative (present) outcomes.  \n",
    "columns to __predicted__ positive and negative outcomes.  \n",
    "  \n"
   ]
  },
  {
   "cell_type": "code",
   "execution_count": 23,
   "metadata": {},
   "outputs": [
    {
     "name": "stdout",
     "output_type": "stream",
     "text": [
      "Predictions  absent  present\n",
      "Actuals                     \n",
      "absent           16        5\n",
      "present           3        1\n"
     ]
    }
   ],
   "source": [
    "cmdf = pd.DataFrame(\n",
    "    confusion_matrix(y_test, predictions), \n",
    "    index = pd.Index(['absent', 'present'], name = 'Actuals'),\n",
    "    columns = pd.Index(['absent', 'present'], name = 'Predictions'))\n",
    "print cmdf"
   ]
  },
  {
   "cell_type": "markdown",
   "metadata": {},
   "source": [
    "__This seems to be a rather poor classifier.__  \n",
    "The performance is moderate on absence and seems to fail dramatically in predicting cases of presense after surgery.  \n",
    "Is this however the truth? or is it the number of cases too small?"
   ]
  },
  {
   "cell_type": "markdown",
   "metadata": {},
   "source": [
    "-----------------------------\n",
    "### Precision, recall and F-score ###\n",
    "\n",
    "In the test set there 2 values related to each input observation:  \n",
    "* The actual outcome which in a 2-class problem I label it as **T**(rue) or **F**(alse)  \n",
    "* and the predicted outcome which I label it as **P**(ositive) or **N**(egative)\n",
    "\n",
    "From the T, F, P and N values I can construct 4 subsets: \n",
    "1. $\\mathtt{{T}\\bigcap{P}}$ = True Positives\n",
    "2. $\\mathtt{{T}\\bigcap{N}}$ = True Negatives\n",
    "3. $\\mathtt{{F}\\bigcap{P}}$ = False Positives\n",
    "4. $\\mathtt{{F}\\bigcap{N}}$ = False Negatives\n",
    "  \n",
    "__Precision__ is defined as $\\mathtt{\\frac{TP}{T}}$  \n",
    "__Recall__ is defined as $\\mathtt{\\frac{TP}{{FN}\\bigcup{TP}}}$\n",
    "  \n",
    "Note that $\\mathtt{{FN}\\bigcup{TP}}$ is the predicted truth.  \n",
    "  \n",
    "The F-score is a weighted average (geometric mean) of precision and recall."
   ]
  },
  {
   "cell_type": "markdown",
   "metadata": {},
   "source": [
    "-------------------------------------------\n",
    "# Random forest classifier #\n",
    "Let's employ 100 estimators, constructed by repeatedly __bootstrapping__ the train set.  \n",
    "The prediction is obtained from the majority vote of the tree predictions "
   ]
  },
  {
   "cell_type": "code",
   "execution_count": 18,
   "metadata": {},
   "outputs": [
    {
     "data": {
      "text/plain": [
       "RandomForestClassifier(bootstrap=True, class_weight=None, criterion='gini',\n",
       "            max_depth=None, max_features='auto', max_leaf_nodes=None,\n",
       "            min_impurity_split=1e-07, min_samples_leaf=1,\n",
       "            min_samples_split=2, min_weight_fraction_leaf=0.0,\n",
       "            n_estimators=100, n_jobs=1, oob_score=False, random_state=None,\n",
       "            verbose=0, warm_start=False)"
      ]
     },
     "execution_count": 18,
     "metadata": {},
     "output_type": "execute_result"
    }
   ],
   "source": [
    "from sklearn.ensemble import RandomForestClassifier\n",
    "\n",
    "rfc = RandomForestClassifier(n_estimators = 100)\n",
    "rfc.fit(X_train, y_train)"
   ]
  },
  {
   "cell_type": "code",
   "execution_count": 19,
   "metadata": {},
   "outputs": [],
   "source": [
    "rfc_pred = rfc.predict(X_test)"
   ]
  },
  {
   "cell_type": "code",
   "execution_count": 4,
   "metadata": {},
   "outputs": [
    {
     "ename": "NameError",
     "evalue": "name 'y_test' is not defined",
     "output_type": "error",
     "traceback": [
      "\u001b[0;31m---------------------------------------------------------------------------\u001b[0m",
      "\u001b[0;31mNameError\u001b[0m                                 Traceback (most recent call last)",
      "\u001b[0;32m<ipython-input-4-908e33d3632e>\u001b[0m in \u001b[0;36m<module>\u001b[0;34m()\u001b[0m\n\u001b[0;32m----> 1\u001b[0;31m \u001b[0;32mprint\u001b[0m \u001b[0mclassification_report\u001b[0m\u001b[0;34m(\u001b[0m\u001b[0my_test\u001b[0m\u001b[0;34m,\u001b[0m \u001b[0mrfc_pred\u001b[0m\u001b[0;34m)\u001b[0m\u001b[0;34m\u001b[0m\u001b[0m\n\u001b[0m\u001b[1;32m      2\u001b[0m \u001b[0;34m\u001b[0m\u001b[0m\n\u001b[1;32m      3\u001b[0m cmdf = pd.DataFrame(\n\u001b[1;32m      4\u001b[0m     \u001b[0mconfusion_matrix\u001b[0m\u001b[0;34m(\u001b[0m\u001b[0my_test\u001b[0m\u001b[0;34m,\u001b[0m \u001b[0mrfc_pred\u001b[0m\u001b[0;34m)\u001b[0m\u001b[0;34m,\u001b[0m\u001b[0;34m\u001b[0m\u001b[0m\n\u001b[1;32m      5\u001b[0m     \u001b[0mindex\u001b[0m \u001b[0;34m=\u001b[0m \u001b[0mpd\u001b[0m\u001b[0;34m.\u001b[0m\u001b[0mIndex\u001b[0m\u001b[0;34m(\u001b[0m\u001b[0;34m[\u001b[0m\u001b[0;34m'absent'\u001b[0m\u001b[0;34m,\u001b[0m \u001b[0;34m'present'\u001b[0m\u001b[0;34m]\u001b[0m\u001b[0;34m,\u001b[0m \u001b[0mname\u001b[0m \u001b[0;34m=\u001b[0m \u001b[0;34m'Actuals'\u001b[0m\u001b[0;34m)\u001b[0m\u001b[0;34m,\u001b[0m\u001b[0;34m\u001b[0m\u001b[0m\n",
      "\u001b[0;31mNameError\u001b[0m: name 'y_test' is not defined"
     ]
    }
   ],
   "source": [
    "print classification_report(y_test, rfc_pred)\n",
    "\n",
    "cmdf = pd.DataFrame(\n",
    "    confusion_matrix(y_test, rfc_pred), \n",
    "    index = pd.Index(['absent', 'present'], name = 'Actuals'),\n",
    "    columns = pd.Index(['absent', 'present'], name = 'Predictions'))\n",
    "print cmdf"
   ]
  },
  {
   "cell_type": "markdown",
   "metadata": {},
   "source": [
    "---------------------------------\n",
    "# Evaluation Metrics #"
   ]
  },
  {
   "cell_type": "markdown",
   "metadata": {},
   "source": [
    "## Bootstrapping ###\n",
    "Bootstrapping is **'sampling with replacement'**  \n",
    "  \n",
    "The nice thing with bootstrapping is that, from a set of N observations I can generate many different sets with N observations each.  \n",
    "Bootstrapped estimations __decrease variance__ because their parameters average over multiple sets.  \n",
    "The random forest classifier is an example: each tree is trained in a bootstrapped sample of the trainset and the forest decision is an average of the decisions of the trees."
   ]
  },
  {
   "cell_type": "markdown",
   "metadata": {},
   "source": [
    "### Mean misclassification cost ###\n",
    "The average misclassification on output observations: If the test set is $(X_i, y_i), i = 1,...,N$ and $T(X_i)$ the tree prediction on $X_i$  \n",
    "the average misclassification is  \n",
    "$$\\frac{1}{N} \\sum_i I(y_i \\ne T(X_i))$$  \n",
    "where I is the indicator function."
   ]
  },
  {
   "cell_type": "markdown",
   "metadata": {},
   "source": [
    "-------------------------------------------------------------\n",
    "# A simple classifier using Tensorflow #"
   ]
  },
  {
   "cell_type": "code",
   "execution_count": 2,
   "metadata": {},
   "outputs": [
    {
     "data": {
      "text/html": [
       "\n",
       "        <iframe\n",
       "            width=\"400\"\n",
       "            height=\"300\"\n",
       "            src=\"https://www.youtube.com/embed/https://www.youtube.com/watch?v=XDAnFZqJDvI&list=PLIivdWyY5sqJxnwJhe3etaK7utrBiPBQ2&index=12\"\n",
       "            frameborder=\"0\"\n",
       "            allowfullscreen\n",
       "        ></iframe>\n",
       "        "
      ],
      "text/plain": [
       "<IPython.lib.display.YouTubeVideo at 0x7f27d01c2d50>"
      ]
     },
     "execution_count": 2,
     "metadata": {},
     "output_type": "execute_result"
    }
   ],
   "source": [
    "from IPython.display import YouTubeVideo\n",
    "YouTubeVideo('https://www.youtube.com/watch?v=XDAnFZqJDvI&list=PLIivdWyY5sqJxnwJhe3etaK7utrBiPBQ2&index=12')"
   ]
  }
 ],
 "metadata": {
  "kernelspec": {
   "display_name": "Python 2",
   "language": "python",
   "name": "python2"
  },
  "language_info": {
   "codemirror_mode": {
    "name": "ipython",
    "version": 2
   },
   "file_extension": ".py",
   "mimetype": "text/x-python",
   "name": "python",
   "nbconvert_exporter": "python",
   "pygments_lexer": "ipython2",
   "version": "2.7.12"
  }
 },
 "nbformat": 4,
 "nbformat_minor": 2
}
