{
 "cells": [
  {
   "cell_type": "markdown",
   "metadata": {},
   "source": [
    "![MLTrain logo](https://mltrain.cc/wp-content/uploads/2017/11/mltrain_logo-4.png \"MLTrain logo\")\n",
    "\n",
    "---------------------------------------------------------"
   ]
  },
  {
   "cell_type": "code",
   "execution_count": 1,
   "metadata": {},
   "outputs": [
    {
     "data": {
      "text/html": [
       "\n",
       "    <style>\n",
       "    @import url('https://fonts.googleapis.com/css?family=Roboto+Condensed');\n",
       "    </style> "
      ],
      "text/plain": [
       "<IPython.core.display.HTML object>"
      ]
     },
     "metadata": {},
     "output_type": "display_data"
    },
    {
     "data": {
      "text/html": [
       "<style> .container {width: 90%} </style>"
      ],
      "text/plain": [
       "<IPython.core.display.HTML object>"
      ]
     },
     "metadata": {},
     "output_type": "display_data"
    },
    {
     "data": {
      "text/html": [
       "\n",
       "    <style> .CodeMirror {font-size: 10.5pt !important} </style>"
      ],
      "text/plain": [
       "<IPython.core.display.HTML object>"
      ]
     },
     "metadata": {},
     "output_type": "display_data"
    },
    {
     "data": {
      "text/html": [
       "\n",
       "    <style> div.cell.selected{border: 0px};</style>"
      ],
      "text/plain": [
       "<IPython.core.display.HTML object>"
      ]
     },
     "metadata": {},
     "output_type": "display_data"
    },
    {
     "data": {
      "text/html": [
       "<style> \n",
       "    .text_cell_render {\n",
       "        font-family: \"Roboto Condensed\"; \n",
       "        line-height: 145%; \n",
       "        font-size: 14pt} </style>"
      ],
      "text/plain": [
       "<IPython.core.display.HTML object>"
      ]
     },
     "metadata": {},
     "output_type": "display_data"
    },
    {
     "data": {
      "text/html": [
       "<style> \n",
       "    .output_area {font-size: large} </style>"
      ],
      "text/plain": [
       "<IPython.core.display.HTML object>"
      ]
     },
     "metadata": {},
     "output_type": "display_data"
    }
   ],
   "source": [
    "!wget -q -O iris.csv https://raw.githubusercontent.com/cmalliopoulos/PfBDAaML/master/iris.csv\n",
    "\n",
    "%%capture --no-display\n",
    "%run changeNBLayout.py"
   ]
  },
  {
   "cell_type": "markdown",
   "metadata": {},
   "source": [
    "# ML capstone exercise #\n",
    "---------------------------------------\n",
    "Use Fisher's iris dataset to create a tree classifier and test the classification performance.  \n",
    "  \n",
    "__Read the dataset into a dataframe__  \n",
    "The dataset is not in exact tabular format. Its first line contains the 5 fields:  \n",
    "1. The number of observations  \n",
    "2. the number of feature columns and  \n",
    "3. the names (labels) of iris species (classes)  \n",
    "  \n",
    "The rest of the lines are comma-separated and contain the input and output features in the following order:  \n",
    "`sepal-length, sepal-width, petal-length, petal-width, class`\n",
    "\n",
    "`$ head -n5 iris.csv`\n",
    "\n",
    "```bash\n",
    "150,4,setosa,versicolor,virginica\n",
    "5.1,3.5,1.4,0.2,0\n",
    "4.9,3.0,1.4,0.2,0\n",
    "4.7,3.2,1.3,0.2,0\n",
    "4.6,3.1,1.5,0.2,0\n",
    "```"
   ]
  },
  {
   "cell_type": "markdown",
   "metadata": {},
   "source": [
    "### Import the necessary libraries ###\n",
    "pandas, DecisionTreeClassifier, train_test_split, classification_report, confusion_matrix, pyplot and seaborn  \n",
    "Use web search to see how to do this"
   ]
  },
  {
   "cell_type": "code",
   "execution_count": 3,
   "metadata": {},
   "outputs": [],
   "source": [
    "%matplotlib inline\n",
    "\n",
    "from os import linesep as endl\n",
    "\n",
    "import pandas as pd\n",
    "from sklearn.tree import DecisionTreeClassifier\n",
    "from sklearn.model_selection import train_test_split\n",
    "from sklearn.metrics import classification_report, confusion_matrix\n",
    "\n",
    "import matplotlib.pyplot as plt\n",
    "import seaborn as sns"
   ]
  },
  {
   "cell_type": "markdown",
   "metadata": {},
   "source": [
    "### 1. Data transformation ###\n",
    "Use your notebook's help system to see how to read the dataset into a dataframe.  \n",
    "Assign names to the columns of the dataframe as indicated above.\n"
   ]
  },
  {
   "cell_type": "code",
   "execution_count": 4,
   "metadata": {},
   "outputs": [],
   "source": [
    "data = pd.read_csv('iris.csv', header = None, skiprows = 1)\n",
    "data.columns = ['sepal-length', 'sepal-width', 'petal-length', 'petal-width', 'class']"
   ]
  },
  {
   "cell_type": "markdown",
   "metadata": {},
   "source": [
    "Separate input and output observations, then create train and test datasets using sklearn's `train_test_split` function"
   ]
  },
  {
   "cell_type": "code",
   "execution_count": 5,
   "metadata": {},
   "outputs": [],
   "source": [
    "X = data.drop('class', axis = 1)\n",
    "y = data['class']\n",
    "\n",
    "X_train, X_test, y_train, y_test = train_test_split(X, y, test_size = 0.30)"
   ]
  },
  {
   "cell_type": "markdown",
   "metadata": {},
   "source": [
    "### 2. Model fit ###\n",
    "Instantiate a `DecisionTreeClassifier` with the defaul parameters and fir it over the trainset.\n",
    "Use the instance's `score` method to check the classification score\n"
   ]
  },
  {
   "cell_type": "code",
   "execution_count": 6,
   "metadata": {},
   "outputs": [],
   "source": [
    "classifier = DecisionTreeClassifier().fit(X_train, y_train)"
   ]
  },
  {
   "cell_type": "markdown",
   "metadata": {},
   "source": [
    "### 3. Predictions ###\n",
    "Use the instance's `predict` method to get the predictions over the test set.  \n",
    "Then use sklearn's `classification_report` function with the actual and predicted test-set values to derive precision, recall and F-score"
   ]
  },
  {
   "cell_type": "code",
   "execution_count": 7,
   "metadata": {},
   "outputs": [
    {
     "name": "stdout",
     "output_type": "stream",
     "text": [
      "0.933333333333\n",
      "\n",
      "             precision    recall  f1-score   support\n",
      "\n",
      "          0       1.00      1.00      1.00        15\n",
      "          1       0.93      0.88      0.90        16\n",
      "          2       0.87      0.93      0.90        14\n",
      "\n",
      "avg / total       0.93      0.93      0.93        45\n",
      "\n"
     ]
    }
   ],
   "source": [
    "classification = classifier.predict(X_test)\n",
    "\n",
    "print classifier.score(X_test, y_test)\n",
    "print endl, classification_report(y_test, classification)"
   ]
  },
  {
   "cell_type": "markdown",
   "metadata": {},
   "source": [
    "### 4. Plots ###\n",
    "Create a figure with a 1x2 subplot grid to host the following plots:  \n",
    "1. A scatter of sepal-length over sepal-width hued by a binary variable indicating correct or wrong classification.  \n",
    "2. A similar scatter with the pedal-length vs pedal-width  \n",
    "  \n",
    "__Hints:__\n",
    "Create a new column in the dataframe called 'accuracy' with values 1 if the prediction equals actual and 0 otherwise.  \n",
    "Then use this variable to filter the appropriate rows in the dataframe.  \n",
    "Use what we learned in pandas class to calculate the indicator.  \n",
    "  \n",
    "Use jupyter's help system to see how to do the scatterplots  \n",
    "Use pyplot's `subplots` function to create a figure and get references to the subplots.  \n",
    "Then call for each subplot its method `scatter` to do the drawing"
   ]
  },
  {
   "cell_type": "code",
   "execution_count": 8,
   "metadata": {},
   "outputs": [
    {
     "data": {
      "image/png": "[encoded data removed]",
      "text/plain": [
       "<matplotlib.figure.Figure at 0x7f25cae24450>"
      ]
     },
     "metadata": {},
     "output_type": "display_data"
    }
   ],
   "source": [
    "# Draw a scatter of sepal-length vs sepal-width with hued by a binary that is 1 for correct classification and 0 for misclassification\n",
    "# sns.set(context = 'notebook', style = 'dark', font_scale = 1.2)\n",
    "\n",
    "scData = data.copy()\n",
    "scData['predictions'] = classifier.predict(X)\n",
    "\n",
    "correct = scData[scData['class'] == scData['predictions']]\n",
    "wrong = scData[scData['class'] != scData['predictions']]\n",
    "\n",
    "with plt.style.context('ggplot'):\n",
    "    f, ax = plt.subplots(1, 2, figsize = [14, 6])\n",
    "    ax[0].scatter(correct['sepal-width'], correct['sepal-length'], c = 'red', edgecolors = 'red', alpha = .4)\n",
    "    ax[0].scatter(wrong['sepal-width'], wrong['sepal-length'], c = 'blue', edgecolors = 'blue', alpha = .4)\n",
    "    ax[1].scatter(correct['petal-width'], correct['petal-length'], c = 'red', edgecolors = 'red', alpha = .4)\n",
    "    ax[1].scatter(wrong['petal-width'], wrong['petal-length'], c = 'blue', edgecolors = 'blue', alpha = .4)\n"
   ]
  },
  {
   "cell_type": "markdown",
   "metadata": {},
   "source": [
    "--------------------\n",
    "# Extra plot #"
   ]
  },
  {
   "cell_type": "code",
   "execution_count": 78,
   "metadata": {},
   "outputs": [
    {
     "data": {
      "image/png": "[encoded data removed]",
      "text/plain": [
       "<matplotlib.figure.Figure at 0x7f1af3b0cf10>"
      ]
     },
     "metadata": {},
     "output_type": "display_data"
    }
   ],
   "source": [
    "# Another visualization showing the classification quality per class:\n",
    "\n",
    "sns.set(context = 'notebook', style = 'dark', font_scale = 1.2)\n",
    "\n",
    "dTruths = data.copy()\n",
    "dTruths['source'] = 'Truths'\n",
    "\n",
    "dPreds = data.copy()\n",
    "dPreds['class'] = classifier.predict(X)\n",
    "dPreds['source'] = 'Preds'\n",
    "df = pd.concat([dTruths, dPreds], axis = 0)\n",
    "\n",
    "fg = sns.FacetGrid(data = df, col = 'class', hue = 'source', size = 5, palette = 'Set1', sharey = False)\n",
    "_ = fg.map(plt.scatter, 'sepal-length', 'sepal-width', alpha = .5)"
   ]
  },
  {
   "cell_type": "code",
   "execution_count": null,
   "metadata": {},
   "outputs": [],
   "source": []
  }
 ],
 "metadata": {
  "kernelspec": {
   "display_name": "Python 2",
   "language": "python",
   "name": "python2"
  },
  "language_info": {
   "codemirror_mode": {
    "name": "ipython",
    "version": 2
   },
   "file_extension": ".py",
   "mimetype": "text/x-python",
   "name": "python",
   "nbconvert_exporter": "python",
   "pygments_lexer": "ipython2",
   "version": "2.7.12"
  }
 },
 "nbformat": 4,
 "nbformat_minor": 2
}
