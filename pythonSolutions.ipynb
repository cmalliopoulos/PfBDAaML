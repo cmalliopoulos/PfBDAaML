{
 "cells": [
  {
   "cell_type": "markdown",
   "metadata": {},
   "source": [
    "![MLTrain logo](mltrainLogo.png \"MLTrain logo\")"
   ]
  },
  {
   "cell_type": "code",
   "execution_count": 4,
   "metadata": {},
   "outputs": [
    {
     "data": {
      "text/html": [
       "<style> .container {width: 90%} </style>"
      ],
      "text/plain": [
       "<IPython.core.display.HTML object>"
      ]
     },
     "metadata": {},
     "output_type": "display_data"
    },
    {
     "data": {
      "text/html": [
       "<style> \n",
       "    .text_cell_render {\n",
       "        font-family: \"roboto condensed\"; \n",
       "        line-height: 145%; \n",
       "        font-size: 14pt} </style>"
      ],
      "text/plain": [
       "<IPython.core.display.HTML object>"
      ]
     },
     "metadata": {},
     "output_type": "display_data"
    },
    {
     "data": {
      "text/html": [
       "<style> \n",
       "    .CodeMirror {font-size: large} \n",
       "    .output_area {font-size: large} </style>"
      ],
      "text/plain": [
       "<IPython.core.display.HTML object>"
      ]
     },
     "metadata": {},
     "output_type": "display_data"
    }
   ],
   "source": [
    "# Make changes to default rendering using the IPython API:\n",
    "% run changeNBLayout.py"
   ]
  },
  {
   "cell_type": "markdown",
   "metadata": {},
   "source": [
    "### <span style = \"color: purple\"> Exercise </span> ###\n",
    "\n",
    "``` Python\n",
    "a = 4\n",
    "b = a\n",
    "a = 2\n",
    "```\n",
    "\n",
    "What is the value of b?\n",
    "\n",
    "__Answer__  \n",
    "b holds a reference to a so one could say that _since the value of a changes b would become 2._  \n",
    "But in the third statement above, the value of a does not change. Rather _a_ points to a new reference 2 so b still has value 4.\n"
   ]
  },
  {
   "cell_type": "markdown",
   "metadata": {},
   "source": [
    "### <span style = \"color: purple\"> Exercise </span> ###\n",
    "\n",
    "Given the first 10 letters of the alphabet 'abcdefg', create a dict of lists as  \n",
    "`{'a': ['b', 'c', 'd', 'e', ...], ...}`"
   ]
  },
  {
   "cell_type": "code",
   "execution_count": 10,
   "metadata": {},
   "outputs": [
    {
     "data": {
      "text/plain": [
       "{'a': 'bcdefghijk',\n",
       " 'b': 'cdefghijk',\n",
       " 'c': 'defghijk',\n",
       " 'd': 'efghijk',\n",
       " 'e': 'fghijk',\n",
       " 'f': 'ghijk',\n",
       " 'g': 'hijk',\n",
       " 'h': 'ijk',\n",
       " 'i': 'jk',\n",
       " 'j': 'k'}"
      ]
     },
     "execution_count": 10,
     "metadata": {},
     "output_type": "execute_result"
    }
   ],
   "source": [
    "text = 'abcdefghijk'\n",
    "{text[j]: text[j + 1:] for j in range(len(text) - 1)}"
   ]
  },
  {
   "cell_type": "markdown",
   "metadata": {},
   "source": [
    "### <span style = \"color: purple\"> Exercise </span> ###\n",
    "\n",
    "Using set operations as described in 'Set Operations' section and, the definition of a dummy class that does nothing, find the object attributes that are unique in function objects  \n",
    "  \n",
    "Hint: a dummy class is defined as\n",
    "\n",
    "```Python\n",
    "class Dummy(object): pass\n",
    "```\n",
    "\n",
    "Use `dir(obj)` to get a list of the attributes of an object in Python"
   ]
  },
  {
   "cell_type": "code",
   "execution_count": 9,
   "metadata": {},
   "outputs": [
    {
     "data": {
      "text/plain": [
       "{'__call__',\n",
       " '__closure__',\n",
       " '__code__',\n",
       " '__defaults__',\n",
       " '__get__',\n",
       " '__globals__',\n",
       " '__name__',\n",
       " 'func_closure',\n",
       " 'func_code',\n",
       " 'func_defaults',\n",
       " 'func_dict',\n",
       " 'func_doc',\n",
       " 'func_globals',\n",
       " 'func_name'}"
      ]
     },
     "execution_count": 9,
     "metadata": {},
     "output_type": "execute_result"
    }
   ],
   "source": [
    "class Dummy(object): pass\n",
    "def foo(): pass\n",
    "\n",
    "set(dir(foo)) - set(dir(Dummy))"
   ]
  },
  {
   "cell_type": "code",
   "execution_count": null,
   "metadata": {},
   "outputs": [],
   "source": []
  }
 ],
 "metadata": {
  "kernelspec": {
   "display_name": "Python 2",
   "language": "python",
   "name": "python2"
  },
  "language_info": {
   "codemirror_mode": {
    "name": "ipython",
    "version": 2
   },
   "file_extension": ".py",
   "mimetype": "text/x-python",
   "name": "python",
   "nbconvert_exporter": "python",
   "pygments_lexer": "ipython2",
   "version": "2.7.12"
  }
 },
 "nbformat": 4,
 "nbformat_minor": 2
}
