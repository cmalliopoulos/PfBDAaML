{
 "cells": [
  {
   "cell_type": "code",
   "execution_count": 1,
   "metadata": {},
   "outputs": [
    {
     "data": {
      "text/html": [
       "<style> .container {width: 90%} </style>"
      ],
      "text/plain": [
       "<IPython.core.display.HTML object>"
      ]
     },
     "metadata": {},
     "output_type": "display_data"
    },
    {
     "data": {
      "text/html": [
       "\n",
       "<style> div.cell.selected{\n",
       "    border-left-width: 1px}</style>"
      ],
      "text/plain": [
       "<IPython.core.display.HTML object>"
      ]
     },
     "metadata": {},
     "output_type": "display_data"
    },
    {
     "data": {
      "text/html": [
       "<style> \n",
       "    .text_cell_render {\n",
       "        font-family: \"roboto condensed\"; \n",
       "        line-height: 145%; \n",
       "        font-size: 14pt} </style>"
      ],
      "text/plain": [
       "<IPython.core.display.HTML object>"
      ]
     },
     "metadata": {},
     "output_type": "display_data"
    },
    {
     "data": {
      "text/html": [
       "<style> \n",
       "    .CodeMirror {font-size: large} \n",
       "    .output_area {font-size: large} </style>"
      ],
      "text/plain": [
       "<IPython.core.display.HTML object>"
      ]
     },
     "metadata": {},
     "output_type": "display_data"
    },
    {
     "data": {
      "text/html": [
       "<style> MathJax.Hub.Config {\n",
       "  \"HTML-CSS\": {\n",
       "    preferredFont: \"STIX\"}}</style>"
      ],
      "text/plain": [
       "<IPython.core.display.HTML object>"
      ]
     },
     "metadata": {},
     "output_type": "display_data"
    }
   ],
   "source": [
    "import IPython.core.display as dis\n",
    "from IPython.core.display import HTML, display\n",
    "\n",
    "# Change the default cell width for all cell types (code, raw, markdown, mathJax)\n",
    "display(HTML('<style> .container {width: 90%} </style>'))\n",
    "\n",
    "display(HTML('''\n",
    "<style> div.cell.selected{\n",
    "    border-left-width: 1px}</style>'''))\n",
    "\n",
    "# Change the focnt used by markdown cells\n",
    "# Change the line-spacing between text lines\n",
    "# Change the size of body text in markdown cells\n",
    "display(HTML('''<style> \n",
    "    .text_cell_render {\n",
    "        font-family: \"roboto condensed\"; \n",
    "        line-height: 145%; \n",
    "        font-size: 14pt} </style>'''))\n",
    "\n",
    "# Change the size of text in code cells\n",
    "# Change the size of text in code-cell output\n",
    "display(HTML('''<style> \n",
    "    .CodeMirror {font-size: large} \n",
    "    .output_area {font-size: large} </style>'''))\n",
    "\n",
    "display(HTML('''<style> MathJax.Hub.Config {\n",
    "  \"HTML-CSS\": {\n",
    "    preferredFont: \"STIX\"}}</style>'''))\n"
   ]
  },
  {
   "cell_type": "code",
   "execution_count": null,
   "metadata": {},
   "outputs": [],
   "source": []
  }
 ],
 "metadata": {
  "kernelspec": {
   "display_name": "Python 2",
   "language": "python",
   "name": "python2"
  },
  "language_info": {
   "codemirror_mode": {
    "name": "ipython",
    "version": 2
   },
   "file_extension": ".py",
   "mimetype": "text/x-python",
   "name": "python",
   "nbconvert_exporter": "python",
   "pygments_lexer": "ipython2",
   "version": "2.7.12"
  }
 },
 "nbformat": 4,
 "nbformat_minor": 2
}
