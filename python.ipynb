{
 "cells": [
  {
   "cell_type": "markdown",
   "metadata": {},
   "source": [
    "![MLTrain logo](https://mltrain.cc/wp-content/uploads/2017/11/mltrain_logo-4.png \"MLTrain logo\")"
   ]
  },
  {
   "cell_type": "code",
   "execution_count": 1,
   "metadata": {},
   "outputs": [
    {
     "data": {
      "text/html": [
       "\n",
       "    <style>\n",
       "    @import url('https://fonts.googleapis.com/css?family=Roboto+Condensed');\n",
       "    </style> "
      ],
      "text/plain": [
       "<IPython.core.display.HTML object>"
      ]
     },
     "metadata": {},
     "output_type": "display_data"
    },
    {
     "data": {
      "text/html": [
       "<style> .container {width: 90%} </style>"
      ],
      "text/plain": [
       "<IPython.core.display.HTML object>"
      ]
     },
     "metadata": {},
     "output_type": "display_data"
    },
    {
     "data": {
      "text/html": [
       "\n",
       "    <style> .CodeMirror {font-size: 10.5pt !important} </style>"
      ],
      "text/plain": [
       "<IPython.core.display.HTML object>"
      ]
     },
     "metadata": {},
     "output_type": "display_data"
    },
    {
     "data": {
      "text/html": [
       "\n",
       "    <style> div.cell.selected{border: 0px};</style>"
      ],
      "text/plain": [
       "<IPython.core.display.HTML object>"
      ]
     },
     "metadata": {},
     "output_type": "display_data"
    },
    {
     "data": {
      "text/html": [
       "<style> \n",
       "    .text_cell_render {\n",
       "        font-family: \"Roboto Condensed\"; \n",
       "        line-height: 145%; \n",
       "        font-size: 14pt} </style>"
      ],
      "text/plain": [
       "<IPython.core.display.HTML object>"
      ]
     },
     "metadata": {},
     "output_type": "display_data"
    },
    {
     "data": {
      "text/html": [
       "<style> \n",
       "    .output_area {font-size: large} </style>"
      ],
      "text/plain": [
       "<IPython.core.display.HTML object>"
      ]
     },
     "metadata": {},
     "output_type": "display_data"
    }
   ],
   "source": [
    "!wget -q -O changeNBLayout.py https://raw.githubusercontent.com/cmalliopoulos/PfBDAaML/master/changeNBLayout.py\n",
    "% run changeNBLayout.py"
   ]
  },
  {
   "cell_type": "markdown",
   "metadata": {},
   "source": [
    "# TL;DR #\n",
    "This is a crash course on Python, __focusing on language features that will be used throughout the rest of the lessons__.  \n",
    "  \n",
    "We'll go through the following language features in sequence:\n",
    "1. Literals\n",
    "2. Containers\n",
    "3. Comprehensions and 'Generator Expressions'\n",
    "4. Function Objects and Closures\n",
    "5. The Python data model\n",
    "6. Classes and OO programming\n",
    "  \n",
    "### References ###\n",
    "[Fluent Python](http://shop.oreilly.com/product/0636920032519.do\n",
    " ) from O'Reilly. A great book for mastering Python programming\n",
    " \n",
    " [Python for Data Anaysis](http://shop.oreilly.com/product/0636920023784.do). Probably the best book on Python for scientific computing"
   ]
  },
  {
   "cell_type": "markdown",
   "metadata": {},
   "source": [
    "# Coding Semantics #\n",
    "\n",
    "Python uses whitespace (tabs or spaces) to structure code instead of using braces as in many other languages like C++, Java or R.  \n",
    "A __colon__ (:) denotes the start of an indented code block after which all of the code must be indented by the same amount until the end of the block  \n",
    "__Comments__ start with a hash (#) and include everythin to the end of the line\n",
    "\n",
    "``` Python\n",
    "for x in array:\n",
    "    # This is a comment line\n",
    "    if x < pivot:\n",
    "        less.append(x) # This is comment too\n",
    "    else:\n",
    "        greater.append(x)\n",
    "```"
   ]
  },
  {
   "cell_type": "markdown",
   "metadata": {},
   "source": [
    "---\n",
    "\n",
    "# Literals #\n"
   ]
  },
  {
   "cell_type": "code",
   "execution_count": 4,
   "metadata": {},
   "outputs": [
    {
     "name": "stdout",
     "output_type": "stream",
     "text": [
      "123456\n",
      "1.0 1.0 0.01\n",
      "(1+3j)\n",
      "a abcdefg hijklmnop\n",
      "\u0012@A S.T\n",
      "escaped quote: ' unescaped quote: '\ta\n",
      "\\a\\b\\c\\n\\t\n",
      "\n",
      "Tensorflow MLTrain Athens\n",
      "The first Deep-learning course ever\n",
      "True False\n"
     ]
    }
   ],
   "source": [
    "# integers\n",
    "print 123456\n",
    "\n",
    "# floats\n",
    "print 1., 1.0, 1e-2\n",
    "\n",
    "# complex numbers\n",
    "print 1 + 3.j\n",
    "\n",
    "# strings and characters\n",
    "print 'a', 'abcdefg', \"hijklmnop\"\n",
    "\n",
    "# Strings of Hex and octal codes\n",
    "print '\\x12\\x40\\x41', '\\123\\456\\124'\n",
    "\n",
    "# Strings with and without interpreted backslash\n",
    "print 'escaped quote: \\'', \"unescaped quote: '\\ta\" \n",
    "print r'\\a\\b\\c\\n\\t'\n",
    "\n",
    "# Multiline strings\n",
    "print \"\"\"\n",
    "Tensorflow MLTrain Athens\n",
    "The first Deep-learning course ever\"\"\"\n",
    "\n",
    "# Boolean literals and expressions\n",
    "print True, False"
   ]
  },
  {
   "cell_type": "markdown",
   "metadata": {},
   "source": [
    "# Variables #\n",
    "\n",
    "Variables are defined by assigning them values.  \n",
    "This is called __binding__ in Python because a reference, rather than the actual value is assigned to the variable.  "
   ]
  },
  {
   "cell_type": "code",
   "execution_count": 7,
   "metadata": {},
   "outputs": [
    {
     "name": "stdout",
     "output_type": "stream",
     "text": [
      "True\n"
     ]
    }
   ],
   "source": [
    "x = 1\n",
    "y = 123e-4\n",
    "\n",
    "a = True\n",
    "b = 'MLTrain Athens'\n",
    "\n",
    "# Assignments are quite flexible (or vague) in Python. \n",
    "# More on this later\n",
    "b = a\n",
    "print b"
   ]
  },
  {
   "cell_type": "markdown",
   "metadata": {},
   "source": [
    "# Operators and Expressions #"
   ]
  },
  {
   "cell_type": "code",
   "execution_count": 5,
   "metadata": {},
   "outputs": [
    {
     "name": "stdout",
     "output_type": "stream",
     "text": [
      "123.01 0.99 12300.0 0.0001\n",
      "False True False\n",
      "False\n",
      "0 1 0 -1\n",
      "False True True True False True\n"
     ]
    }
   ],
   "source": [
    "# Arithmetic operators\n",
    "x, y = 123, 1e-2\n",
    "print x + y, 1 - y, x/y, y**2\n",
    "\n",
    "# Logical operators\n",
    "x, y = True, False\n",
    "print x and y, x or y, not x \n",
    "print not (x or y)\n",
    "\n",
    "# Bitwise operators\n",
    "x, y = 1, 0\n",
    "print x & y, x | y, x >> 1, ~y\n",
    "\n",
    "# Relational (comparison) operators\n",
    "x, y = 1, -1\n",
    "print x < y, x <= x, x >= y, x > y, x == y, x != y"
   ]
  },
  {
   "cell_type": "markdown",
   "metadata": {},
   "source": [
    "# Objects and Object References #\n",
    "\n",
    "Every number, string, data structure, function, class, module, exists\n",
    "in the Python interpreter in its own “box” which is referred to as a Python object.  \n",
    "Each object has an associated type (for example, string or function) and internal data.  \n",
    "\n",
    "When we assign values to variables in Python, we actually assign __the memory address__ of (a reference to) the object\n"
   ]
  },
  {
   "cell_type": "code",
   "execution_count": 9,
   "metadata": {},
   "outputs": [
    {
     "name": "stdout",
     "output_type": "stream",
     "text": [
      "[-1, 2, 3]\n"
     ]
    }
   ],
   "source": [
    "# All assignments copy references to objects e.g.\n",
    "a = [1, 2, 3]\n",
    "b = a\n",
    "\n",
    "a[0] = -1\n",
    "print b"
   ]
  },
  {
   "cell_type": "code",
   "execution_count": 10,
   "metadata": {},
   "outputs": [
    {
     "data": {
      "text/plain": [
       "(5764607523034235, 576460752303423488)"
      ]
     },
     "execution_count": 10,
     "metadata": {},
     "output_type": "execute_result"
    }
   ],
   "source": [
    "# Even literals are objects and as such have attributes and methods\n",
    "# Calling integer_ratio method on float literal:\n",
    "1e-2.as_integer_ratio()"
   ]
  },
  {
   "cell_type": "markdown",
   "metadata": {},
   "source": [
    "### <span style = \"color: red\"> Quiz </span> ###\n",
    "\n",
    "``` Python\n",
    "a = 4\n",
    "b = a\n",
    "a = 2\n",
    "```\n",
    "\n",
    "What is the value of b?"
   ]
  },
  {
   "cell_type": "markdown",
   "metadata": {},
   "source": [
    "# Function calls and arguments #\n",
    "\n",
    "A function named `foo` taking two arguments a and b and returning val is defined as follows:  \n",
    "\n",
    "``` Python\n",
    "def foo(a, b):\n",
    "    # function body statements\n",
    "    return val\n",
    "```\n",
    "\n",
    "`foo` can be called either as  \n",
    "  \n",
    "`foo(2, 3)`  \n",
    "or  \n",
    "`foo(2, b = 3)`  \n",
    "or  \n",
    "`foo(a = 2, b = 3)`\n",
    "  \n",
    "In the last call a and b are refered to as _keyword arguments_  \n",
    "In the first call as _positional arguments_.\n",
    "  \n",
    "__NB:__ Postitional arguments cannot follow keyword arguments"
   ]
  },
  {
   "cell_type": "markdown",
   "metadata": {},
   "source": [
    "---\n",
    "# Containers #"
   ]
  },
  {
   "cell_type": "markdown",
   "metadata": {},
   "source": [
    "### Lists ###\n",
    "\n",
    "1. Lists are __mutable__ sequences of objects.  \n",
    "2. Lists hold references to the contained objects, so they can store elements of different types, including other lists (ie list of lists)\n"
   ]
  },
  {
   "cell_type": "code",
   "execution_count": 6,
   "metadata": {},
   "outputs": [
    {
     "name": "stdout",
     "output_type": "stream",
     "text": [
      "[1, 2, 3, 4] \n",
      "\n",
      "[1, 2, 3, 4, 'five'] \n",
      "\n",
      "[0.0, 1, 2, 3, 4, 'five']\n"
     ]
    }
   ],
   "source": [
    "from os import linesep as endl\n",
    "\n",
    "lis = [1, 2, 3, 4]\n",
    "print lis, endl\n",
    "\n",
    "lis.append('five')\n",
    "print lis, endl\n",
    "\n",
    "lis.insert(0, 0.)\n",
    "print lis"
   ]
  },
  {
   "cell_type": "markdown",
   "metadata": {},
   "source": [
    "------------------------------\n",
    "### List methods and operators ###"
   ]
  },
  {
   "cell_type": "code",
   "execution_count": 7,
   "metadata": {},
   "outputs": [
    {
     "name": "stdout",
     "output_type": "stream",
     "text": [
      "6 2 2\n",
      "\n",
      "[0.0, 1, 2, 3, 4, 'five', 0.0, 1, 2, 3, 4, 'five'] \n",
      "[0.0, 1, 2, 3, 4, 'five', 0.0, 1, 2, 3, 4, 'five', 0.0, 1, 2, 3, 4, 'five']\n"
     ]
    }
   ],
   "source": [
    "# List methods\n",
    "print len(lis), lis.index(2), (lis * 2).count(lis.index(0))\n",
    "\n",
    "# List operators\n",
    "print endl, lis + lis, endl, lis * 3"
   ]
  },
  {
   "cell_type": "markdown",
   "metadata": {},
   "source": [
    "-----------------\n",
    "### List Indexing ###\n",
    "  \n",
    "Subsets of list elements (shards) are defined by __3 numbers__ separated by semicolons: __starting:ending:step__  \n",
    "Any of them can be negative  \n",
    "A negative _starting_ or _ending_ number means _list-end_ minus the _number_  \n",
    "A negative _step_ means `move backwards`"
   ]
  },
  {
   "cell_type": "code",
   "execution_count": 8,
   "metadata": {},
   "outputs": [
    {
     "name": "stdout",
     "output_type": "stream",
     "text": [
      "['a', 'b', 'c', 'd', 'e'] \n",
      "['f', 'g', 'h', 'i', 'j', 'k', 'l', 'm']\n",
      "\n",
      "['b', 'c', 'd', 'e', 'f', 'g', 'h', 'i', 'j', 'k', 'l']\n",
      "\n",
      "Traversing backwards by 2 from (last - 1) to the 2nd element\n",
      "['m', 'k', 'i', 'g', 'e', 'c']\n",
      "\n",
      "Reversed list\n",
      "['m', 'l', 'k', 'j', 'i', 'h', 'g', 'f', 'e', 'd', 'c', 'b', 'a']\n"
     ]
    }
   ],
   "source": [
    "# List ctor from string\n",
    "lis = list('abcdefghijklm')\n",
    "\n",
    "print lis[:5], endl, lis[5:] \n",
    "print endl, lis[1:-1] \n",
    "\n",
    "print endl + 'Traversing backwards by 2 from (last - 1) to the 2nd element'\n",
    "print lis[-1: 1: -2] \n",
    "\n",
    "print endl + 'Reversed list'\n",
    "print lis[::-1]"
   ]
  },
  {
   "cell_type": "markdown",
   "metadata": {},
   "source": [
    "----------------\n",
    "### Tuples ###\n",
    "Tuples are  __immutable__  sequences of objects.  \n",
    "Tuples also hold references to their elements, thereby being able to contain objects of any type, including themselves  \n",
    "  \n",
    "What is the use of immutability?  \n",
    "Internally a hash code is associated with each immutable object so that the object can be used as key in other structures described later (namely dictionaries and sets)."
   ]
  },
  {
   "cell_type": "code",
   "execution_count": 9,
   "metadata": {},
   "outputs": [
    {
     "name": "stdout",
     "output_type": "stream",
     "text": [
      "Throws a TypeError with message: 'tuple' object does not support item assignment\n",
      "0\n",
      "2\n",
      "(1, 3, 5, 7, 9, 11, 1, 3, 5, 7, 9, 11, 1, 3, 5, 7, 9, 11, 1, 3, 5, 7, 9, 11) \n",
      "(1, 3, 5, 7, 9, 11, 1, 3, 5, 7, 9, 11)\n"
     ]
    }
   ],
   "source": [
    "tup = tuple(range(1, 12, 2))\n",
    "\n",
    "# immutability\n",
    "try: \n",
    "    tup[0] = 4\n",
    "except TypeError, e: \n",
    "    print 'Throws a TypeError with message:', str(e)\n",
    "\n",
    "# Tuple methods:\n",
    "# 'count(value)' returns the number of occurances of value in tuple\n",
    "print tup.count(2)\n",
    "# 'index' returns the position of value in tuple (or in the part of the tuple between 'start' and 'stop')\n",
    "print tup.index(5, 1, 4)\n",
    "\n",
    "# Tuple operators\n",
    "print tup * 4, endl, tup + tup"
   ]
  },
  {
   "cell_type": "markdown",
   "metadata": {},
   "source": [
    "### Tuple unpacking ###\n",
    "It is the automatic assignment of tuple members to variables.  \n",
    "The tuple members and the variables can be tuples themselves, thereby permitting nested unpackings"
   ]
  },
  {
   "cell_type": "code",
   "execution_count": 10,
   "metadata": {},
   "outputs": [
    {
     "name": "stdout",
     "output_type": "stream",
     "text": [
      "('Athens', 'PFBDAML101', 2017, 16)\n",
      "Athens PFBDAML101 2017 16\n",
      "(2017, 16)\n"
     ]
    }
   ],
   "source": [
    "tup = ('Athens', 'PFBDAML101', 2017, 16)\n",
    "\n",
    "city, title, year, hrs = tup\n",
    "yearHrs = tup[-2:]\n",
    "\n",
    "print tup\n",
    "print city, title, year, hrs\n",
    "print yearHrs"
   ]
  },
  {
   "cell_type": "code",
   "execution_count": 14,
   "metadata": {},
   "outputs": [
    {
     "name": "stdout",
     "output_type": "stream",
     "text": [
      "20 10\n"
     ]
    }
   ],
   "source": [
    "# Interesting: Swap values in one step using tuple unpacking\n",
    "a, b = 10, 20\n",
    "b, a = a, b\n",
    "print a, b"
   ]
  },
  {
   "cell_type": "markdown",
   "metadata": {},
   "source": [
    "----------------------\n",
    "### Dictionaries ###\n",
    "Dictionaries are mutable key-value collections.  "
   ]
  },
  {
   "cell_type": "code",
   "execution_count": 16,
   "metadata": {},
   "outputs": [
    {
     "name": "stdout",
     "output_type": "stream",
     "text": [
      "1 (1, 1, 1)\n",
      "[2, 3.0, 'one'] ['two', (1, 1, 1), 1]\n",
      "[(2, 'two'), (3.0, (1, 1, 1)), ('one', 1)]\n"
     ]
    }
   ],
   "source": [
    "di = {'one': 1, 2: 'two', 3.: (1, 1, 1)}\n",
    "print di['one'], di.get(3.)\n",
    "print di.keys(), di.values()\n",
    "print di.items()"
   ]
  },
  {
   "cell_type": "markdown",
   "metadata": {},
   "source": [
    "### Sets ###\n",
    "Sets are collections of unique hashable objects of any type.  \n",
    "Sets implement standard set operations as methods: union, interection, difference and symmetric_difference  \n",
    "Use sets to discard duplicates or when seeking an efficient 'in' operator"
   ]
  },
  {
   "cell_type": "code",
   "execution_count": 17,
   "metadata": {},
   "outputs": [
    {
     "name": "stdout",
     "output_type": "stream",
     "text": [
      "set([0, 1, 2, 3, 4, 5, 6, 7, 8, 9])\n",
      "True\n",
      "I don't support indexing: ('set' object does not support indexing)\n"
     ]
    }
   ],
   "source": [
    "s = set(range(10) * 2)\n",
    "print s\n",
    "\n",
    "print True if 3 in s else False\n",
    "\n",
    "# Sets do not support indexing\n",
    "try: \n",
    "    s[0]\n",
    "except TypeError, te:\n",
    "    print \"I don't support indexing: (\" + str(te) + \")\""
   ]
  },
  {
   "cell_type": "markdown",
   "metadata": {},
   "source": [
    "### Set Operations ###"
   ]
  },
  {
   "cell_type": "code",
   "execution_count": 18,
   "metadata": {},
   "outputs": [
    {
     "name": "stdout",
     "output_type": "stream",
     "text": [
      "set([4, 5, 6, 7, 8, 9, 10, 11])\n",
      "set([])\n",
      "set([0, 1, 2, 3, 4, 5, 6, 7, 8, 9, 10, 11])\n",
      "2 in s1\n"
     ]
    }
   ],
   "source": [
    "s1 = set(range(12))\n",
    "s2 = {1, 1, 2, 3, 0}\n",
    "\n",
    "# Set difference\n",
    "print set.difference(s1, s2)\n",
    "\n",
    "# Intersection\n",
    "print set.intersection(s1, set.difference(s2, s1))\n",
    "\n",
    "# Union\n",
    "print set.union(s1, s2)\n",
    "\n",
    "# Membership test\n",
    "if 2 in s1: print '2 in s1' \n",
    "else: print '2 not in s1'"
   ]
  },
  {
   "cell_type": "markdown",
   "metadata": {},
   "source": [
    "--------------------------------------------------------------------------\n",
    "# 3. List, dict and set comprehensions #\n",
    "\n",
    "Jargon: List comprehensions are also refered to as `listcomps`\n",
    "  \n",
    "Comprehensions construct lists, dicts and sets by wrapping nested for-loops and if-then statements elegantly  "
   ]
  },
  {
   "cell_type": "code",
   "execution_count": 12,
   "metadata": {},
   "outputs": [
    {
     "name": "stdout",
     "output_type": "stream",
     "text": [
      "Filtered for-loop: \n",
      "[94, 38, 42]\n",
      "\n",
      "Listcomp \n",
      "[94, 38, 42]\n"
     ]
    }
   ],
   "source": [
    "# List comprehensions\n",
    "symbols = '~!@#$%^&*'\n",
    "\n",
    "# for loop:\n",
    "res = []\n",
    "for sym in symbols:\n",
    "    if sym in '^&*':\n",
    "        res.append(ord(sym))\n",
    "print 'Filtered for-loop:', endl, res\n",
    "\n",
    "# Listcomp\n",
    "res = [ord(sym) for sym in symbols if sym in '^&*']\n",
    "print endl, 'Listcomp', endl, res"
   ]
  },
  {
   "cell_type": "code",
   "execution_count": 13,
   "metadata": {},
   "outputs": [
    {
     "name": "stdout",
     "output_type": "stream",
     "text": [
      "{'*': 42, '&': 38, '^': 94}\n"
     ]
    }
   ],
   "source": [
    "# Dictcomps\n",
    "print {sym: ord(sym) for sym in symbols if sym in '^&*'}"
   ]
  },
  {
   "cell_type": "code",
   "execution_count": 17,
   "metadata": {},
   "outputs": [
    {
     "name": "stdout",
     "output_type": "stream",
     "text": [
      "multiSymbols: \n",
      "['#', '%', '@', '$', '~', '&', '^', '@', '*', '&', '&', '$', '*', '!', '^', '~', '^', '!', '@', '*', '%', '#', '~', '#', '$', '!', '%']\n",
      "\n",
      "Setcomp removes duplicate entries: \n",
      "set([42, 94, 38])\n"
     ]
    }
   ],
   "source": [
    "# Set comprehensions\n",
    "import random as ran\n",
    "\n",
    "multiSymbols = list(symbols * 3)\n",
    "ran.shuffle(multiSymbols)\n",
    "\n",
    "print 'multiSymbols:', endl, multiSymbols\n",
    "print endl, 'Setcomp removes duplicate entries:', endl, {ord(sym) for sym in multiSymbols if sym in '^&*'}\n"
   ]
  },
  {
   "cell_type": "markdown",
   "metadata": {},
   "source": [
    "<div style = \"color: darkred; font-size: 200%; font-weight: bold;  text-decoration: underline\"> Exercise </div>\n",
    "\n",
    "Given the first 10 letters of the alphabet 'abcdefg', create a dict of lists as  \n",
    "`{'a': ['b', 'c', 'd', 'e', ...], ...}`  \n",
    "  \n",
    "The list of letters is defined as:  \n",
    "`letters = 'abcdefg'` "
   ]
  },
  {
   "cell_type": "raw",
   "metadata": {},
   "source": [
    "# This is teacher's notes. You won't be able to do anything here\n",
    "%load -s python1 solutions.py"
   ]
  },
  {
   "cell_type": "markdown",
   "metadata": {},
   "source": [
    "---------------------\n",
    "# 4. Generator Expressions #\n",
    "Generator expressions work like comprehensions with the notable difference that they generate contained values upon request.  \n",
    "  \n",
    "This is particularely useful when multiple trainsformations must be applied to an initial dataset because it __eliminates copies of the intermediate results__\n"
   ]
  },
  {
   "cell_type": "code",
   "execution_count": 22,
   "metadata": {},
   "outputs": [
    {
     "name": "stdout",
     "output_type": "stream",
     "text": [
      "0 1 4 9 16 25 36 49 64 81 100 121\n",
      "0 1 4 9 16 25 36 49 64 81\n"
     ]
    }
   ],
   "source": [
    "# xrange is a built in returning a generator\n",
    "for t in xrange(10000000):\n",
    "    print t ** 2,\n",
    "    if t > 10: print; break\n",
    "\n",
    "# DO NOT try the following with large values\n",
    "for t in range(10):\n",
    "    print t ** 2,\n"
   ]
  },
  {
   "cell_type": "markdown",
   "metadata": {},
   "source": [
    "### Creating generator expressions ###"
   ]
  },
  {
   "cell_type": "code",
   "execution_count": 23,
   "metadata": {},
   "outputs": [],
   "source": [
    "def xrangeEmulator(upper_):\n",
    "    i = 0\n",
    "    while i < upper_: \n",
    "        yield i\n",
    "        i += 1"
   ]
  },
  {
   "cell_type": "code",
   "execution_count": 24,
   "metadata": {},
   "outputs": [
    {
     "name": "stdout",
     "output_type": "stream",
     "text": [
      "0 1 4 9 16 25 36 49 64 81 100 121\n"
     ]
    }
   ],
   "source": [
    "for i in xrangeEmulator(100000000):\n",
    "    print i**2,\n",
    "    if i > 10: break"
   ]
  },
  {
   "cell_type": "markdown",
   "metadata": {},
   "source": [
    "# 5. Functions and Function Objects #\n",
    "\n",
    "- Functions are created with the statement `def <name>(<arguments>)`  \n",
    "- Since Python is dynamicly typed (objects obtain type during instantiation or binding), functions can return different types and the types of their arguments can vary"
   ]
  },
  {
   "cell_type": "code",
   "execution_count": 25,
   "metadata": {},
   "outputs": [
    {
     "name": "stdout",
     "output_type": "stream",
     "text": [
      "3628800\n",
      "1\n",
      "q\n",
      "set([1, 2, 3])\n",
      "100.0\n",
      "True\n"
     ]
    }
   ],
   "source": [
    "# A recursive function\n",
    "def factorial(n_):\n",
    "    ''' Returns the factorial of a number \n",
    "    '''\n",
    "    return n_ * factorial(n_ - 1) if n_ > 1 else 1\n",
    "\n",
    "print factorial(10)\n",
    "\n",
    "# A function accepting args of different types and returning objects of different types:\n",
    "def firstElement(arg_):\n",
    "    return arg_[0] if isinstance(arg_, (list, tuple, dict, str)) else arg_\n",
    "\n",
    "print firstElement([1,2])\n",
    "print firstElement('qwerty')\n",
    "print firstElement({1, 2, 3})\n",
    "print firstElement(1e2)\n",
    "print firstElement(True)\n"
   ]
  },
  {
   "cell_type": "markdown",
   "metadata": {},
   "source": [
    "### Function Objects ###\n",
    "\n",
    "In PL theory a function is an object if it can be:\n",
    "- assigned to a variable or an element of a data structure\n",
    "- passed as a function argument\n",
    "- returned as a result from a function"
   ]
  },
  {
   "cell_type": "code",
   "execution_count": 26,
   "metadata": {},
   "outputs": [
    {
     "data": {
      "text/plain": [
       "120"
      ]
     },
     "execution_count": 26,
     "metadata": {},
     "output_type": "execute_result"
    }
   ],
   "source": [
    "x = factorial\n",
    "x(5)"
   ]
  },
  {
   "cell_type": "code",
   "execution_count": 27,
   "metadata": {},
   "outputs": [
    {
     "name": "stdout",
     "output_type": "stream",
     "text": [
      "{'myAttr': True}\n"
     ]
    }
   ],
   "source": [
    "# We can assign arbitrary atributes to functions\n",
    "x.myAttr = True\n",
    "print x.__dict__"
   ]
  },
  {
   "cell_type": "code",
   "execution_count": 18,
   "metadata": {},
   "outputs": [
    {
     "name": "stdout",
     "output_type": "stream",
     "text": [
      "['__abs__', '__add__', '__and__', '__class__', '__cmp__', '__coerce__', '__delattr__', '__div__', '__divmod__', '__doc__', '__float__', '__floordiv__', '__format__', '__getattribute__', '__getnewargs__', '__hash__', '__hex__', '__index__', '__init__', '__int__', '__invert__', '__long__', '__lshift__', '__mod__', '__mul__', '__neg__', '__new__', '__nonzero__', '__oct__', '__or__', '__pos__', '__pow__', '__radd__', '__rand__', '__rdiv__', '__rdivmod__', '__reduce__', '__reduce_ex__', '__repr__', '__rfloordiv__', '__rlshift__', '__rmod__', '__rmul__', '__ror__', '__rpow__', '__rrshift__', '__rshift__', '__rsub__', '__rtruediv__', '__rxor__', '__setattr__', '__sizeof__', '__str__', '__sub__', '__subclasshook__', '__truediv__', '__trunc__', '__xor__', 'bit_length', 'conjugate', 'denominator', 'imag', 'numerator', 'real']\n"
     ]
    }
   ],
   "source": [
    "# We get ALL the attributes of a funtion object through 'dir' function:\n",
    "print dir(x)"
   ]
  },
  {
   "cell_type": "markdown",
   "metadata": {},
   "source": [
    "<div style = \"color: darkred; font-size: 200%; font-weight: bold;  text-decoration: underline\"> Exercise </div>\n",
    "\n",
    "Using set operations as described in 'Set Operations' section and, the definition of a dummy class that does nothing, find the object attributes that are unique in function objects  \n",
    "  \n",
    "Hint: a dummy class is defined as\n",
    "\n",
    "```Python\n",
    "class Dummy(object): pass\n",
    "```\n",
    "\n",
    "Use `dir(obj)` to get a list of the attributes of an object in Python"
   ]
  },
  {
   "cell_type": "raw",
   "metadata": {},
   "source": [
    "%load -s python2 solutions.py"
   ]
  },
  {
   "cell_type": "markdown",
   "metadata": {},
   "source": [
    "### Unonymous Functions (lambdas) ###"
   ]
  },
  {
   "cell_type": "code",
   "execution_count": 25,
   "metadata": {},
   "outputs": [
    {
     "name": "stdout",
     "output_type": "stream",
     "text": [
      "abcdefg\n"
     ]
    }
   ],
   "source": [
    "# Remove the numeric digits from string\n",
    "import re\n",
    "\n",
    "removeDigits = lambda _: re.sub('[0-9]', '', _)\n",
    "print removeDigits('123456abcdefg789')"
   ]
  },
  {
   "cell_type": "markdown",
   "metadata": {},
   "source": [
    "### Higher-order functions (Closures) ###"
   ]
  },
  {
   "cell_type": "code",
   "execution_count": 27,
   "metadata": {},
   "outputs": [
    {
     "name": "stdout",
     "output_type": "stream",
     "text": [
      "['aaaa', 'foo', 'abab', 'bar', 'card']\n"
     ]
    }
   ],
   "source": [
    "# sort a list of strings based on the number of distinct letters in the string\n",
    "# 'sort' is a higher order function\n",
    "\n",
    "strings = ['foo', 'card', 'bar', 'aaaa', 'abab']\n",
    "strings.sort(key = lambda _: len(set(list(_))))\n",
    "print strings"
   ]
  },
  {
   "cell_type": "markdown",
   "metadata": {},
   "source": [
    "### Closures: Functions as return values ##\n",
    "\n",
    "A function that fabricates and returns a function is called __closure__  \n",
    "Closures are good for generating polymorphic functions and, most important, creating stateful functions"
   ]
  },
  {
   "cell_type": "code",
   "execution_count": 31,
   "metadata": {},
   "outputs": [
    {
     "name": "stdout",
     "output_type": "stream",
     "text": [
      "[False, False, False, True, True, True]\n"
     ]
    }
   ],
   "source": [
    "# A stateful function that keeps track of the arguments it has been called with:\n",
    "from os import linesep as endl\n",
    "\n",
    "def make_watcher():\n",
    "    have_seen = {}\n",
    "\n",
    "    def has_been_seen(x):\n",
    "        if x in have_seen:\n",
    "            return True\n",
    "        else:\n",
    "            have_seen[x] = True\n",
    "        return False\n",
    "\n",
    "    return has_been_seen\n",
    "\n",
    "watcher = make_watcher()\n",
    "print [watcher(_) for _ in range(3) * 2]"
   ]
  },
  {
   "cell_type": "markdown",
   "metadata": {},
   "source": [
    "__Caveat:__  \n",
    "If you try to _rebind_ in the inner function variables declared in the outer function  \n",
    "you get a `local variable referenced before assignment` error  \n",
    "i.e. inner declarations hide the outer\n",
    "  \n",
    "There's no problem if you use the outer var as an lvalue:"
   ]
  },
  {
   "cell_type": "code",
   "execution_count": 28,
   "metadata": {},
   "outputs": [
    {
     "name": "stdout",
     "output_type": "stream",
     "text": [
      "-119\n"
     ]
    }
   ],
   "source": [
    "def rebindFoo():\n",
    "    outerVar = 123\n",
    "    def ret(innerArg): outerVar = innerArg - outerVar; print outerVar\n",
    "    return ret\n",
    "\n",
    "def mutateFoo():\n",
    "    outerVar = [123]\n",
    "    def ret(innerArg): outerVar[0] = innerArg - outerVar[0]; print outerVar[0]\n",
    "    return ret\n",
    "\n",
    "# rebindFoo(123)(4)\n",
    "mutateFoo()(4)\n"
   ]
  },
  {
   "cell_type": "markdown",
   "metadata": {},
   "source": [
    "<div style = \"color: darkred; font-size: 200%; font-weight: bold; text-decoration: underline\"> Capstone Exercise </div>\n",
    "\n",
    "Starting with a random set of 80 characters create a random text of 10 lines of 10 words each.  \n",
    "Each word will be of random length in the range 1..8  \n",
    "  \n",
    "Use the `ran.randint(start, stop)` to peak a random number in the range start..stop"
   ]
  },
  {
   "cell_type": "raw",
   "metadata": {},
   "source": [
    "%load -s pythonCapstone solutions.py"
   ]
  },
  {
   "cell_type": "code",
   "execution_count": null,
   "metadata": {},
   "outputs": [],
   "source": []
  }
 ],
 "metadata": {
  "kernelspec": {
   "display_name": "Python 2",
   "language": "python",
   "name": "python2"
  },
  "language_info": {
   "codemirror_mode": {
    "name": "ipython",
    "version": 2
   },
   "file_extension": ".py",
   "mimetype": "text/x-python",
   "name": "python",
   "nbconvert_exporter": "python",
   "pygments_lexer": "ipython2",
   "version": "2.7.12"
  }
 },
 "nbformat": 4,
 "nbformat_minor": 2
}
