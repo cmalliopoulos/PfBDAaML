{
 "cells": [
  {
   "cell_type": "markdown",
   "metadata": {},
   "source": [
    "![MLTrain logo](https://mltrain.cc/wp-content/uploads/2017/11/mltrain_logo-4.png \"MLTrain logo\")"
   ]
  },
  {
   "cell_type": "markdown",
   "metadata": {},
   "source": [
    "# General Jupyter References: #\n",
    "### Basics: ###\n",
    "http://jupyter-notebook.readthedocs.io/en/stable/examples/Notebook/Notebook%20Basics.html  \n",
    "### Manual: ###\n",
    "https://jupyter-notebook.readthedocs.io/en/latest/\n"
   ]
  },
  {
   "cell_type": "markdown",
   "metadata": {},
   "source": [
    "# TL;DR #\n",
    "__Jupyter Notebook__ is a GUI for Python development, particularely suited for interactive data analysis.  \n",
    "  \n",
    "It facilitates what is called _reproducible research_ by permitting the mix of executable code, graphics and rich text formats in a single shareable document  \n",
    "\n",
    "--------------------------------------------\n",
    "\n",
    "Developer teams can __collaborate__ over shared and versioned Jupyter notebooks residing on a Jupyter notebook server called [Jupyter Hub](https://github.com/jupyterhub/jupyterhub).  \n",
    "  \n",
    "__Jupyter Hubs__ integrate with __LDAP and Active Directory__ for user authentication and access control through a freely available [addon](https://github.com/jupyterhub/ldapauthenticator)\n",
    "  \n",
    "Jupyter Hub is an open-source project (like Jupyter) hosted on Github\n",
    "  \n",
    "Notebooks can even be _imported as Python modules_ into client executables  "
   ]
  },
  {
   "cell_type": "markdown",
   "metadata": {},
   "source": [
    "# History #\n",
    "Jupyter started as the \"IPython project\" at 2001 by Fernando Perez.  \n",
    "Since then it has gained acceptance as the main enviroment for doing data science with Python.  \n",
    "It is now called the \"Jupyter project\" and except from Python it supports other languages as R, Ruby, Django, Julia and others.  "
   ]
  },
  {
   "cell_type": "markdown",
   "metadata": {},
   "source": [
    "# Why Jupyter? #\n",
    "Consider for a moment how we use to communicate are code: we write accompanying docs to explain passages and share code snippets in mails.  \n",
    "  \n",
    "One could say that we can also write proper comments inline and communicate the source file.  \n",
    "  \n",
    "<div style = \"background: #BF4040; color: white\">\n",
    "This is the same as saying that we can communicate our documents using the notepad! not very convincing\n",
    "</div>\n",
    "\n",
    "Jupyter is also __open__ and __free-licensed__."
   ]
  },
  {
   "cell_type": "markdown",
   "metadata": {},
   "source": [
    "------------------------------\n",
    "# Cell layout configuration #\n",
    "Jupyter NB clients are generally configured through a set of configuration files, several of which are .css style-sheets.  \n",
    "You may either modify the contents of the style-sheets (ie configure globaly) or you can take advantage of  \n",
    "__the IPython module__ and make configurations per NB session as below:"
   ]
  },
  {
   "cell_type": "code",
   "execution_count": 1,
   "metadata": {},
   "outputs": [
    {
     "data": {
      "text/html": [
       "\n",
       "    <style>\n",
       "    @import url('https://fonts.googleapis.com/css?family=Roboto+Condensed');\n",
       "    </style> "
      ],
      "text/plain": [
       "<IPython.core.display.HTML object>"
      ]
     },
     "metadata": {},
     "output_type": "display_data"
    },
    {
     "data": {
      "text/html": [
       "<style> .container {width: 90%} </style>"
      ],
      "text/plain": [
       "<IPython.core.display.HTML object>"
      ]
     },
     "metadata": {},
     "output_type": "display_data"
    },
    {
     "data": {
      "text/html": [
       "\n",
       "    <style> .CodeMirror {font-size: 10.5pt !important} </style>"
      ],
      "text/plain": [
       "<IPython.core.display.HTML object>"
      ]
     },
     "metadata": {},
     "output_type": "display_data"
    },
    {
     "data": {
      "text/html": [
       "\n",
       "    <style> div.cell.selected{border: 0px};</style>"
      ],
      "text/plain": [
       "<IPython.core.display.HTML object>"
      ]
     },
     "metadata": {},
     "output_type": "display_data"
    },
    {
     "data": {
      "text/html": [
       "<style> \n",
       "    .text_cell_render {\n",
       "        font-family: \"Roboto Condensed\"; \n",
       "        line-height: 145%; \n",
       "        font-size: 14pt} </style>"
      ],
      "text/plain": [
       "<IPython.core.display.HTML object>"
      ]
     },
     "metadata": {},
     "output_type": "display_data"
    },
    {
     "data": {
      "text/html": [
       "<style> \n",
       "    .output_area {font-size: large} </style>"
      ],
      "text/plain": [
       "<IPython.core.display.HTML object>"
      ]
     },
     "metadata": {},
     "output_type": "display_data"
    }
   ],
   "source": [
    "import IPython.core.display as dis\n",
    "from IPython.core.display import HTML, display\n",
    "\n",
    "display(HTML('''\n",
    "    <style>\n",
    "    @import url('https://fonts.googleapis.com/css?family=Roboto+Condensed');\n",
    "    </style> '''))\n",
    "\n",
    "# Change the default cell width for all cell types (code, raw, markdown, mathJax)\n",
    "display(HTML('<style> .container {width: 90%} </style>'))\n",
    "\n",
    "display(HTML('''\n",
    "    <style> .CodeMirror {font-size: 10.5pt !important} </style>'''))\n",
    "\n",
    "display(HTML('''\n",
    "    <style> div.cell.selected{border: 0px};</style>'''))\n",
    "\n",
    "# Change the font used by markdown cells\n",
    "# Change the line-spacing between text lines\n",
    "# Change the size of body text in markdown cells\n",
    "display(HTML('''<style> \n",
    "    .text_cell_render {\n",
    "        font-family: \"Roboto Condensed\"; \n",
    "        line-height: 145%; \n",
    "        font-size: 14pt} </style>'''))\n",
    "\n",
    "# Change the size of text in code cells\n",
    "# Change the size of text in code-cell output\n",
    "display(HTML('''<style> \n",
    "    .output_area {font-size: large} </style>'''))\n"
   ]
  },
  {
   "cell_type": "markdown",
   "metadata": {},
   "source": [
    "# Invocation #\n",
    "`$ jupyter notebook` will open a new tab in the user's default web browser at `http:://localhost:8888`  \n",
    "\n",
    "If you're on Windows and have installed Anaconda's distribution of Python, there will be an icon in the startup menu for this  \n",
    "\n",
    "Upon your first execution of jupyter notebook, copy the token provided at the command-line and paste it into your browser. It will create a cookie that is used thereafter for pass-through authentication\n"
   ]
  },
  {
   "cell_type": "markdown",
   "metadata": {},
   "source": [
    "# Basic editor shorcuts #\n",
    "----\n",
    "`Esc` sets the editor to __command mode__  \n",
    "`Enter` sets the editor to __editing mode__  \n",
    "  \n",
    "`Esc` followed by:  \n",
    "`Shift+Enter` executes the current cell  \n",
    "`b` inserts a new __code cell__ below  \n",
    "`a` inserts a new code cell above\n",
    "`m` changes a cell type to __markdown__  \n",
    "`y` changes a cell type to __code__  \n",
    "`r` changes a cell type to __raw__\n",
    "`h` displays the help window  \n",
    "`p` or `Shift+Ctrl+P` displays the __command menu__ dropdown  \n",
    "`l` toggles line numbering on for the selected code cell  \n",
    "`Shift + l` toggles line numbering in for all code cells  \n",
    "`D + D` deletes the selected cell  \n",
    "`z` undoes cell deletion\n",
    "\n",
    "\n",
    "\n",
    "`o` toggles cell output  \n",
    "`Shift+o` toggles scrolling of cell output"
   ]
  },
  {
   "cell_type": "markdown",
   "metadata": {},
   "source": [
    "----\n",
    "# Rendering #\n",
    "  \n",
    "### Python code block with output rendered below: ###"
   ]
  },
  {
   "cell_type": "code",
   "execution_count": 2,
   "metadata": {
    "scrolled": false
   },
   "outputs": [
    {
     "name": "stdout",
     "output_type": "stream",
     "text": [
      "[[ 1.43956969 -2.12583727 -1.07439795 -2.00597693 -1.40967182]\n",
      " [-0.75995331 -1.46142666  0.6562756  -1.6023765   1.34174857]]\n"
     ]
    }
   ],
   "source": [
    "import numpy as np\n",
    "print np.random.randn(10).reshape(2, 5)"
   ]
  },
  {
   "cell_type": "markdown",
   "metadata": {},
   "source": [
    "### Mingle code and graphics ###"
   ]
  },
  {
   "cell_type": "code",
   "execution_count": 3,
   "metadata": {},
   "outputs": [
    {
     "data": {
      "text/plain": [
       "[<matplotlib.lines.Line2D at 0x7fa864872f10>]"
      ]
     },
     "execution_count": 3,
     "metadata": {},
     "output_type": "execute_result"
    },
    {
     "data": {
      "image/png": "[encoded data removed]",
      "text/plain": [
       "<matplotlib.figure.Figure at 0x7fa8b8737fd0>"
      ]
     },
     "metadata": {},
     "output_type": "display_data"
    }
   ],
   "source": [
    "# Mingle code and graphics\n",
    "%matplotlib inline\n",
    "\n",
    "import numpy as np\n",
    "import matplotlib.pyplot as plt\n",
    "import seaborn as sns\n",
    "sns.set()\n",
    "\n",
    "# Plot 100 points drawn from the normal distriburion\n",
    "plt.plot(np.random.randn(100))"
   ]
  },
  {
   "cell_type": "markdown",
   "metadata": {},
   "source": [
    "------------------------------\n",
    "<span style = \"font-size: 180%; color: darkgreen; font-weight: bold\">A little practice</span>  \n",
    "  \n",
    "Open your browser and go to https://github.com/cmalliopoulos/PfBDAaML/blob/master/jupyter.ipynb  \n",
    "  \n",
    "Select 'Raw', then save the page localy as `jupyter.ipynb`.  \n",
    "  \n",
    "Login to AzureML studio (https://studio.azureml.net/), upload the file 'jupyter.ipynb' and open it from the Notebooks list.  "
   ]
  },
  {
   "cell_type": "markdown",
   "metadata": {},
   "source": [
    "Move the cursor to the end of the file.  \n",
    "Type in sequence Esc-b-Enter  \n",
    "  \n",
    "Write the following in the new cell:  \n",
    "```python\n",
    "%matplotlib inline\n",
    "\n",
    "import pandas as pd\n",
    "import numpy as np\n",
    "\n",
    "import matplotlib.pyplot as plt\n",
    "\n",
    "df = pd.DataFrame(np.random.randn(100, 2), columns = ['one', 'two'])\n",
    "with plt.style.context(['ggplot', 'seaborn-notebook']):\n",
    "    plt.plot(df['one'])\n",
    "    plt.plot(df['two'])\n",
    "```\n",
    "Type Esc-l  \n",
    "Type Shift-Enter"
   ]
  },
  {
   "cell_type": "markdown",
   "metadata": {},
   "source": [
    "Type Esc-a-Enter (does this remind you of __Office 2016__ keyboard shortcuts?)  \n",
    "Enter the following:  \n",
    "```python\n",
    "print df\n",
    "```\n",
    "Move the cursor to the code cell  \n",
    "Type `Esc-O` (Shift+o) several times  \n",
    "Type `Esc-o` several times"
   ]
  },
  {
   "cell_type": "markdown",
   "metadata": {},
   "source": [
    "### Markdown ###\n",
    "This is plain text  \n",
    "  \n",
    "__This is bold text__  \n",
    "  \n",
    "_This is italics_  \n",
    "  \n",
    "1. A \n",
    "2. numbered\n",
    "3. list\n",
    "- A\n",
    "  - nested\n",
    "    - list\n",
    "\n",
    "### Codeblocks with syntax coloring ###\n",
    "``` shell\n",
    "ls -al | sed 's/-/@/g'\n",
    "```"
   ]
  },
  {
   "cell_type": "markdown",
   "metadata": {},
   "source": [
    "### Math formulas using MathJax ###\n",
    "$$ P(A \\mid B) = \\frac{P(B \\mid A) \\, P(A)}{P(B)} $$"
   ]
  },
  {
   "cell_type": "markdown",
   "metadata": {},
   "source": [
    "-------------------------------\n",
    "# Shell commands #\n",
    "We can run shell commands within the notebook.  "
   ]
  },
  {
   "cell_type": "code",
   "execution_count": 5,
   "metadata": {},
   "outputs": [
    {
     "name": "stdout",
     "output_type": "stream",
     "text": [
      "/home/christos/Test/PfBDAaML\n",
      "total 34420\n",
      "drwxrwxr-x 4 christos christos     4096 Nov 29 22:52 .\n",
      "drwxrwxr-x 5 christos christos     4096 Nov 28 23:21 ..\n",
      "-rwxrwxrwx 1 christos christos 18379159 Aug 25  2016 911.csv\n",
      "-rw-rw-r-- 1 christos christos   143130 Nov 28 23:21 appleStocks.csv\n"
     ]
    }
   ],
   "source": [
    "!pwd\n",
    "!ls -al | head -n5"
   ]
  },
  {
   "cell_type": "markdown",
   "metadata": {},
   "source": [
    "There's an another way to execute multiple shell commands in a cell:"
   ]
  },
  {
   "cell_type": "code",
   "execution_count": 11,
   "metadata": {},
   "outputs": [
    {
     "name": "stdout",
     "output_type": "stream",
     "text": [
      "/home/christos/Test/PfBDAaML\n",
      "total 34416\n",
      "drwxrwxr-x 4 christos christos     4096 Nov 29 08:13 .\n",
      "drwxrwxr-x 5 christos christos     4096 Nov 28 23:21 ..\n",
      "-rwxrwxrwx 1 christos christos 18379159 Aug 25  2016 911.csv\n",
      "-rw-rw-r-- 1 christos christos   143130 Nov 28 23:21 appleStocks.csv\n"
     ]
    }
   ],
   "source": [
    "%%bash\n",
    "pwd\n",
    "ls -al | head -n5"
   ]
  },
  {
   "cell_type": "markdown",
   "metadata": {},
   "source": [
    "-----------------------------\n",
    "# Ipython magics #\n",
    "Excerpting form `%magic` command's output:\n",
    "\n",
    "> The magic function system provides a series of functions which allow you to\n",
    "> control the behavior of IPython itself, plus a lot of system-type\n",
    "> features. There are two kinds of magics, line-oriented and cell-oriented."
   ]
  },
  {
   "cell_type": "markdown",
   "metadata": {},
   "source": [
    "__Line-oriented__ magics are pretty much like OS commands:"
   ]
  },
  {
   "cell_type": "code",
   "execution_count": 3,
   "metadata": {},
   "outputs": [
    {
     "name": "stdout",
     "output_type": "stream",
     "text": [
      "The slowest run took 21.11 times longer than the fastest. This could mean that an intermediate result is being cached.\n",
      "100000 loops, best of 3: 4.31 µs per loop\n"
     ]
    }
   ],
   "source": [
    "%timeit np.random.chisquare([10, 100])"
   ]
  },
  {
   "cell_type": "markdown",
   "metadata": {},
   "source": [
    "__Cell magics__ start with %% and evaluate everything from the magic line to the end of the current cell"
   ]
  },
  {
   "cell_type": "code",
   "execution_count": 4,
   "metadata": {},
   "outputs": [
    {
     "name": "stdout",
     "output_type": "stream",
     "text": [
      "100 loops, best of 3: 6.48 ms per loop\n"
     ]
    }
   ],
   "source": [
    "%%timeit \n",
    "x = np.random.randn(100, 100)\n",
    "np.linalg.svd(x)"
   ]
  },
  {
   "cell_type": "markdown",
   "metadata": {},
   "source": [
    "__Getting help with magics__"
   ]
  },
  {
   "cell_type": "code",
   "execution_count": 5,
   "metadata": {},
   "outputs": [],
   "source": [
    "# quickref provides basic help for IPython\n",
    "%quickref"
   ]
  },
  {
   "cell_type": "code",
   "execution_count": 6,
   "metadata": {},
   "outputs": [],
   "source": [
    "# 'magic' gives help on IPython magic commands\n",
    "%magic"
   ]
  },
  {
   "cell_type": "code",
   "execution_count": 7,
   "metadata": {},
   "outputs": [
    {
     "data": {
      "application/json": {
       "cell": {
        "!": "OSMagics",
        "HTML": "Other",
        "SVG": "Other",
        "bash": "Other",
        "capture": "ExecutionMagics",
        "debug": "ExecutionMagics",
        "file": "Other",
        "html": "DisplayMagics",
        "javascript": "DisplayMagics",
        "js": "DisplayMagics",
        "latex": "DisplayMagics",
        "perl": "Other",
        "prun": "ExecutionMagics",
        "pypy": "Other",
        "python": "Other",
        "python2": "Other",
        "python3": "Other",
        "ruby": "Other",
        "script": "ScriptMagics",
        "sh": "Other",
        "svg": "DisplayMagics",
        "sx": "OSMagics",
        "system": "OSMagics",
        "time": "ExecutionMagics",
        "timeit": "ExecutionMagics",
        "writefile": "OSMagics"
       },
       "line": {
        "alias": "OSMagics",
        "alias_magic": "BasicMagics",
        "autocall": "AutoMagics",
        "automagic": "AutoMagics",
        "autosave": "KernelMagics",
        "bookmark": "OSMagics",
        "cat": "Other",
        "cd": "OSMagics",
        "clear": "KernelMagics",
        "colors": "BasicMagics",
        "config": "ConfigMagics",
        "connect_info": "KernelMagics",
        "cp": "Other",
        "debug": "ExecutionMagics",
        "dhist": "OSMagics",
        "dirs": "OSMagics",
        "doctest_mode": "BasicMagics",
        "ed": "Other",
        "edit": "KernelMagics",
        "env": "OSMagics",
        "gui": "BasicMagics",
        "hist": "Other",
        "history": "HistoryMagics",
        "killbgscripts": "ScriptMagics",
        "ldir": "Other",
        "less": "KernelMagics",
        "lf": "Other",
        "lk": "Other",
        "ll": "Other",
        "load": "CodeMagics",
        "load_ext": "ExtensionMagics",
        "loadpy": "CodeMagics",
        "logoff": "LoggingMagics",
        "logon": "LoggingMagics",
        "logstart": "LoggingMagics",
        "logstate": "LoggingMagics",
        "logstop": "LoggingMagics",
        "ls": "Other",
        "lsmagic": "BasicMagics",
        "lx": "Other",
        "macro": "ExecutionMagics",
        "magic": "BasicMagics",
        "man": "KernelMagics",
        "matplotlib": "PylabMagics",
        "mkdir": "Other",
        "more": "KernelMagics",
        "mv": "Other",
        "notebook": "BasicMagics",
        "page": "BasicMagics",
        "pastebin": "CodeMagics",
        "pdb": "ExecutionMagics",
        "pdef": "NamespaceMagics",
        "pdoc": "NamespaceMagics",
        "pfile": "NamespaceMagics",
        "pinfo": "NamespaceMagics",
        "pinfo2": "NamespaceMagics",
        "popd": "OSMagics",
        "pprint": "BasicMagics",
        "precision": "BasicMagics",
        "profile": "BasicMagics",
        "prun": "ExecutionMagics",
        "psearch": "NamespaceMagics",
        "psource": "NamespaceMagics",
        "pushd": "OSMagics",
        "pwd": "OSMagics",
        "pycat": "OSMagics",
        "pylab": "PylabMagics",
        "qtconsole": "KernelMagics",
        "quickref": "BasicMagics",
        "recall": "HistoryMagics",
        "rehashx": "OSMagics",
        "reload_ext": "ExtensionMagics",
        "rep": "Other",
        "rerun": "HistoryMagics",
        "reset": "NamespaceMagics",
        "reset_selective": "NamespaceMagics",
        "rm": "Other",
        "rmdir": "Other",
        "run": "ExecutionMagics",
        "save": "CodeMagics",
        "sc": "OSMagics",
        "set_env": "OSMagics",
        "store": "StoreMagics",
        "sx": "OSMagics",
        "system": "OSMagics",
        "tb": "ExecutionMagics",
        "time": "ExecutionMagics",
        "timeit": "ExecutionMagics",
        "unalias": "OSMagics",
        "unload_ext": "ExtensionMagics",
        "who": "NamespaceMagics",
        "who_ls": "NamespaceMagics",
        "whos": "NamespaceMagics",
        "xdel": "NamespaceMagics",
        "xmode": "BasicMagics"
       }
      },
      "text/plain": [
       "Available line magics:\n",
       "%alias  %alias_magic  %autocall  %automagic  %autosave  %bookmark  %cat  %cd  %clear  %colors  %config  %connect_info  %cp  %debug  %dhist  %dirs  %doctest_mode  %ed  %edit  %env  %gui  %hist  %history  %killbgscripts  %ldir  %less  %lf  %lk  %ll  %load  %load_ext  %loadpy  %logoff  %logon  %logstart  %logstate  %logstop  %ls  %lsmagic  %lx  %macro  %magic  %man  %matplotlib  %mkdir  %more  %mv  %notebook  %page  %pastebin  %pdb  %pdef  %pdoc  %pfile  %pinfo  %pinfo2  %popd  %pprint  %precision  %profile  %prun  %psearch  %psource  %pushd  %pwd  %pycat  %pylab  %qtconsole  %quickref  %recall  %rehashx  %reload_ext  %rep  %rerun  %reset  %reset_selective  %rm  %rmdir  %run  %save  %sc  %set_env  %store  %sx  %system  %tb  %time  %timeit  %unalias  %unload_ext  %who  %who_ls  %whos  %xdel  %xmode\n",
       "\n",
       "Available cell magics:\n",
       "%%!  %%HTML  %%SVG  %%bash  %%capture  %%debug  %%file  %%html  %%javascript  %%js  %%latex  %%perl  %%prun  %%pypy  %%python  %%python2  %%python3  %%ruby  %%script  %%sh  %%svg  %%sx  %%system  %%time  %%timeit  %%writefile\n",
       "\n",
       "Automagic is ON, % prefix IS NOT needed for line magics."
      ]
     },
     "execution_count": 7,
     "metadata": {},
     "output_type": "execute_result"
    }
   ],
   "source": [
    "# Print a list of IPython magic commands\n",
    "%lsmagic"
   ]
  },
  {
   "cell_type": "code",
   "execution_count": 8,
   "metadata": {
    "scrolled": false
   },
   "outputs": [
    {
     "data": {
      "text/plain": [
       "{'CLICOLOR': '1',\n",
       " 'CLUTTER_IM_MODULE': 'xim',\n",
       " 'COMPIZ_CONFIG_PROFILE': 'ubuntu',\n",
       " 'DBUS_SESSION_BUS_ADDRESS': 'unix:abstract=/tmp/dbus-Vhs6Qv7gDf',\n",
       " 'DEFAULTS_PATH': '/usr/share/gconf/ubuntu.default.path',\n",
       " 'DESKTOP_SESSION': 'ubuntu',\n",
       " 'DISPLAY': ':0',\n",
       " 'GDMSESSION': 'ubuntu',\n",
       " 'GDM_LANG': 'en_US',\n",
       " 'GIT_PAGER': 'cat',\n",
       " 'GNOME_DESKTOP_SESSION_ID': 'this-is-deprecated',\n",
       " 'GNOME_KEYRING_CONTROL': '',\n",
       " 'GNOME_KEYRING_PID': '',\n",
       " 'GPG_AGENT_INFO': '/home/christos/.gnupg/S.gpg-agent:0:1',\n",
       " 'GTK2_MODULES': 'overlay-scrollbar',\n",
       " 'GTK_IM_MODULE': 'ibus',\n",
       " 'GTK_MODULES': 'gail:atk-bridge:unity-gtk-module',\n",
       " 'HOME': '/home/christos',\n",
       " 'IM_CONFIG_PHASE': '1',\n",
       " 'INSTANCE': 'Unity',\n",
       " 'JOB': 'gnome-session',\n",
       " 'JPY_PARENT_PID': '19198',\n",
       " 'LANG': 'en_US.UTF-8',\n",
       " 'LANGUAGE': 'en_US',\n",
       " 'LAYERBLOX_HOME': '/home/christos/Appl/lb4482/libexec/logicblox/layerblox',\n",
       " 'LB_LIBRARY_PATH': '/home/christos/Appl/lb4482/share:/home/christos/Appl/lb4482/libexec/logicblox/measure-service/share:',\n",
       " 'LB_MEASURE_SERVICE_HOME': '/home/christos/Appl/lb4482/libexec/logicblox/measure-service',\n",
       " 'LB_MODELER_HOME': '/home/christos/Appl/lb4482',\n",
       " 'LB_WEBCLIENT_HOME': '/home/christos/Appl/lb4482',\n",
       " 'LB_WEBSERVER_HOME': '/home/christos/Appl/lb4482',\n",
       " 'LB_WORKBOOK_SERVICE_HOME': '/home/christos/Appl/lb4482',\n",
       " 'LB_WORKFLOW_HOME': '/home/christos/Appl/lb4482',\n",
       " 'LC_ADDRESS': 'en_US.UTF-8',\n",
       " 'LC_IDENTIFICATION': 'en_US.UTF-8',\n",
       " 'LC_MEASUREMENT': 'en_US.UTF-8',\n",
       " 'LC_MONETARY': 'en_US.UTF-8',\n",
       " 'LC_NAME': 'en_US.UTF-8',\n",
       " 'LC_NUMERIC': 'en_US.UTF-8',\n",
       " 'LC_PAPER': 'en_US.UTF-8',\n",
       " 'LC_TELEPHONE': 'en_US.UTF-8',\n",
       " 'LC_TIME': 'en_US.UTF-8',\n",
       " 'LESSCLOSE': '/usr/bin/lesspipe %s %s',\n",
       " 'LESSOPEN': '| /usr/bin/lesspipe %s',\n",
       " 'LOGICBLOX_HOME': '/home/christos/Appl/lb4482',\n",
       " 'LOGNAME': 'christos',\n",
       " 'LS_COLORS': 'rs=0:di=01;34:ln=01;36:mh=00:pi=40;33:so=01;35:do=01;35:bd=40;33;01:cd=40;33;01:or=40;31;01:mi=00:su=37;41:sg=30;43:ca=30;41:tw=30;42:ow=34;42:st=37;44:ex=01;32:*.tar=01;31:*.tgz=01;31:*.arc=01;31:*.arj=01;31:*.taz=01;31:*.lha=01;31:*.lz4=01;31:*.lzh=01;31:*.lzma=01;31:*.tlz=01;31:*.txz=01;31:*.tzo=01;31:*.t7z=01;31:*.zip=01;31:*.z=01;31:*.Z=01;31:*.dz=01;31:*.gz=01;31:*.lrz=01;31:*.lz=01;31:*.lzo=01;31:*.xz=01;31:*.bz2=01;31:*.bz=01;31:*.tbz=01;31:*.tbz2=01;31:*.tz=01;31:*.deb=01;31:*.rpm=01;31:*.jar=01;31:*.war=01;31:*.ear=01;31:*.sar=01;31:*.rar=01;31:*.alz=01;31:*.ace=01;31:*.zoo=01;31:*.cpio=01;31:*.7z=01;31:*.rz=01;31:*.cab=01;31:*.jpg=01;35:*.jpeg=01;35:*.gif=01;35:*.bmp=01;35:*.pbm=01;35:*.pgm=01;35:*.ppm=01;35:*.tga=01;35:*.xbm=01;35:*.xpm=01;35:*.tif=01;35:*.tiff=01;35:*.png=01;35:*.svg=01;35:*.svgz=01;35:*.mng=01;35:*.pcx=01;35:*.mov=01;35:*.mpg=01;35:*.mpeg=01;35:*.m2v=01;35:*.mkv=01;35:*.webm=01;35:*.ogm=01;35:*.mp4=01;35:*.m4v=01;35:*.mp4v=01;35:*.vob=01;35:*.qt=01;35:*.nuv=01;35:*.wmv=01;35:*.asf=01;35:*.rm=01;35:*.rmvb=01;35:*.flc=01;35:*.avi=01;35:*.fli=01;35:*.flv=01;35:*.gl=01;35:*.dl=01;35:*.xcf=01;35:*.xwd=01;35:*.yuv=01;35:*.cgm=01;35:*.emf=01;35:*.ogv=01;35:*.ogx=01;35:*.aac=00;36:*.au=00;36:*.flac=00;36:*.m4a=00;36:*.mid=00;36:*.midi=00;36:*.mka=00;36:*.mp3=00;36:*.mpc=00;36:*.ogg=00;36:*.ra=00;36:*.wav=00;36:*.oga=00;36:*.opus=00;36:*.spx=00;36:*.xspf=00;36:',\n",
       " 'MANDATORY_PATH': '/usr/share/gconf/ubuntu.mandatory.path',\n",
       " 'MPLBACKEND': 'module://ipykernel.pylab.backend_inline',\n",
       " 'NIX_PATH': 'nixpkgs=/home/christos/.nix-defexpr/channels/nixpkgs',\n",
       " 'NIX_SSL_CERT_FILE': '/etc/ssl/certs/ca-certificates.crt',\n",
       " 'OLDPWD': '/Nvme/Training/MLTrainAthens/PfBDAaML',\n",
       " 'PAGER': 'cat',\n",
       " 'PAPERSIZE': 'letter',\n",
       " 'PATH': '/usr/local/bin:/home/christos/Appl/lb4482/bin:/home/christos/Appl/lb4482/bin:/home/christos/.nix-profile/bin:/home/christos/.nix-profile/sbin:/home/christos/bin:/home/christos/.local/bin:/usr/local/sbin:/usr/local/bin:/usr/sbin:/usr/bin:/sbin:/bin:/usr/games:/usr/local/games:/snap/bin',\n",
       " 'PWD': '/',\n",
       " 'QT4_IM_MODULE': 'xim',\n",
       " 'QT_ACCESSIBILITY': '1',\n",
       " 'QT_IM_MODULE': 'ibus',\n",
       " 'QT_LINUX_ACCESSIBILITY_ALWAYS_ON': '1',\n",
       " 'QT_QPA_PLATFORMTHEME': 'appmenu-qt5',\n",
       " 'S3LIB_HOME': '/home/christos/Appl/lb4482',\n",
       " 'SESSIONTYPE': 'gnome-session',\n",
       " 'SHELL': '/bin/bash',\n",
       " 'SHLVL': '1',\n",
       " 'SSH_AUTH_SOCK': '/run/user/1000/keyring/ssh',\n",
       " 'TERM': 'xterm-color',\n",
       " 'UPSTART_EVENTS': 'started starting',\n",
       " 'UPSTART_INSTANCE': '',\n",
       " 'UPSTART_JOB': 'unity-settings-daemon',\n",
       " 'UPSTART_SESSION': 'unix:abstract=/com/ubuntu/upstart-session/1000/1569',\n",
       " 'USER': 'christos',\n",
       " 'VTE_VERSION': '4205',\n",
       " 'WINDOWID': '58720587',\n",
       " 'XAUTHORITY': '/home/christos/.Xauthority',\n",
       " 'XDG_CONFIG_DIRS': '/etc/xdg/xdg-ubuntu:/usr/share/upstart/xdg:/etc/xdg',\n",
       " 'XDG_CURRENT_DESKTOP': 'Unity',\n",
       " 'XDG_DATA_DIRS': '/usr/share/ubuntu:/usr/share/gnome:/usr/local/share/:/usr/share/:/var/lib/snapd/desktop',\n",
       " 'XDG_GREETER_DATA_DIR': '/var/lib/lightdm-data/christos',\n",
       " 'XDG_RUNTIME_DIR': '/run/user/1000',\n",
       " 'XDG_SEAT': 'seat0',\n",
       " 'XDG_SEAT_PATH': '/org/freedesktop/DisplayManager/Seat0',\n",
       " 'XDG_SESSION_DESKTOP': 'ubuntu',\n",
       " 'XDG_SESSION_ID': 'c2',\n",
       " 'XDG_SESSION_PATH': '/org/freedesktop/DisplayManager/Session0',\n",
       " 'XDG_SESSION_TYPE': 'x11',\n",
       " 'XDG_VTNR': '7',\n",
       " 'XMODIFIERS': '@im=ibus',\n",
       " '_': '/usr/local/bin/jupyter'}"
      ]
     },
     "execution_count": 8,
     "metadata": {},
     "output_type": "execute_result"
    }
   ],
   "source": [
    "# Print the environment variables\n",
    "%env"
   ]
  },
  {
   "cell_type": "code",
   "execution_count": 29,
   "metadata": {
    "scrolled": false
   },
   "outputs": [
    {
     "name": "stdout",
     "output_type": "stream",
     "text": [
      "HTML\t display\t np\t pd\t plt\t sns\t \n"
     ]
    }
   ],
   "source": [
    "# Print all the Python variables in global scope. Use %who <type> to display the variables of a specific type (e.g. str)\n",
    "%who "
   ]
  },
  {
   "cell_type": "markdown",
   "metadata": {},
   "source": [
    "You get a __list of object methods and attributes__ by pressing Tab while on the member accessor dot '.'"
   ]
  },
  {
   "cell_type": "code",
   "execution_count": 4,
   "metadata": {},
   "outputs": [],
   "source": [
    "import pandas as pd\n",
    "pd.DataFrame."
   ]
  },
  {
   "cell_type": "markdown",
   "metadata": {},
   "source": [
    "You can access the __help documentation of a specific object__ (class, method, attribute or function) by pressing Shift+Tab while the cursor is in the name of the object "
   ]
  },
  {
   "cell_type": "code",
   "execution_count": null,
   "metadata": {},
   "outputs": [],
   "source": [
    "pd.DataFrame()"
   ]
  },
  {
   "cell_type": "markdown",
   "metadata": {},
   "source": [
    "And you can access the whole help doc page of an object by prefixing the object with '?'"
   ]
  },
  {
   "cell_type": "code",
   "execution_count": 5,
   "metadata": {},
   "outputs": [],
   "source": [
    "import numpy as np\n",
    "?np.array"
   ]
  },
  {
   "cell_type": "markdown",
   "metadata": {},
   "source": [
    "### View the contents of an external file (e.g. a library file) inline ###"
   ]
  },
  {
   "cell_type": "code",
   "execution_count": 6,
   "metadata": {},
   "outputs": [],
   "source": [
    "!wget -q -O fit https://raw.githubusercontent.com/cmalliopoulos/PfBDAaML/master/fit\n",
    "%pycat fit"
   ]
  },
  {
   "cell_type": "markdown",
   "metadata": {},
   "source": [
    "### Executing and timing Python code with magics ###"
   ]
  },
  {
   "cell_type": "code",
   "execution_count": 8,
   "metadata": {},
   "outputs": [
    {
     "name": "stdout",
     "output_type": "stream",
     "text": [
      "Singular value decomposition of [:2]: \n",
      "[[ 2.70684984  0.62813271  0.90796945  0.50382575  0.65111795 -0.31931804]\n",
      " [-0.84807698  0.60596535 -2.01816824  0.74012206  0.52881349 -0.58900053]]\n",
      "\n",
      "1st row of U \n",
      "[-0.00387114  0.38804235  0.29657895 -0.36596496 -0.35324605  0.42830793\n",
      " -0.2017098   0.22810329 -0.02573407 -0.25398348 -0.185935   -0.35613009]\n",
      "\n",
      "Singular values \n",
      "[ 5.38055592  4.21051098  3.24148569  2.94307013  2.67316394  1.93647568]\n",
      "\n",
      "first row of V \n",
      "[-0.57873017  0.57343285 -0.35212694  0.36781794 -0.05034917  0.27281441]\n"
     ]
    }
   ],
   "source": [
    "!wget -q -O magics.py https://raw.githubusercontent.com/cmalliopoulos/PfBDAaML/master/magics.py\n",
    "%run magics.py"
   ]
  },
  {
   "cell_type": "code",
   "execution_count": 6,
   "metadata": {},
   "outputs": [
    {
     "name": "stdout",
     "output_type": "stream",
     "text": [
      "100 loops, best of 3: 69.1 ns per loop\n"
     ]
    }
   ],
   "source": [
    "from magics import svd\n",
    "%timeit -n 100 svd"
   ]
  },
  {
   "cell_type": "markdown",
   "metadata": {},
   "source": [
    "-------------------------\n",
    "# Jupyter Architecture #\n",
    "\n",
    "\n",
    "IPython, Jupyter server, Jupyter console, qtconsole, Notebook server and Notebook web client are separate but interelated modules.  \n",
    "See https://jupyter.readthedocs.io/en/latest/architecture/how_jupyter_ipython_work.html for an overview.  \n",
    "\n",
    "```\n",
    "$ jupyter <command> <options>\n",
    "```\n",
    "invokes different systems depending on the command used:\n",
    "  \n",
    "`jupyter console` invokes an in-process command-line interface\n",
    "\n",
    "`jupyter qtconsole` invokes a desktop app with a UI very close to jupyter console\n",
    "  \n",
    "`jupyter notebook` invokes a _web-server_ (the jupyter notebook server) serving HTTP requests on port 8888.  \n",
    "The browser-level functions of the web-pages generated by the notebook server are refered to as `notebook client`.\n",
    "\n",
    "All the modules invoked by _jupyter command_ communicate with backends known as __kernels__, that implement the core functionality (interact with the Python interpreter or other language systems).\n",
    "  \n",
    "This modular architecture permits the easy development of different languages and rich text renderers.\n",
    "  \n",
    "There're already notebook clients in __SAS, R, Scala, Haskell__ and __Julia__ and clients for other PLs are under development.  \n",
    "For a complete list see https://github.com/jupyter/jupyter/wiki/Jupyter-kernels\n",
    "  \n"
   ]
  },
  {
   "cell_type": "markdown",
   "metadata": {},
   "source": [
    "------------------\n",
    "<span style = \"font-size: 180%; font-weight: bold; color: darkgreen\">Exercise</span>\n",
    "\n",
    "As a simple exercise let's download the non-.ipynb content that we'll use in the course.  \n",
    "Your AzureML Studio 'lives' in a Unix environment. Open a new cell below this one and type in the following shell commands appropriately prepended so that they can run from Jupyter:\n",
    "\n",
    "```bash\n",
    "wget -q -O changeNBLayout.py https://raw.githubusercontent.com/cmalliopoulos/PfBDAaML/master/changeNBLayout.py\n",
    "wget -q -O CS.zip https://raw.githubusercontent.com/cmalliopoulos/PfBDAaML/master/CS.zip\n",
    "unzip -u CS.zip\n",
    "```\n",
    "\n",
    "These commands will: \n",
    "1. download to your AzureML shell the code that changes the layout of your Jupyter NB \n",
    "2. download a zip with the exercise Jupyter NBs and their solutions\n",
    "3. unzip the exercise files"
   ]
  },
  {
   "cell_type": "code",
   "execution_count": null,
   "metadata": {},
   "outputs": [],
   "source": []
  }
 ],
 "metadata": {
  "kernelspec": {
   "display_name": "Python 2",
   "language": "python",
   "name": "python2"
  },
  "language_info": {
   "codemirror_mode": {
    "name": "ipython",
    "version": 2
   },
   "file_extension": ".py",
   "mimetype": "text/x-python",
   "name": "python",
   "nbconvert_exporter": "python",
   "pygments_lexer": "ipython2",
   "version": "2.7.12"
  }
 },
 "nbformat": 4,
 "nbformat_minor": 2
}
