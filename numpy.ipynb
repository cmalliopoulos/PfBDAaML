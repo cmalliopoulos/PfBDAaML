{
 "cells": [
  {
   "cell_type": "markdown",
   "metadata": {},
   "source": [
    "![MLTrain logo](https://mltrain.cc/wp-content/uploads/2017/11/mltrain_logo-4.png \"MLTrain logo\")"
   ]
  },
  {
   "cell_type": "markdown",
   "metadata": {},
   "source": [
    "To reproduce this session at your laptop upload `numpy.ipynb` to AzureML studio"
   ]
  },
  {
   "cell_type": "code",
   "execution_count": 1,
   "metadata": {},
   "outputs": [
    {
     "data": {
      "text/html": [
       "\n",
       "    <style>\n",
       "    @import url('https://fonts.googleapis.com/css?family=Roboto+Condensed');\n",
       "    </style> "
      ],
      "text/plain": [
       "<IPython.core.display.HTML object>"
      ]
     },
     "metadata": {},
     "output_type": "display_data"
    },
    {
     "data": {
      "text/html": [
       "<style> .container {width: 90%} </style>"
      ],
      "text/plain": [
       "<IPython.core.display.HTML object>"
      ]
     },
     "metadata": {},
     "output_type": "display_data"
    },
    {
     "data": {
      "text/html": [
       "\n",
       "    <style> .CodeMirror {font-size: 10.5pt !important} </style>"
      ],
      "text/plain": [
       "<IPython.core.display.HTML object>"
      ]
     },
     "metadata": {},
     "output_type": "display_data"
    },
    {
     "data": {
      "text/html": [
       "\n",
       "    <style> div.cell.selected{border: 0px};</style>"
      ],
      "text/plain": [
       "<IPython.core.display.HTML object>"
      ]
     },
     "metadata": {},
     "output_type": "display_data"
    },
    {
     "data": {
      "text/html": [
       "<style> \n",
       "    .text_cell_render {\n",
       "        font-family: \"Roboto Condensed\"; \n",
       "        line-height: 145%; \n",
       "        font-size: 14pt} </style>"
      ],
      "text/plain": [
       "<IPython.core.display.HTML object>"
      ]
     },
     "metadata": {},
     "output_type": "display_data"
    },
    {
     "data": {
      "text/html": [
       "<style> \n",
       "    .output_area {font-size: large} </style>"
      ],
      "text/plain": [
       "<IPython.core.display.HTML object>"
      ]
     },
     "metadata": {},
     "output_type": "display_data"
    }
   ],
   "source": [
    "% run changeNBLayout.py"
   ]
  },
  {
   "cell_type": "markdown",
   "metadata": {},
   "source": [
    "-------------------------\n",
    "# Introduction #\n",
    "\n",
    "The `numpy` package is the basis for all numeric computations in Python because it provides __high-performance__ vector and matrix computations and a compact API.  \n",
    "`numpy` methods and functions use C and Fortran underneeth so when only numpy calls are made in sequence the performance is comparabe to direct C|Fortran implementations.  \n",
    "A sequence of _numpy-only_ calls is generally known as '_vectorized computations_'.\n",
    "\n",
    "__NB:__ numpy processes in-memory data so there're no library provisions for efficient read|write to disks. It is the programmer's responsibility to employ mechanisms for either compacting the memory representations of data or handle disk paging.  \n",
    "  \n",
    "The practice for hadling large arrays is to use scipy's __sparse array__ libraries and numpy's _memory-mapped files_, both outside the scope of this lecture."
   ]
  },
  {
   "cell_type": "code",
   "execution_count": 2,
   "metadata": {},
   "outputs": [
    {
     "name": "stdout",
     "output_type": "stream",
     "text": [
      "Current Numpy version is: 1.13.3\n"
     ]
    }
   ],
   "source": [
    "import numpy as np\n",
    "import random as ran\n",
    "from os import linesep as endl\n",
    "\n",
    "# Our library version \n",
    "print 'Current Numpy version is:', np.__version__"
   ]
  },
  {
   "cell_type": "code",
   "execution_count": 8,
   "metadata": {},
   "outputs": [
    {
     "name": "stdout",
     "output_type": "stream",
     "text": [
      "lapack_opt_info:\n",
      "    libraries = ['openblas', 'openblas']\n",
      "    library_dirs = ['/usr/local/lib']\n",
      "    define_macros = [('HAVE_CBLAS', None)]\n",
      "    language = c\n",
      "blas_opt_info:\n",
      "    libraries = ['openblas', 'openblas']\n",
      "    library_dirs = ['/usr/local/lib']\n",
      "    define_macros = [('HAVE_CBLAS', None)]\n",
      "    language = c\n",
      "openblas_info:\n",
      "    libraries = ['openblas', 'openblas']\n",
      "    library_dirs = ['/usr/local/lib']\n",
      "    define_macros = [('HAVE_CBLAS', None)]\n",
      "    language = c\n",
      "blis_info:\n",
      "  NOT AVAILABLE\n",
      "openblas_lapack_info:\n",
      "    libraries = ['openblas', 'openblas']\n",
      "    library_dirs = ['/usr/local/lib']\n",
      "    define_macros = [('HAVE_CBLAS', None)]\n",
      "    language = c\n",
      "lapack_mkl_info:\n",
      "  NOT AVAILABLE\n",
      "blas_mkl_info:\n",
      "  NOT AVAILABLE\n"
     ]
    }
   ],
   "source": [
    "np.show_config()"
   ]
  },
  {
   "cell_type": "markdown",
   "metadata": {},
   "source": [
    "--------------------------\n",
    "# Constructors #"
   ]
  },
  {
   "cell_type": "markdown",
   "metadata": {},
   "source": [
    "### The ndarray constructor ###"
   ]
  },
  {
   "cell_type": "code",
   "execution_count": 3,
   "metadata": {},
   "outputs": [
    {
     "name": "stdout",
     "output_type": "stream",
     "text": [
      "2x4 integer ndarray with arbitrary memory contents: \n",
      "[[              0               0 140016874143536 140016874175296]\n",
      " [140016874104808 140016874175576 140017436771552               0]]\n"
     ]
    }
   ],
   "source": [
    "arr = np.ndarray(shape = [2, 4], dtype = int, order = 'C')\n",
    "print '2x4 integer ndarray with arbitrary memory contents:', endl, arr"
   ]
  },
  {
   "cell_type": "markdown",
   "metadata": {},
   "source": [
    "### The numpy.array factory function ###"
   ]
  },
  {
   "cell_type": "code",
   "execution_count": 4,
   "metadata": {},
   "outputs": [
    {
     "name": "stdout",
     "output_type": "stream",
     "text": [
      "10 elements from the Gamma distribution: \n",
      "[ 0.45144449  0.31371191  0.08575201  0.14052511  0.01337472  0.01973911\n",
      "  0.20938272  0.17227148  0.24616949  0.27341855]\n"
     ]
    }
   ],
   "source": [
    "# A numpy.ndarray object with 100 samples from the Gamma distribution\n",
    "s = ran.seed(101)\n",
    "data = [ran.gammavariate(.6, .8) for _ in xrange(10)]\n",
    "print '10 elements from the Gamma distribution:', endl, np.array(data, dtype = float)"
   ]
  },
  {
   "cell_type": "markdown",
   "metadata": {},
   "source": [
    "### Specific ndarray constructors ###\n",
    "There're special functions for constructing arrays of certain content:"
   ]
  },
  {
   "cell_type": "code",
   "execution_count": 6,
   "metadata": {},
   "outputs": [
    {
     "name": "stdout",
     "output_type": "stream",
     "text": [
      "Integer range ctor with arguments <start>, <stop>, <step>: \n",
      "[0 1 2 3 4 5 6 7 8 9]\n"
     ]
    }
   ],
   "source": [
    "# range ctor:\n",
    "print 'Integer range ctor with arguments <start>, <stop>, <step>:', endl, np.arange(0, 10, 1)"
   ]
  },
  {
   "cell_type": "code",
   "execution_count": 7,
   "metadata": {},
   "outputs": [
    {
     "name": "stdout",
     "output_type": "stream",
     "text": [
      "\n",
      "10 equispaced elements in [-1, 1) \n",
      "[-1.  -0.8 -0.6 -0.4 -0.2  0.   0.2  0.4  0.6  0.8]\n"
     ]
    }
   ],
   "source": [
    "# linspace\n",
    "print '10 equispaced elements in [-1, 1)', endl, np.linspace(-1, 1, 10, endpoint = False)"
   ]
  },
  {
   "cell_type": "code",
   "execution_count": 8,
   "metadata": {},
   "outputs": [
    {
     "name": "stdout",
     "output_type": "stream",
     "text": [
      "\n",
      "10 logarithmic elements in [-1, 1] \n",
      "[ 0.36787944  0.45942582  0.57375342  0.71653131  0.89483932  1.11751907\n",
      "  1.39561243  1.742909    2.17662993  2.71828183]\n"
     ]
    }
   ],
   "source": [
    "# logspace\n",
    "print '10 logarithmic elements in [-1, 1]', endl, np.logspace(-1, 1, 10, endpoint = True, base = np.e)\n"
   ]
  },
  {
   "cell_type": "code",
   "execution_count": 5,
   "metadata": {},
   "outputs": [
    {
     "name": "stdout",
     "output_type": "stream",
     "text": [
      "[[ 1.  0.  0.  0.  0.]\n",
      " [ 0.  1.  0.  0.  0.]\n",
      " [ 0.  0.  1.  0.  0.]\n",
      " [ 0.  0.  0.  1.  0.]\n",
      " [ 0.  0.  0.  0.  1.]]\n"
     ]
    }
   ],
   "source": [
    "# identity\n",
    "print np.eye(5)"
   ]
  },
  {
   "cell_type": "code",
   "execution_count": 9,
   "metadata": {},
   "outputs": [
    {
     "name": "stdout",
     "output_type": "stream",
     "text": [
      "\n",
      "2 by 4 zeros \n",
      "[[ 0.  0.  0.  0.]\n",
      " [ 0.  0.  0.  0.]]\n"
     ]
    }
   ],
   "source": [
    "# zeros\n",
    "print '2 by 4 zeros', endl, np.zeros(shape = [2, 4])\n"
   ]
  },
  {
   "cell_type": "code",
   "execution_count": 10,
   "metadata": {},
   "outputs": [
    {
     "name": "stdout",
     "output_type": "stream",
     "text": [
      "\n",
      "2 by 4 units \n",
      "[[ 1.  1.  1.  1.]\n",
      " [ 1.  1.  1.  1.]]\n"
     ]
    }
   ],
   "source": [
    "# ones\n",
    "print '2 by 4 units', endl, np.ones(shape = [2, 4])\n"
   ]
  },
  {
   "cell_type": "code",
   "execution_count": 11,
   "metadata": {},
   "outputs": [
    {
     "name": "stdout",
     "output_type": "stream",
     "text": [
      "\n",
      "2 by 4 of value randomly selected from the normal distribution:\n",
      "[[ 0.10838194  0.10838194  0.10838194  0.10838194]\n",
      " [ 0.10838194  0.10838194  0.10838194  0.10838194]]\n"
     ]
    }
   ],
   "source": [
    "# full\n",
    "print '2 by 4 of value randomly selected from the normal distribution:' \n",
    "print np.full([2, 4], fill_value = ran.normalvariate(0., .1), dtype = float)"
   ]
  },
  {
   "cell_type": "markdown",
   "metadata": {},
   "source": [
    "### meshgrid and mgrid ###\n",
    "\n",
    "These functions generate grid points in $\\mathbb R^n$ (n is the dimension of the grid) from a list of coordinate vectors.  \n",
    "So if x = [1, 2] and y = [0, 1] each of `meshgrid` and `mgrid` will generate 2 2D matrices of the form:  \n",
    "\n",
    "``` Python\n",
    "[[1, 2],  [[0, 0],\n",
    " [1, 2]],  [1, 1]]\n",
    "```\n",
    "\n",
    "This is particularely useful for evaluating nultivariate functions using vector operations as we shall see below"
   ]
  },
  {
   "cell_type": "markdown",
   "metadata": {},
   "source": [
    "`meshgrid`"
   ]
  },
  {
   "cell_type": "code",
   "execution_count": 12,
   "metadata": {},
   "outputs": [
    {
     "name": "stdout",
     "output_type": "stream",
     "text": [
      "X =  \n",
      "[[-1.  -0.5  0.   0.5]\n",
      " [-1.  -0.5  0.   0.5]\n",
      " [-1.  -0.5  0.   0.5]\n",
      " [-1.  -0.5  0.   0.5]]\n",
      "\n",
      "Y = \n",
      "[[  0.1          0.1          0.1          0.1       ]\n",
      " [  0.46415888   0.46415888   0.46415888   0.46415888]\n",
      " [  2.15443469   2.15443469   2.15443469   2.15443469]\n",
      " [ 10.          10.          10.          10.        ]]\n",
      "\n",
      "Coordinate grid: \n",
      "[[(-1.0, 0.1), (-0.5, 0.1), (0.0, 0.1), (0.5, 0.1)], [(-1.0, 0.464), (-0.5, 0.464), (0.0, 0.464), (0.5, 0.464)], [(-1.0, 2.154), (-0.5, 2.154), (0.0, 2.154), (0.5, 2.154)], [(-1.0, 10.0), (-0.5, 10.0), (0.0, 10.0), (0.5, 10.0)]]\n"
     ]
    }
   ],
   "source": [
    "x = np.linspace(-1, 1, 4, endpoint = False)\n",
    "y = np.logspace(-1, 1, 4, base = 10, endpoint = True)\n",
    "\n",
    "X, Y = np.meshgrid(x, y, indexing = 'xy')\n",
    "\n",
    "# np.set_printoptions(linewidth = 132, precision = 3)\n",
    "print 'X = ', endl, X\n",
    "print endl, 'Y =', endl, Y\n",
    "\n",
    "print endl, 'Coordinate grid:', endl, [[(round(_x, 3), round(_y, 3)) for _x in x] for _y in y]"
   ]
  },
  {
   "cell_type": "markdown",
   "metadata": {},
   "source": [
    "Evaluating  $\\mathtt {sin ({x^2} + {y^2})}$  on the generated $\\mathtt{(X, Y)}$ grid:"
   ]
  },
  {
   "cell_type": "code",
   "execution_count": 13,
   "metadata": {},
   "outputs": [
    {
     "data": {
      "text/plain": [
       "array([[ 0.84683184,  0.25708055,  0.00999983,  0.25708055],\n",
       "       [ 0.93752378,  0.44881914,  0.21378067,  0.44881914],\n",
       "       [-0.5984752 , -0.98398663, -0.99749472, -0.98398663],\n",
       "       [ 0.45202579, -0.27728286, -0.50636564, -0.27728286]])"
      ]
     },
     "execution_count": 13,
     "metadata": {},
     "output_type": "execute_result"
    }
   ],
   "source": [
    "np.sin(X**2 + Y**2)"
   ]
  },
  {
   "cell_type": "markdown",
   "metadata": {},
   "source": [
    "`mgrid` is syntactic sugar for `start:end:step` meshgrids:"
   ]
  },
  {
   "cell_type": "code",
   "execution_count": 8,
   "metadata": {},
   "outputs": [
    {
     "name": "stdout",
     "output_type": "stream",
     "text": [
      "[[4 4 4 4]\n",
      " [3 3 3 3]\n",
      " [2 2 2 2]\n",
      " [1 1 1 1]]\n",
      "\n",
      "[[0 2 4 6]\n",
      " [0 2 4 6]\n",
      " [0 2 4 6]\n",
      " [0 2 4 6]]\n"
     ]
    }
   ],
   "source": [
    "i, j = np.mgrid[4:0:-1, 0:8:2]\n",
    "print i\n",
    "print endl, j"
   ]
  },
  {
   "cell_type": "markdown",
   "metadata": {},
   "source": [
    "### Random array generators ###\n",
    "Numpy has a rich set functions for sampling from univariate and multivariate distributions.  \n",
    "Ref: https://docs.scipy.org/doc/numpy-1.13.0/reference/routines.random.html"
   ]
  },
  {
   "cell_type": "code",
   "execution_count": 15,
   "metadata": {},
   "outputs": [
    {
     "name": "stdout",
     "output_type": "stream",
     "text": [
      "A 4 by 4 array with samples drawn from the uniform distribution in [0., 1.)]:\n",
      "[[ 0.75666134  0.57062423  0.90765377  0.73192674]\n",
      " [ 0.61907143  0.81945312  0.60340252  0.77756764]\n",
      " [ 0.46019069  0.16219173  0.95292449  0.88069386]\n",
      " [ 0.99714982  0.80113108  0.94189929  0.98103806]]\n"
     ]
    }
   ],
   "source": [
    "print 'A 4 by 4 array with samples drawn from the uniform distribution in [0., 1.)]:'\n",
    "print np.random.rand(4, 4)\n"
   ]
  },
  {
   "cell_type": "code",
   "execution_count": 16,
   "metadata": {},
   "outputs": [
    {
     "name": "stdout",
     "output_type": "stream",
     "text": [
      "\n",
      "4 floats drawn from U[0., 1.)\n",
      "[ 0.03327835  0.74927103  0.00351881  0.53768181]\n"
     ]
    }
   ],
   "source": [
    "print '4 floats drawn from U[0., 1.)'\n",
    "print np.random.sample(size = 4)\n"
   ]
  },
  {
   "cell_type": "code",
   "execution_count": 17,
   "metadata": {},
   "outputs": [
    {
     "name": "stdout",
     "output_type": "stream",
     "text": [
      "\n",
      "Bootstrap from data using probability distribution\n",
      "[5 7 9 9]\n"
     ]
    }
   ],
   "source": [
    "# Create a vector of probabilities using 'toProb', then use np.random.choice\n",
    "# to select with replacement (bootstrap) from {0,...,9} 4 elements:\n",
    "toProb = lambda _: _/sum(_)\n",
    "print 'Bootstrap from data using probability distribution'\n",
    "print np.random.choice(np.arange(10), size = 4, replace = True, p = toProb(np.random.sample(10)))\n"
   ]
  },
  {
   "cell_type": "code",
   "execution_count": 18,
   "metadata": {},
   "outputs": [
    {
     "name": "stdout",
     "output_type": "stream",
     "text": [
      "\n",
      "Random bytes \n",
      "'\\x10\\x121\\x1b\\xd9'\n"
     ]
    }
   ],
   "source": [
    "# Random hex numbers drawn uniformly in the range {0,...255}\n",
    "print 'Random bytes', endl, repr(np.random.bytes(5))"
   ]
  },
  {
   "cell_type": "markdown",
   "metadata": {},
   "source": [
    "### Distributions ### \n",
    "The list of supported distributions is large. Go to [the reference page](https://docs.scipy.org/doc/numpy-1.13.0/reference/routines.random.html) to see more"
   ]
  },
  {
   "cell_type": "code",
   "execution_count": 19,
   "metadata": {},
   "outputs": [
    {
     "name": "stdout",
     "output_type": "stream",
     "text": [
      "Floats drawn from N(0, 1):\n",
      "[[-1.25429664 -0.7606203   0.01656388  0.09359257 -1.00257475]\n",
      " [-0.22227737  1.49466576  0.56839911 -1.79843154  0.50618778]\n",
      " [ 0.44979852 -0.06396355  0.21936311  0.96753712  0.48622614]\n",
      " [-1.47508678  0.52961624 -1.73713092  1.17493539  0.20939395]\n",
      " [ 2.73741004  0.18507445  1.18037864  0.44321329  0.25311176]]\n"
     ]
    }
   ],
   "source": [
    "print 'Floats drawn from N(0, 1):'\n",
    "print np.random.randn(5, 5)\n"
   ]
  },
  {
   "cell_type": "code",
   "execution_count": 20,
   "metadata": {},
   "outputs": [
    {
     "name": "stdout",
     "output_type": "stream",
     "text": [
      "\n",
      "Chi-square distribution with 5 degrees of freedom:\n",
      "[ 4.4469966   6.18528533  2.14855819  7.91270868  6.20203405]\n"
     ]
    }
   ],
   "source": [
    "print endl, 'Chi-square distribution with 5 degrees of freedom:'\n",
    "print np.random.chisquare(5, 5)\n"
   ]
  },
  {
   "cell_type": "code",
   "execution_count": 21,
   "metadata": {},
   "outputs": [
    {
     "name": "stdout",
     "output_type": "stream",
     "text": [
      "\n",
      "10 samples from the exponential distribution\n",
      "[ 2.08566106  0.15850284  0.08979094  1.20079065  0.48318528  3.46827911\n",
      "  2.3598703   2.30678439  0.18095178  0.00598623]\n"
     ]
    }
   ],
   "source": [
    "print endl, '10 samples from the exponential distribution'\n",
    "print np.random.exponential(size = 10)"
   ]
  },
  {
   "cell_type": "markdown",
   "metadata": {},
   "source": [
    "---------------------------------\n",
    "# ndarray attributes #"
   ]
  },
  {
   "cell_type": "code",
   "execution_count": 102,
   "metadata": {},
   "outputs": [
    {
     "name": "stdout",
     "output_type": "stream",
     "text": [
      "\n",
      "An array of characters: \n",
      "['a' 'b' 'c' 'd' 'e' 'f' 'g' 'h' 'i' 'j' 'k' 'l' 'm' 'n' 'o' 'p' 'q' 'r' 's' 't' 'u' 'v' 'w' 'x' 'y' 'z' 'A' 'B' 'C' 'D' 'E' 'F' 'G'\n",
      " 'H' 'I' 'J' 'K' 'L' 'M' 'N' 'O' 'P' 'Q' 'R' 'S' 'T' 'U' 'V' 'W' 'X' 'Y' 'Z']\n",
      "|S1 (52,) 52 1 52 1\n"
     ]
    }
   ],
   "source": [
    "from string import ascii_letters\n",
    "sarr = np.array(list(ascii_letters), dtype = str)\n",
    "\n",
    "print 'An array of characters:', endl, sarr\n",
    "print sarr.dtype, sarr.shape, sarr.size, sarr.ndim, sarr.nbytes, sarr.itemsize"
   ]
  },
  {
   "cell_type": "markdown",
   "metadata": {},
   "source": [
    "<span style = \"font-size: 180%; font-weight: bold; color: darkgreen\">Quiz</span>  \n",
    "Create a 10x10 matrix of random floats.  \n",
    "What's the size of it in bytes?"
   ]
  },
  {
   "cell_type": "markdown",
   "metadata": {},
   "source": [
    "---------------------------------------------------\n",
    "# Indexing and selection #"
   ]
  },
  {
   "cell_type": "code",
   "execution_count": 116,
   "metadata": {},
   "outputs": [
    {
     "name": "stdout",
     "output_type": "stream",
     "text": [
      "5\n",
      "[2 3 4]\n",
      "[9 8 7 6 5 4 3 2 1 0]\n",
      "[0 2 4 6 8]\n",
      "[9 7 5 3 1]\n"
     ]
    }
   ],
   "source": [
    "arr = np.arange(10)\n",
    "\n",
    "# Element accessor:\n",
    "print arr[5]\n",
    "\n",
    "# Range and 'shard' accessors (slices)\n",
    "print arr[2:5]\n",
    "print arr[::-1]\n",
    "print arr[:-1:2]\n",
    "print arr[-1::-2]"
   ]
  },
  {
   "cell_type": "markdown",
   "metadata": {},
   "source": [
    "### Fancy indexing ###\n",
    "'Fancy' indexing is indexing with lists:"
   ]
  },
  {
   "cell_type": "code",
   "execution_count": 3,
   "metadata": {},
   "outputs": [
    {
     "name": "stdout",
     "output_type": "stream",
     "text": [
      "[[-0.45454545 -0.27272727 -0.09090909]\n",
      " [ 0.63636364  0.81818182  1.        ]]\n",
      "\n",
      "[[-1.         -0.81818182]\n",
      " [-0.45454545 -0.27272727]\n",
      " [ 0.09090909  0.27272727]\n",
      " [ 0.63636364  0.81818182]]\n"
     ]
    }
   ],
   "source": [
    "arr2 = np.linspace(-1, 1, 12).reshape(4, -1)\n",
    "print arr2[[1, 3]]\n",
    "print endl, arr2[:, [0, 1]]"
   ]
  },
  {
   "cell_type": "code",
   "execution_count": 118,
   "metadata": {},
   "outputs": [
    {
     "data": {
      "text/plain": [
       "array([-1.   , -0.273])"
      ]
     },
     "execution_count": 118,
     "metadata": {},
     "output_type": "execute_result"
    }
   ],
   "source": [
    "# Counter-intuitive: the following will NOT return a 2x2 array:\n",
    "arr2[[0, 1], [0, 1]]"
   ]
  },
  {
   "cell_type": "markdown",
   "metadata": {},
   "source": [
    "<div style = \"color: darkred; font-size: 200%; font-weight: bold;  text-decoration: underline\"> \n",
    "Exercise \n",
    "</div>  \n",
    "\n",
    "Given a 2D array `np.random.randn(10, 5)` select a subarray consisting of rows 1, 3 and 4 and columns 0, 2, 3"
   ]
  },
  {
   "cell_type": "raw",
   "metadata": {},
   "source": [
    "%load -s numpy1 ./solutions.py"
   ]
  },
  {
   "cell_type": "markdown",
   "metadata": {},
   "source": [
    "### Assignment ###"
   ]
  },
  {
   "cell_type": "code",
   "execution_count": 112,
   "metadata": {},
   "outputs": [
    {
     "name": "stdout",
     "output_type": "stream",
     "text": [
      "[[ 3.     3.     3.   ]\n",
      " [-0.455 -0.273 -0.091]\n",
      " [ 0.091  0.273  0.455]\n",
      " [ 0.636  0.818  1.   ]]\n"
     ]
    }
   ],
   "source": [
    "# Assign 3 to first row's elements. This is an application of 'broadcasting'\n",
    "arr2[0] = 3\n",
    "print arr2"
   ]
  },
  {
   "cell_type": "code",
   "execution_count": 115,
   "metadata": {},
   "outputs": [
    {
     "data": {
      "text/plain": [
       "array([[-0.778, -0.111,  0.556,  0.556],\n",
       "       [-0.556, -1.   ,  1.   ,  0.333],\n",
       "       [-0.111, -1.   ,  0.556,  0.778],\n",
       "       [-0.556, -1.   , -0.111,  1.   ]])"
      ]
     },
     "execution_count": 115,
     "metadata": {},
     "output_type": "execute_result"
    }
   ],
   "source": [
    "# A fancier example of fancy indexing:\n",
    "arr3 = np.linspace(-1, 1, 10)\n",
    "arr3Ix = np.random.choice(10, size = [4, 4])\n",
    "arr3[arr3Ix]"
   ]
  },
  {
   "cell_type": "markdown",
   "metadata": {},
   "source": [
    "### Boolean indexing ###\n",
    "\n",
    "In the following examples, we use hypothetical grades of MLTrain instructors in 5 courses.  \n",
    "`names` vector contains instructor names and `grades` is a matrix with the course grades of 4 courses. Each row of `grades` refers to an instructor in `names`"
   ]
  },
  {
   "cell_type": "code",
   "execution_count": 6,
   "metadata": {},
   "outputs": [],
   "source": [
    "grades = np.random.uniform(0, 1, size = [5, 4])\n",
    "names = np.array(['Alex', 'Chris', 'Nick', 'Chris', 'Chris'])\n"
   ]
  },
  {
   "cell_type": "code",
   "execution_count": 7,
   "metadata": {},
   "outputs": [
    {
     "name": "stdout",
     "output_type": "stream",
     "text": [
      "A mask for Chris: \n",
      "[False  True False  True  True]\n"
     ]
    }
   ],
   "source": [
    "print 'A mask for Chris:', endl, names == 'Chris'\n"
   ]
  },
  {
   "cell_type": "code",
   "execution_count": 28,
   "metadata": {},
   "outputs": [
    {
     "name": "stdout",
     "output_type": "stream",
     "text": [
      "Select the grades of Chris:\n",
      "[[ 0.29648067  0.62647038  0.62315227  0.28414599]\n",
      " [ 0.94647544  0.61264416  0.53760535  0.66312209]\n",
      " [ 0.08808139  0.43668582  0.05748348  0.15250833]]\n"
     ]
    }
   ],
   "source": [
    "print 'Select the grades of Chris:'\n",
    "print grades[names == 'Chris']\n"
   ]
  },
  {
   "cell_type": "code",
   "execution_count": 29,
   "metadata": {},
   "outputs": [
    {
     "name": "stdout",
     "output_type": "stream",
     "text": [
      "and the grades of the others:\n",
      "[[ 0.29971325  0.62940657  0.93927455  0.65521197]\n",
      " [ 0.6413069   0.13714796  0.08391276  0.6144379 ]]\n"
     ]
    }
   ],
   "source": [
    "print 'and the grades of the others:'\n",
    "print grades[names != 'Chris']\n"
   ]
  },
  {
   "cell_type": "code",
   "execution_count": 30,
   "metadata": {},
   "outputs": [
    {
     "name": "stdout",
     "output_type": "stream",
     "text": [
      "the grades of Chris and Alex:\n",
      "[[ 0.29971325  0.62940657  0.93927455  0.65521197]\n",
      " [ 0.29648067  0.62647038  0.62315227  0.28414599]\n",
      " [ 0.94647544  0.61264416  0.53760535  0.66312209]\n",
      " [ 0.08808139  0.43668582  0.05748348  0.15250833]]\n"
     ]
    }
   ],
   "source": [
    "print 'the grades of Chris and Alex:'\n",
    "print grades[np.isin(names, ['Alex', 'Chris'])]\n"
   ]
  },
  {
   "cell_type": "code",
   "execution_count": 31,
   "metadata": {},
   "outputs": [
    {
     "name": "stdout",
     "output_type": "stream",
     "text": [
      "Select the grades of Chris that are > .4 (nasty):\n",
      "[ 0.62647038  0.62315227  0.94647544  0.61264416  0.53760535  0.66312209\n",
      "  0.43668582]\n"
     ]
    }
   ],
   "source": [
    "print 'Select the grades of Chris that are > .4 (nasty):'\n",
    "print grades[(grades > .4) & np.repeat(names == 'Chris', 4).reshape(-1, 4)]"
   ]
  },
  {
   "cell_type": "markdown",
   "metadata": {},
   "source": [
    "### where ###"
   ]
  },
  {
   "cell_type": "code",
   "execution_count": 162,
   "metadata": {},
   "outputs": [
    {
     "name": "stdout",
     "output_type": "stream",
     "text": [
      "Chris grades:\n",
      "[['HIGH' 'HIGH' 'LOW' 'LOW']\n",
      " ['HIGH' 'LOW' 'HIGH' 'LOW']\n",
      " ['LOW' 'LOW' 'LOW' 'LOW']]\n"
     ]
    }
   ],
   "source": [
    "# We want to grade qualitatively and therefore replace grades > .5 with 'HIGH'\n",
    "qGrades = np.where(grades <= .5, 'LOW', 'HIGH')\n",
    "\n",
    "print 'Chris'' grades:'\n",
    "print qGrades[names == 'Chris']"
   ]
  },
  {
   "cell_type": "markdown",
   "metadata": {},
   "source": [
    "### choose ###\n",
    "From N arrays a1, ... aN of the same shape and an index-array ix of equal shape and values in {0, ..., N-1}, we generate an output array with values chosen from the a1, ..., aN according to the values in ix.  \n",
    "  \n",
    "Let's emulate a random experiment using `choose`:  \n",
    "I toss a coin 10 times and if I get heads I select from the normal distribution, otherwise from the exponential.  \n",
    "\n",
    "For those with a probability background, I have created a __mixture model__.  "
   ]
  },
  {
   "cell_type": "markdown",
   "metadata": {},
   "source": [
    "### <span style = \"color: darkred;\">  Quiz: </span> ###\n",
    "<span style = \"background: #E9B96E\">\n",
    "Let's test our knowledge on 'Statistical Inference':  \n",
    "There's an underlying classification problem in the construction below. Can you describe it?\n",
    "</span>"
   ]
  },
  {
   "cell_type": "code",
   "execution_count": 166,
   "metadata": {},
   "outputs": [
    {
     "data": {
      "text/plain": [
       "array([-0.981, -0.981, -0.981, -0.981,  0.841,  0.841,  0.841,  0.841,  0.841,  0.841])"
      ]
     },
     "execution_count": 166,
     "metadata": {},
     "output_type": "execute_result"
    }
   ],
   "source": [
    "choices = np.random.choice([0, 1], 10)\n",
    "arr1 = np.random.standard_normal(10)\n",
    "arr2 = np.random.standard_exponential(10)\n",
    "\n",
    "np.choose(choices, arr1, arr2)"
   ]
  },
  {
   "cell_type": "markdown",
   "metadata": {},
   "source": [
    "--------------\n",
    "# Matrix operations #"
   ]
  },
  {
   "cell_type": "markdown",
   "metadata": {},
   "source": [
    "### Element-wise operations ###"
   ]
  },
  {
   "cell_type": "code",
   "execution_count": 57,
   "metadata": {},
   "outputs": [
    {
     "name": "stdout",
     "output_type": "stream",
     "text": [
      "[[ 1.  2.  3.  4.]\n",
      " [ 1.  2.  3.  4.]\n",
      " [ 1.  2.  3.  4.]\n",
      " [ 1.  2.  3.  4.]]\n",
      "[[-1.15735847  0.73996427 -1.15735847 -1.15735847]\n",
      " [-0.78481835  0.73996427 -0.278621   -0.78481835]\n",
      " [ 0.73996427  0.73996427  0.73996427 -0.278621  ]\n",
      " [-0.78481835 -0.278621   -0.278621   -0.78481835]]\n"
     ]
    }
   ],
   "source": [
    "arr1 = np.tile(np.linspace(1, 4, 4, dtype = np.float32), 4).reshape(4, -1)\n",
    "arr2 = np.random.choice(np.random.randn(4), [4, 4])\n",
    "\n",
    "print arr1\n",
    "print arr2"
   ]
  },
  {
   "cell_type": "code",
   "execution_count": 58,
   "metadata": {},
   "outputs": [
    {
     "name": "stdout",
     "output_type": "stream",
     "text": [
      "[[-0.15735847  2.73996427  1.84264153  2.84264153]\n",
      " [ 0.21518165  2.73996427  2.721379    3.21518165]\n",
      " [ 1.73996427  2.73996427  3.73996427  3.721379  ]\n",
      " [ 0.21518165  1.721379    2.721379    3.21518165]]\n"
     ]
    }
   ],
   "source": [
    "print arr1 + arr2"
   ]
  },
  {
   "cell_type": "code",
   "execution_count": 59,
   "metadata": {},
   "outputs": [
    {
     "name": "stdout",
     "output_type": "stream",
     "text": [
      "[[-1.15735847  1.47992854 -3.47207542 -4.6294339 ]\n",
      " [-0.78481835  1.47992854 -0.83586301 -3.13927341]\n",
      " [ 0.73996427  1.47992854  2.2198928  -1.11448402]\n",
      " [-0.78481835 -0.55724201 -0.83586301 -3.13927341]]\n"
     ]
    }
   ],
   "source": [
    "print arr1 * arr2"
   ]
  },
  {
   "cell_type": "code",
   "execution_count": 60,
   "metadata": {},
   "outputs": [
    {
     "name": "stdout",
     "output_type": "stream",
     "text": [
      "[[-1.15735847  0.36998213 -0.38578616 -0.28933962]\n",
      " [-0.78481835  0.36998213 -0.09287367 -0.19620459]\n",
      " [ 0.73996427  0.36998213  0.24665476 -0.06965525]\n",
      " [-0.78481835 -0.1393105  -0.09287367 -0.19620459]]\n"
     ]
    }
   ],
   "source": [
    "print arr2 / (arr1)"
   ]
  },
  {
   "cell_type": "code",
   "execution_count": 62,
   "metadata": {},
   "outputs": [
    {
     "name": "stdout",
     "output_type": "stream",
     "text": [
      "Element-wise function application (ufunc):\n",
      "[[ 0.          0.69314718  1.09861231  1.38629436]\n",
      " [ 0.          0.69314718  1.09861231  1.38629436]\n",
      " [ 0.          0.69314718  1.09861231  1.38629436]\n",
      " [ 0.          0.69314718  1.09861231  1.38629436]]\n"
     ]
    }
   ],
   "source": [
    "print 'Element-wise function application (ufunc):'\n",
    "print np.log(arr1)"
   ]
  },
  {
   "cell_type": "markdown",
   "metadata": {},
   "source": [
    "### Matrix multiplication ###"
   ]
  },
  {
   "cell_type": "code",
   "execution_count": 178,
   "metadata": {},
   "outputs": [
    {
     "name": "stdout",
     "output_type": "stream",
     "text": [
      "Matrix multiplication:\n",
      "[[  2.542 -11.484  -5.994 -11.667]\n",
      " [  2.542 -11.484  -5.994 -11.667]\n",
      " [  2.542 -11.484  -5.994 -11.667]\n",
      " [  2.542 -11.484  -5.994 -11.667]]\n",
      "\n",
      "Matrix-vector multiplications:\n",
      "[ 2.542  2.542  2.542  2.542]\n",
      "[ -3.624  -7.248 -10.872 -14.496]\n"
     ]
    }
   ],
   "source": [
    "print 'Matrix multiplication:'\n",
    "print np.dot(arr1, arr2)\n",
    "\n",
    "print endl, 'Matrix-vector multiplications:'\n",
    "print np.dot(arr1, arr2[:, 0])\n",
    "print np.dot(arr2[0], arr1)"
   ]
  },
  {
   "cell_type": "markdown",
   "metadata": {},
   "source": [
    "### BLAS ###\n",
    "See https://docs.scipy.org/doc/numpy-1.13.0/reference/routines.linalg.html"
   ]
  },
  {
   "cell_type": "code",
   "execution_count": 187,
   "metadata": {},
   "outputs": [
    {
     "name": "stdout",
     "output_type": "stream",
     "text": [
      "Singular values of arr2:\n",
      "[ 7.127  4.499  1.87   0.997]\n",
      "\n",
      "The eigenvalues of arr2 are:\n",
      "[ 2.340+1.501j  2.340-1.501j -1.973+1.961j -1.973-1.961j]\n"
     ]
    }
   ],
   "source": [
    "import numpy.linalg as la\n",
    "\n",
    "U, sigma, V = la.svd(arr2)\n",
    "print 'Singular values of arr2:'\n",
    "print sigma\n",
    "\n",
    "eigValues, eigVectors = la.eig(arr2)\n",
    "print endl, 'The eigenvalues of arr2 are:'\n",
    "print eigValues"
   ]
  },
  {
   "cell_type": "markdown",
   "metadata": {},
   "source": [
    "-----------------------------------\n",
    "# Retructuring arrays #"
   ]
  },
  {
   "cell_type": "markdown",
   "metadata": {},
   "source": [
    "### reshape | resize ###"
   ]
  },
  {
   "cell_type": "code",
   "execution_count": 32,
   "metadata": {},
   "outputs": [
    {
     "name": "stdout",
     "output_type": "stream",
     "text": [
      "[0 1 2 3 4 5 6 7 8 9]\n"
     ]
    }
   ],
   "source": [
    "arr = np.arange(10)\n",
    "print arr\n"
   ]
  },
  {
   "cell_type": "code",
   "execution_count": 39,
   "metadata": {},
   "outputs": [
    {
     "name": "stdout",
     "output_type": "stream",
     "text": [
      "Make a 2x5 array:\n",
      "[[0 1 2 3 4]\n",
      " [5 6 7 8 9]]\n"
     ]
    }
   ],
   "source": [
    "print 'Make a 2x5 array:'\n",
    "print arr.reshape(2, 5)\n"
   ]
  },
  {
   "cell_type": "code",
   "execution_count": 40,
   "metadata": {},
   "outputs": [
    {
     "name": "stdout",
     "output_type": "stream",
     "text": [
      "This is the same\n",
      "[[0 1 2 3 4]\n",
      " [5 6 7 8 9]]\n"
     ]
    }
   ],
   "source": [
    "print 'This is the same'\n",
    "print arr.reshape(2, -1)\n"
   ]
  },
  {
   "cell_type": "code",
   "execution_count": 41,
   "metadata": {},
   "outputs": [
    {
     "name": "stdout",
     "output_type": "stream",
     "text": [
      "Formally, \"newaxis\" seems irrelevant but it reshapes as well:\n",
      "[[[0 1 2 3 4]]\n",
      "\n",
      " [[5 6 7 8 9]]]\n"
     ]
    }
   ],
   "source": [
    "print 'Formally, \"newaxis\" seems irrelevant but it reshapes as well:'\n",
    "print arr.reshape(2, -1)[:, np.newaxis, :]\n"
   ]
  },
  {
   "cell_type": "code",
   "execution_count": 42,
   "metadata": {},
   "outputs": [
    {
     "name": "stdout",
     "output_type": "stream",
     "text": [
      "nparray.resize modifies the array in place and adds zeros:\n",
      "[[0 1 2]\n",
      " [3 4 5]\n",
      " [6 7 8]\n",
      " [9 0 0]\n",
      " [0 0 0]]\n"
     ]
    }
   ],
   "source": [
    "print 'nparray.resize modifies the array in place and adds zeros:'\n",
    "x = arr.copy()\n",
    "x.resize(5, 3)\n",
    "print x\n"
   ]
  },
  {
   "cell_type": "code",
   "execution_count": 43,
   "metadata": {},
   "outputs": [
    {
     "name": "stdout",
     "output_type": "stream",
     "text": [
      "numpy.resize returns a new array and adds starting over\n",
      "[[0 1 2]\n",
      " [3 4 5]\n",
      " [6 7 8]\n",
      " [9 0 1]\n",
      " [2 3 4]]\n"
     ]
    }
   ],
   "source": [
    "print 'numpy.resize returns a new array and adds starting over'\n",
    "print np.resize(arr, [5, 3])"
   ]
  },
  {
   "cell_type": "markdown",
   "metadata": {},
   "source": [
    "### repeating and tiling ###"
   ]
  },
  {
   "cell_type": "code",
   "execution_count": 44,
   "metadata": {},
   "outputs": [
    {
     "name": "stdout",
     "output_type": "stream",
     "text": [
      "Repeat each element twice:\n",
      "[0 0 1 1 2 2 3 3]\n"
     ]
    }
   ],
   "source": [
    "arr = np.arange(4)\n",
    "print 'Repeat each element twice:'\n",
    "print np.repeat(arr, 2)\n"
   ]
  },
  {
   "cell_type": "code",
   "execution_count": 45,
   "metadata": {},
   "outputs": [
    {
     "name": "stdout",
     "output_type": "stream",
     "text": [
      "\n",
      "We can have different repeats per element:\n",
      "[0 0 1 3 3 3]\n"
     ]
    }
   ],
   "source": [
    "print endl, 'We can have different repeats per element:'\n",
    "print np.repeat(arr, [2, 1, 0, 3])\n",
    "\n"
   ]
  },
  {
   "cell_type": "code",
   "execution_count": 46,
   "metadata": {},
   "outputs": [
    {
     "name": "stdout",
     "output_type": "stream",
     "text": [
      "\n",
      "We can repeat along an axis:\n",
      "[[0 0 1 1]\n",
      " [2 2 3 3]]\n"
     ]
    }
   ],
   "source": [
    "print endl, 'We can repeat along an axis:'\n",
    "print np.repeat(arr.reshape(2, 2), 2, axis = 1)\n"
   ]
  },
  {
   "cell_type": "code",
   "execution_count": 47,
   "metadata": {},
   "outputs": [
    {
     "name": "stdout",
     "output_type": "stream",
     "text": [
      "\n",
      "\"Tile\" repeats the array as block, broadcasting to new axes if necessary:\n",
      "[[[0 1 2 3 0 1 2 3]\n",
      "  [0 1 2 3 0 1 2 3]]\n",
      "\n",
      " [[0 1 2 3 0 1 2 3]\n",
      "  [0 1 2 3 0 1 2 3]]\n",
      "\n",
      " [[0 1 2 3 0 1 2 3]\n",
      "  [0 1 2 3 0 1 2 3]]]\n"
     ]
    }
   ],
   "source": [
    "print endl, '\"Tile\" repeats the array as block, broadcasting to new axes if necessary:'\n",
    "print np.tile(arr, [3, 2, 2])"
   ]
  },
  {
   "cell_type": "markdown",
   "metadata": {},
   "source": [
    "### stacking ###\n",
    "\n",
    "`stack` concatenates a list of equi-sized arrays along a new dimension.  \n",
    "For vectors it is intuitive but for arrays of more dimensions the result is more involved.  \n",
    "To see what actually happens, before stacking add an extra dimension to one of the arrays as below:"
   ]
  },
  {
   "cell_type": "code",
   "execution_count": 48,
   "metadata": {},
   "outputs": [
    {
     "name": "stdout",
     "output_type": "stream",
     "text": [
      "Stack along the 1st dim (rows):\n",
      "[[0 1 2 3]]\n",
      "[[ 0  1  2  3]\n",
      " [ 0 -1 -2 -3]]\n"
     ]
    }
   ],
   "source": [
    "print 'Stack along the 1st dim (rows):'\n",
    "print arr[np.newaxis, :]\n",
    "print np.stack([arr, -arr], axis = 0)\n"
   ]
  },
  {
   "cell_type": "code",
   "execution_count": 52,
   "metadata": {},
   "outputs": [
    {
     "name": "stdout",
     "output_type": "stream",
     "text": [
      "Stack along columns\n",
      "[[0]\n",
      " [1]\n",
      " [2]\n",
      " [3]]\n",
      "[[ 0  0]\n",
      " [ 1 -1]\n",
      " [ 2 -2]\n",
      " [ 3 -3]]\n"
     ]
    }
   ],
   "source": [
    "print 'Stack along columns'\n",
    "print arr[:, np.newaxis]\n",
    "print np.stack([arr, -arr], axis = 1)\n"
   ]
  },
  {
   "cell_type": "code",
   "execution_count": 53,
   "metadata": {},
   "outputs": [
    {
     "name": "stdout",
     "output_type": "stream",
     "text": [
      "Stack 2 2D arrays one after the other:\n",
      "[[[ 0  1]\n",
      "  [ 2  3]]\n",
      "\n",
      " [[ 0 -1]\n",
      "  [-2 -3]]]\n"
     ]
    }
   ],
   "source": [
    "print 'Stack 2 2D arrays one after the other:'\n",
    "arr2 = arr.reshape(2, 2)\n",
    "print np.stack([arr2, -arr2], axis = 0)\n"
   ]
  },
  {
   "cell_type": "code",
   "execution_count": 54,
   "metadata": {},
   "outputs": [
    {
     "name": "stdout",
     "output_type": "stream",
     "text": [
      "Now stack by transforming each element to a 1x2 array:\n",
      "[[[ 0  0]\n",
      "  [ 1 -1]]\n",
      "\n",
      " [[ 2 -2]\n",
      "  [ 3 -3]]]\n"
     ]
    }
   ],
   "source": [
    "print 'Now stack by transforming each element to a 1x2 array:'\n",
    "print np.stack([arr2, -arr2], axis = 2)"
   ]
  },
  {
   "cell_type": "markdown",
   "metadata": {},
   "source": [
    "### Concatenate ###\n",
    "To \"stack\" without adding a new dimension, use concatenate.  \n",
    "Therefore, you can only concatenate vectors on axis = 0 and 2D arrays on axis = 0 or 1"
   ]
  },
  {
   "cell_type": "code",
   "execution_count": 56,
   "metadata": {},
   "outputs": [
    {
     "name": "stdout",
     "output_type": "stream",
     "text": [
      "[[ 0  1  0 -1]\n",
      " [ 2  3 -2 -3]]\n"
     ]
    }
   ],
   "source": [
    "arr = np.arange(4).reshape(2, 2)\n",
    "print np.concatenate([arr, -arr], axis = 1)"
   ]
  },
  {
   "cell_type": "markdown",
   "metadata": {},
   "source": [
    "<div style = \"color: darkred; font-size: 200%; font-weight: bold;  text-decoration: underline\"> \n",
    "Exercise \n",
    "</div>  \n",
    "\n",
    "Concatenate 2 vectors columnwise.  \n",
    "Is there a more direct way using `np.stack`?"
   ]
  },
  {
   "cell_type": "raw",
   "metadata": {},
   "source": [
    "%load -s numpy2 solutions.py"
   ]
  },
  {
   "cell_type": "code",
   "execution_count": null,
   "metadata": {},
   "outputs": [],
   "source": []
  }
 ],
 "metadata": {
  "kernelspec": {
   "display_name": "Python 2",
   "language": "python",
   "name": "python2"
  },
  "language_info": {
   "codemirror_mode": {
    "name": "ipython",
    "version": 2
   },
   "file_extension": ".py",
   "mimetype": "text/x-python",
   "name": "python",
   "nbconvert_exporter": "python",
   "pygments_lexer": "ipython2",
   "version": "2.7.12"
  }
 },
 "nbformat": 4,
 "nbformat_minor": 2
}
