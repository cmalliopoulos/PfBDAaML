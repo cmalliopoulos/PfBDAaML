{
 "cells": [
  {
   "cell_type": "markdown",
   "metadata": {},
   "source": [
    "![MLTrain logo](https://mltrain.cc/wp-content/uploads/2017/11/mltrain_logo-4.png \"MLTrain logo\")"
   ]
  },
  {
   "cell_type": "code",
   "execution_count": 2,
   "metadata": {},
   "outputs": [
    {
     "data": {
      "text/html": [
       "\n",
       "    <style>\n",
       "    @import url('https://fonts.googleapis.com/css?family=Roboto+Condensed');\n",
       "    </style> "
      ],
      "text/plain": [
       "<IPython.core.display.HTML object>"
      ]
     },
     "metadata": {},
     "output_type": "display_data"
    },
    {
     "data": {
      "text/html": [
       "<style> .container {width: 90%} </style>"
      ],
      "text/plain": [
       "<IPython.core.display.HTML object>"
      ]
     },
     "metadata": {},
     "output_type": "display_data"
    },
    {
     "data": {
      "text/html": [
       "\n",
       "    <style> .CodeMirror {font-size: 10.5pt !important} </style>"
      ],
      "text/plain": [
       "<IPython.core.display.HTML object>"
      ]
     },
     "metadata": {},
     "output_type": "display_data"
    },
    {
     "data": {
      "text/html": [
       "\n",
       "    <style> div.cell.selected{border: 2px};</style>"
      ],
      "text/plain": [
       "<IPython.core.display.HTML object>"
      ]
     },
     "metadata": {},
     "output_type": "display_data"
    },
    {
     "data": {
      "text/html": [
       "<style> \n",
       "    .text_cell_render {\n",
       "        font-family: \"Roboto Condensed\"; \n",
       "        line-height: 145%; \n",
       "        font-size: 14pt} </style>"
      ],
      "text/plain": [
       "<IPython.core.display.HTML object>"
      ]
     },
     "metadata": {},
     "output_type": "display_data"
    },
    {
     "data": {
      "text/html": [
       "<style> \n",
       "    .CodeMirror {font-size: large} \n",
       "    .output_area {font-size: large} </style>"
      ],
      "text/plain": [
       "<IPython.core.display.HTML object>"
      ]
     },
     "metadata": {},
     "output_type": "display_data"
    },
    {
     "data": {
      "text/html": [
       "<style> MathJax.Hub.Config {\n",
       "  \"HTML-CSS\": {\n",
       "    preferredFont: \"Tex\"}}</style>"
      ],
      "text/plain": [
       "<IPython.core.display.HTML object>"
      ]
     },
     "metadata": {},
     "output_type": "display_data"
    }
   ],
   "source": [
    "# !wget -q -O changeNBLayout.py https://raw.githubusercontent.com/cmalliopoulos/PfBDAaML/master/changeNBLayout.py\n",
    "# % run changeNBLayout.py\n",
    "%run ../PfBDAaML/changeNBLayout.py"
   ]
  },
  {
   "cell_type": "markdown",
   "metadata": {},
   "source": [
    "-------------------------\n",
    "# Introduction #\n",
    "\n",
    "The `numpy` package is the basis for all numeric computations in Python because it provides __high-performance__ vector and matrix computations and a compact API.  \n",
    "`numpy` methods and functions use C and Fortran underneeth so when only numpy calls are made in sequence the performance is comparabe to direct C|Fortran implementations.  \n",
    "A sequence of _numpy-only_ calls is generally known as '_vectorized computations_'.\n",
    "\n",
    "__NB:__ numpy processes in-memory data so there're no provisions in the library per-se for efficient read|write to disks. It is the programmer's responsibility to employ mechanisms for either compacting the memory representations of data or handle disk paging.  \n",
    "The practice for hadling large arrays is to use scipy's _sparse array__ libraries and numpy's _memory-mapped files_, both outside the scope of this lecture."
   ]
  },
  {
   "cell_type": "code",
   "execution_count": 10,
   "metadata": {},
   "outputs": [
    {
     "name": "stdout",
     "output_type": "stream",
     "text": [
      " Current Numpy version is: 1.13.3\n"
     ]
    }
   ],
   "source": [
    "import numpy as np\n",
    "import random as ran\n",
    "from os import linesep as endl\n",
    "\n",
    "# Our library version \n",
    "print 'Current Numpy version is:', np.__version__"
   ]
  },
  {
   "cell_type": "markdown",
   "metadata": {},
   "source": [
    "--------------------------\n",
    "# Constructors #"
   ]
  },
  {
   "cell_type": "markdown",
   "metadata": {},
   "source": [
    "### The ndarray constructor ###"
   ]
  },
  {
   "cell_type": "code",
   "execution_count": 17,
   "metadata": {},
   "outputs": [
    {
     "name": "stdout",
     "output_type": "stream",
     "text": [
      "2x4 integer ndarray with arbitrary memory contents: \n",
      "[[              0               0 140678978722384 140678979376864]\n",
      " [140678978749216 140678979377984 140679888726176               0]]\n"
     ]
    }
   ],
   "source": [
    "arr = np.ndarray(shape = [2, 4], dtype = int, order = 'C')\n",
    "print '2x4 integer ndarray with arbitrary memory contents:', endl, arr"
   ]
  },
  {
   "cell_type": "markdown",
   "metadata": {},
   "source": [
    "### The numpy.array factory function ###"
   ]
  },
  {
   "cell_type": "code",
   "execution_count": 23,
   "metadata": {},
   "outputs": [
    {
     "name": "stdout",
     "output_type": "stream",
     "text": [
      "100 elements from the Gamma distribution: \n",
      "[ 0.45144449  0.31371191  0.08575201  0.14052511  0.01337472  0.01973911\n",
      "  0.20938272  0.17227148  0.24616949  0.27341855]\n"
     ]
    }
   ],
   "source": [
    "# A numpy.ndarray object with 100 samples from the Gamma distribution\n",
    "s = ran.seed(101)\n",
    "data = [ran.gammavariate(.6, .8) for _ in xrange(10)]\n",
    "print '100 elements from the Gamma distribution:', endl, np.array(data, dtype = float)"
   ]
  },
  {
   "cell_type": "markdown",
   "metadata": {},
   "source": [
    "### Specific ndarray constructors ###\n",
    "There're special functions for constructing arrays of certain content:"
   ]
  },
  {
   "cell_type": "code",
   "execution_count": 37,
   "metadata": {},
   "outputs": [
    {
     "name": "stdout",
     "output_type": "stream",
     "text": [
      "Integer range ctor with arguments <start>, <stop>, <step>: \n",
      "[0 1 2 3 4 5 6 7 8 9]\n",
      "\n",
      "10 equispaced elements in [-1, 1) \n",
      "[-1.  -0.8 -0.6 -0.4 -0.2  0.   0.2  0.4  0.6  0.8]\n",
      "\n",
      "10 logarithmic elements in [-1, 1] \n",
      "[ 0.36787944  0.45942582  0.57375342  0.71653131  0.89483932  1.11751907\n",
      "  1.39561243  1.742909    2.17662993  2.71828183]\n",
      "\n",
      "2 by 4 zeros \n",
      "[[ 0.  0.  0.  0.]\n",
      " [ 0.  0.  0.  0.]]\n",
      "\n",
      "2 by 4 units \n",
      "[[ 1.  1.  1.  1.]\n",
      " [ 1.  1.  1.  1.]]\n",
      "\n",
      "2 by 4 of value randomly selected from the normal distribution:\n",
      "[[-0.03589073 -0.03589073 -0.03589073 -0.03589073]\n",
      " [-0.03589073 -0.03589073 -0.03589073 -0.03589073]]\n"
     ]
    }
   ],
   "source": [
    "# range ctor:\n",
    "print 'Integer range ctor with arguments <start>, <stop>, <step>:', endl, np.arange(0, 10, 1)\n",
    "\n",
    "# linspace\n",
    "print endl, '10 equispaced elements in [-1, 1)', endl, np.linspace(-1, 1, 10, endpoint = False)\n",
    "\n",
    "# logspace\n",
    "print endl, '10 logarithmic elements in [-1, 1]', endl, np.logspace(-1, 1, 10, endpoint = True, base = np.e)\n",
    "\n",
    "# zeros\n",
    "print endl, '2 by 4 zeros', endl, np.zeros(shape = [2, 4])\n",
    "\n",
    "# ones\n",
    "print endl, '2 by 4 units', endl, np.ones(shape = [2, 4])\n",
    "\n",
    "# full\n",
    "print endl, '2 by 4 of value randomly selected from the normal distribution:' \n",
    "print np.full([2, 4], fill_value = ran.normalvariate(0., .1), dtype = float)\n"
   ]
  },
  {
   "cell_type": "markdown",
   "metadata": {},
   "source": [
    "### meshgrid and mgrid ###\n",
    "\n",
    "These functions generate grid points in $\\mathbb R^n$ (n is the dimension of the grid) from a list of coordinate vectors.  \n",
    "So if x = [1, 2] and y = [0, 1] each of `meshgrid` and `mgrid` will generate 2 2D matrices of the form:  \n",
    "\n",
    "``` Python\n",
    "[[1, 2],  [[0, 0],\n",
    " [1, 2]],  [1, 1]]\n",
    "```\n",
    "\n",
    "This is particularely useful for evaluating nultivariate functions using vector operations as we shall see below"
   ]
  },
  {
   "cell_type": "markdown",
   "metadata": {},
   "source": [
    "`meshgrid`"
   ]
  },
  {
   "cell_type": "code",
   "execution_count": 67,
   "metadata": {},
   "outputs": [
    {
     "name": "stdout",
     "output_type": "stream",
     "text": [
      "X =  \n",
      "[[-1.  -0.5  0.   0.5]\n",
      " [-1.  -0.5  0.   0.5]\n",
      " [-1.  -0.5  0.   0.5]\n",
      " [-1.  -0.5  0.   0.5]]\n",
      "\n",
      "Y = \n",
      "[[  0.1     0.1     0.1     0.1  ]\n",
      " [  0.464   0.464   0.464   0.464]\n",
      " [  2.154   2.154   2.154   2.154]\n",
      " [ 10.     10.     10.     10.   ]]\n",
      "\n",
      "Coordinate grid: \n",
      "[[(-1.0, 0.1), (-0.5, 0.1), (0.0, 0.1), (0.5, 0.1)], [(-1.0, 0.464), (-0.5, 0.464), (0.0, 0.464), (0.5, 0.464)], [(-1.0, 2.154), (-0.5, 2.154), (0.0, 2.154), (0.5, 2.154)], [(-1.0, 10.0), (-0.5, 10.0), (0.0, 10.0), (0.5, 10.0)]]\n"
     ]
    }
   ],
   "source": [
    "x = np.linspace(-1, 1, 4, endpoint = False)\n",
    "y = np.logspace(-1, 1, 4, base = 10, endpoint = True)\n",
    "\n",
    "X, Y = np.meshgrid(x, y, indexing = 'xy')\n",
    "\n",
    "# np.set_printoptions(linewidth = 132, precision = 3)\n",
    "print 'X = ', endl, X\n",
    "print endl, 'Y =', endl, Y\n",
    "\n",
    "print endl, 'Coordinate grid:', endl, [[(round(_x, 3), round(_y, 3)) for _x in x] for _y in y]"
   ]
  },
  {
   "cell_type": "markdown",
   "metadata": {},
   "source": [
    "Evaluating $\\sin ({x^2} + {y^2})$ on the generated (X, Y) grid:"
   ]
  },
  {
   "cell_type": "code",
   "execution_count": 68,
   "metadata": {},
   "outputs": [
    {
     "data": {
      "text/plain": [
       "array([[ 0.847,  0.257,  0.01 ,  0.257],\n",
       "       [ 0.938,  0.449,  0.214,  0.449],\n",
       "       [-0.598, -0.984, -0.997, -0.984],\n",
       "       [ 0.452, -0.277, -0.506, -0.277]])"
      ]
     },
     "execution_count": 68,
     "metadata": {},
     "output_type": "execute_result"
    }
   ],
   "source": [
    "np.sin(X**2 + Y**2)"
   ]
  },
  {
   "cell_type": "markdown",
   "metadata": {},
   "source": [
    "`mgrid` is syntactic sugar for `start:end:step` meshgrids:"
   ]
  },
  {
   "cell_type": "code",
   "execution_count": 72,
   "metadata": {},
   "outputs": [
    {
     "data": {
      "text/plain": [
       "array([[[4, 4, 4, 4],\n",
       "        [3, 3, 3, 3],\n",
       "        [2, 2, 2, 2],\n",
       "        [1, 1, 1, 1]],\n",
       "\n",
       "       [[0, 2, 4, 6],\n",
       "        [0, 2, 4, 6],\n",
       "        [0, 2, 4, 6],\n",
       "        [0, 2, 4, 6]]])"
      ]
     },
     "execution_count": 72,
     "metadata": {},
     "output_type": "execute_result"
    }
   ],
   "source": [
    "np.mgrid[4:0:-1, 0:8:2]"
   ]
  },
  {
   "cell_type": "markdown",
   "metadata": {},
   "source": [
    "### Random array generators ###\n",
    "Numpy has a rich set functions for sampling from univariate and multivariate distributions.  \n",
    "Ref: https://docs.scipy.org/doc/numpy-1.13.0/reference/routines.random.html"
   ]
  },
  {
   "cell_type": "code",
   "execution_count": 94,
   "metadata": {},
   "outputs": [
    {
     "name": "stdout",
     "output_type": "stream",
     "text": [
      "A 4 by 4 array with samples drawn from the uniform distribution in [0., 1.)]:\n",
      "[[ 0.182  0.959  0.373  0.843]\n",
      " [ 0.309  0.381  0.261  0.617]\n",
      " [ 0.138  0.849  0.799  0.138]\n",
      " [ 0.085  0.123  0.992  0.541]]\n",
      "\n",
      "4 floats drawn from U[0., 1.)\n",
      "[ 0.007  0.12   0.085  0.018]\n",
      "\n",
      "Bootstrap from data using probability distribution\n",
      "[9 5 9 5]\n",
      "\n",
      "Random bytes \n",
      "'(s\\x12uq'\n"
     ]
    }
   ],
   "source": [
    "print 'A 4 by 4 array with samples drawn from the uniform distribution in [0., 1.)]:'\n",
    "print np.random.rand(4, 4)\n",
    "\n",
    "print endl, '4 floats drawn from U[0., 1.)'\n",
    "print np.random.sample(size = 4)\n",
    "\n",
    "# Create a vector of probabilities using 'toProb', then use np.random.choice\n",
    "# to select with replacement (bootstrap) from {0,...,9} 4 elements:\n",
    "toProb = lambda _: _/sum(_)\n",
    "print endl, 'Bootstrap from data using probability distribution'\n",
    "print np.random.choice(np.arange(10), size = 4, replace = True, p = toProb(np.random.sample(10)))\n",
    "\n",
    "# Random hex numbers drawn uniformly in the range {0,...255}\n",
    "print endl, 'Random bytes', endl, repr(np.random.bytes(5))"
   ]
  },
  {
   "cell_type": "markdown",
   "metadata": {},
   "source": [
    "__Distributions:__ The list of supported distributions is large. Go to [the reference page](https://docs.scipy.org/doc/numpy-1.13.0/reference/routines.random.html) to see more"
   ]
  },
  {
   "cell_type": "code",
   "execution_count": 99,
   "metadata": {},
   "outputs": [
    {
     "name": "stdout",
     "output_type": "stream",
     "text": [
      "Floats drawn from N(0, 1):\n",
      "[[ 0.81  -0.505  0.682  0.834 -0.678]\n",
      " [ 1.307 -0.022 -0.116  0.915 -0.383]\n",
      " [ 0.756 -0.229  0.322  0.74  -1.479]\n",
      " [ 0.782  0.509  1.471 -0.324 -1.302]\n",
      " [-0.472  0.462 -0.469 -0.729  0.408]]\n",
      "\n",
      "Chi-square distribution with 5 degrees of freedom:\n",
      "[ 7.011  2.469  3.461  3.789  4.762]\n",
      "\n",
      "10 samples from the exponential distribution\n",
      "[ 0.36   0.195  0.118  0.168  0.033  0.224  0.688  0.728  2.78   0.462]\n"
     ]
    }
   ],
   "source": [
    "print 'Floats drawn from N(0, 1):'\n",
    "print np.random.randn(5, 5)\n",
    "\n",
    "print endl, 'Chi-square distribution with 5 degrees of freedom:'\n",
    "print np.random.chisquare(5, 5)\n",
    "\n",
    "print endl, '10 samples from the exponential distribution'\n",
    "print np.random.exponential(size = 10)"
   ]
  },
  {
   "cell_type": "code",
   "execution_count": null,
   "metadata": {},
   "outputs": [],
   "source": []
  },
  {
   "cell_type": "markdown",
   "metadata": {},
   "source": [
    "---------------------------------\n",
    "# ndarray attributes #"
   ]
  },
  {
   "cell_type": "code",
   "execution_count": 102,
   "metadata": {},
   "outputs": [
    {
     "name": "stdout",
     "output_type": "stream",
     "text": [
      "\n",
      "An array of characters: \n",
      "['a' 'b' 'c' 'd' 'e' 'f' 'g' 'h' 'i' 'j' 'k' 'l' 'm' 'n' 'o' 'p' 'q' 'r' 's' 't' 'u' 'v' 'w' 'x' 'y' 'z' 'A' 'B' 'C' 'D' 'E' 'F' 'G'\n",
      " 'H' 'I' 'J' 'K' 'L' 'M' 'N' 'O' 'P' 'Q' 'R' 'S' 'T' 'U' 'V' 'W' 'X' 'Y' 'Z']\n",
      "|S1 (52,) 52 1 52 1\n"
     ]
    }
   ],
   "source": [
    "from string import ascii_letters\n",
    "sarr = np.array(list(ascii_letters), dtype = str)\n",
    "\n",
    "print endl, 'An array of characters:', endl, sarr\n",
    "print sarr.dtype, sarr.shape, sarr.size, sarr.ndim, sarr.nbytes, sarr.itemsize"
   ]
  },
  {
   "cell_type": "markdown",
   "metadata": {},
   "source": [
    "---------------------------------------------------\n",
    "# Indexing and selection #"
   ]
  },
  {
   "cell_type": "code",
   "execution_count": 116,
   "metadata": {},
   "outputs": [
    {
     "name": "stdout",
     "output_type": "stream",
     "text": [
      "5\n",
      "[2 3 4]\n",
      "[9 8 7 6 5 4 3 2 1 0]\n",
      "[0 2 4 6 8]\n",
      "[9 7 5 3 1]\n"
     ]
    }
   ],
   "source": [
    "arr = np.arange(10)\n",
    "\n",
    "# Element accessor:\n",
    "print arr[5]\n",
    "\n",
    "# Range and 'shard' accessors (slices)\n",
    "print arr[2:5]\n",
    "print arr[::-1]\n",
    "print arr[:-1:2]\n",
    "print arr[-1::-2]"
   ]
  },
  {
   "cell_type": "markdown",
   "metadata": {},
   "source": [
    "### Fancy indexing ###"
   ]
  },
  {
   "cell_type": "code",
   "execution_count": 117,
   "metadata": {},
   "outputs": [
    {
     "name": "stdout",
     "output_type": "stream",
     "text": [
      "\n",
      "[[-0.455 -0.273 -0.091]\n",
      " [ 0.636  0.818  1.   ]]\n",
      "[[-1.    -0.818]\n",
      " [-0.455 -0.273]\n",
      " [ 0.091  0.273]\n",
      " [ 0.636  0.818]]\n"
     ]
    }
   ],
   "source": [
    "arr2 = np.linspace(-1, 1, 12).reshape(4, -1)\n",
    "print endl, arr2[[1, 3]]\n",
    "print arr2[:, [0, 1]]"
   ]
  },
  {
   "cell_type": "code",
   "execution_count": 118,
   "metadata": {},
   "outputs": [
    {
     "data": {
      "text/plain": [
       "array([-1.   , -0.273])"
      ]
     },
     "execution_count": 118,
     "metadata": {},
     "output_type": "execute_result"
    }
   ],
   "source": [
    "# Counter-intuitive: the following will NOT return a 2x2 array:\n",
    "arr2[[0, 1], [0, 1]]"
   ]
  },
  {
   "cell_type": "code",
   "execution_count": 112,
   "metadata": {},
   "outputs": [
    {
     "name": "stdout",
     "output_type": "stream",
     "text": [
      "[[ 3.     3.     3.   ]\n",
      " [-0.455 -0.273 -0.091]\n",
      " [ 0.091  0.273  0.455]\n",
      " [ 0.636  0.818  1.   ]]\n"
     ]
    }
   ],
   "source": [
    "# Assign 3 to first row's elements. This is an application of 'broadcasting'\n",
    "arr2[0] = 3\n",
    "print arr2"
   ]
  },
  {
   "cell_type": "code",
   "execution_count": 115,
   "metadata": {},
   "outputs": [
    {
     "data": {
      "text/plain": [
       "array([[-0.778, -0.111,  0.556,  0.556],\n",
       "       [-0.556, -1.   ,  1.   ,  0.333],\n",
       "       [-0.111, -1.   ,  0.556,  0.778],\n",
       "       [-0.556, -1.   , -0.111,  1.   ]])"
      ]
     },
     "execution_count": 115,
     "metadata": {},
     "output_type": "execute_result"
    }
   ],
   "source": [
    "# A fancier example of fancy indexing:\n",
    "arr3 = np.linspace(-1, 1, 10)\n",
    "arr3Ix = np.random.choice(10, size = [4, 4])\n",
    "arr3[arr3Ix]"
   ]
  },
  {
   "cell_type": "markdown",
   "metadata": {},
   "source": [
    "### Boolean indexing ###\n",
    "\n",
    "In the following examples, we use hypothetical grades of MLTrain instructors in 5 courses.  \n",
    "`names` vector contains instructor names and `grades` is a matrix of course grades. Each row of `grades` refers to an instructor in `names`"
   ]
  },
  {
   "cell_type": "code",
   "execution_count": 160,
   "metadata": {},
   "outputs": [
    {
     "name": "stdout",
     "output_type": "stream",
     "text": [
      "A mask for Chris: \n",
      "[False  True False  True  True]\n",
      "\n",
      "Select the grades of Chris:\n",
      "[[ 0.718  0.758  0.465  0.291]\n",
      " [ 0.987  0.332  0.504  0.41 ]\n",
      " [ 0.428  0.383  0.262  0.135]]\n",
      "\n",
      "and the grades of the others:\n",
      "[[ 0.078  0.672  0.534  0.851]\n",
      " [ 0.348  0.011  0.508  0.592]]\n",
      "\n",
      "the grades of Chris and Alex:\n",
      "[[ 0.078  0.672  0.534  0.851]\n",
      " [ 0.718  0.758  0.465  0.291]\n",
      " [ 0.987  0.332  0.504  0.41 ]\n",
      " [ 0.428  0.383  0.262  0.135]]\n",
      "\n",
      "Select the grades of Chris that are > .4 (nasty):\n",
      "[ 0.718  0.758  0.465  0.987  0.504  0.41   0.428]\n"
     ]
    }
   ],
   "source": [
    "grades = np.random.uniform(0, 1, size = [5, 4])\n",
    "names = np.array(['Alex', 'Chris', 'Nick', 'Chris', 'Chris'])\n",
    "\n",
    "print 'A mask for Chris:', endl, names == 'Chris'\n",
    "\n",
    "print endl, 'Select the grades of Chris:'\n",
    "print grades[names == 'Chris']\n",
    "\n",
    "print endl, 'and the grades of the others:'\n",
    "print grades[names != 'Chris']\n",
    "\n",
    "print endl, 'the grades of Chris and Alex:'\n",
    "print grades[np.isin(names, ['Alex', 'Chris'])]\n",
    "\n",
    "print endl, 'Select the grades of Chris that are > .4 (nasty):'\n",
    "print grades[(grades > .4) & np.repeat(names == 'Chris', 4).reshape(-1, 4)]"
   ]
  },
  {
   "cell_type": "markdown",
   "metadata": {},
   "source": [
    "### where ###"
   ]
  },
  {
   "cell_type": "code",
   "execution_count": 162,
   "metadata": {},
   "outputs": [
    {
     "name": "stdout",
     "output_type": "stream",
     "text": [
      "Chris grades:\n",
      "[['HIGH' 'HIGH' 'LOW' 'LOW']\n",
      " ['HIGH' 'LOW' 'HIGH' 'LOW']\n",
      " ['LOW' 'LOW' 'LOW' 'LOW']]\n"
     ]
    }
   ],
   "source": [
    "# We want to grade qualitatively and therefore replace grades > .5 with 'HIGH'\n",
    "qGrades = np.where(grades <= .5, 'LOW', 'HIGH')\n",
    "\n",
    "print 'Chris'' grades:'\n",
    "print qGrades[names == 'Chris']"
   ]
  },
  {
   "cell_type": "markdown",
   "metadata": {},
   "source": [
    "### choose ###\n",
    "From N arrays a1, ... aN of the same shape and an index-array ix of equal shape and values in {0, ..., N-1}, we generate an output array with values chosen from the a1, ..., aN according to the values in ix.  \n",
    "  \n",
    "Let's emulate a random experiment using `choose`:  \n",
    "I toss a coin 10 times and if I get heads I select from the normal distribution, otherwise from the exponential.  \n",
    "\n",
    "For those with a probability background, I have created a __mixture model__.  \n",
    "\n",
    "<span style = \"color: purple\"> Can you describe the underlying classification problem? </span>"
   ]
  },
  {
   "cell_type": "code",
   "execution_count": 166,
   "metadata": {},
   "outputs": [
    {
     "data": {
      "text/plain": [
       "array([-0.981, -0.981, -0.981, -0.981,  0.841,  0.841,  0.841,  0.841,  0.841,  0.841])"
      ]
     },
     "execution_count": 166,
     "metadata": {},
     "output_type": "execute_result"
    }
   ],
   "source": [
    "# A generalization of 'where' used for generating mixtures:\n",
    "choices = np.random.choice([0, 1], 10)\n",
    "arr1 = np.random.standard_normal(10)\n",
    "arr2 = np.random.standard_exponential(10)\n",
    "\n",
    "np.choose(choices, arr1, arr2)"
   ]
  },
  {
   "cell_type": "markdown",
   "metadata": {},
   "source": [
    "--------------\n",
    "# Matrix operations #"
   ]
  },
  {
   "cell_type": "markdown",
   "metadata": {},
   "source": [
    "### Element-wise ###"
   ]
  },
  {
   "cell_type": "code",
   "execution_count": 175,
   "metadata": {},
   "outputs": [
    {
     "name": "stdout",
     "output_type": "stream",
     "text": [
      "[[ 1.  2.  3.  4.]\n",
      " [ 1.  2.  3.  4.]\n",
      " [ 1.  2.  3.  4.]\n",
      " [ 1.  2.  3.  4.]]\n",
      "[[ 3.004 -2.209 -2.209 -2.209]\n",
      " [-0.319  0.259  3.004  3.004]\n",
      " [ 3.004 -0.319 -0.319 -2.209]\n",
      " [-2.209 -2.209 -2.209 -2.209]]\n",
      "\n",
      "Element-wise binary operations:\n",
      "[[ 4.004 -0.209  0.791  1.791]\n",
      " [ 0.681  2.259  6.004  7.004]\n",
      " [ 4.004  1.681  2.681  1.791]\n",
      " [-1.209 -0.209  0.791  1.791]]\n",
      "[[  3.004  -4.419  -6.628  -8.838]\n",
      " [ -0.319   0.519   9.013  12.017]\n",
      " [  3.004  -0.637  -0.956  -8.838]\n",
      " [ -2.209  -4.419  -6.628  -8.838]]\n",
      "[[ 3.004 -1.105 -0.736 -0.552]\n",
      " [-0.319  0.13   1.001  0.751]\n",
      " [ 3.004 -0.159 -0.106 -0.552]\n",
      " [-2.209 -1.105 -0.736 -0.552]]\n",
      "\n",
      "Element-wise function application (ufunc):\n",
      "[[ 0.     0.693  1.099  1.386]\n",
      " [ 0.     0.693  1.099  1.386]\n",
      " [ 0.     0.693  1.099  1.386]\n",
      " [ 0.     0.693  1.099  1.386]]\n"
     ]
    }
   ],
   "source": [
    "arr1 = np.tile(np.linspace(1, 4, 4, dtype = np.float32), 4).reshape(4, -1)\n",
    "arr2 = np.random.choice(np.random.randn(4), [4, 4])\n",
    "\n",
    "print arr1\n",
    "print arr2\n",
    "\n",
    "print endl, 'Element-wise binary operations:'\n",
    "print arr1 + arr2\n",
    "print arr1 * arr2\n",
    "print arr2 / (arr1)\n",
    "\n",
    "print endl, 'Element-wise function application (ufunc):'\n",
    "print np.log(arr1)"
   ]
  },
  {
   "cell_type": "markdown",
   "metadata": {},
   "source": [
    "### Matrix multiplication ###"
   ]
  },
  {
   "cell_type": "code",
   "execution_count": 178,
   "metadata": {},
   "outputs": [
    {
     "name": "stdout",
     "output_type": "stream",
     "text": [
      "Matrix multiplication:\n",
      "[[  2.542 -11.484  -5.994 -11.667]\n",
      " [  2.542 -11.484  -5.994 -11.667]\n",
      " [  2.542 -11.484  -5.994 -11.667]\n",
      " [  2.542 -11.484  -5.994 -11.667]]\n",
      "\n",
      "Matrix-vector multiplications:\n",
      "[ 2.542  2.542  2.542  2.542]\n",
      "[ -3.624  -7.248 -10.872 -14.496]\n"
     ]
    }
   ],
   "source": [
    "print 'Matrix multiplication:'\n",
    "print np.dot(arr1, arr2)\n",
    "\n",
    "print endl, 'Matrix-vector multiplications:'\n",
    "print np.dot(arr1, arr2[:, 0])\n",
    "print np.dot(arr2[0], arr1)"
   ]
  },
  {
   "cell_type": "markdown",
   "metadata": {},
   "source": [
    "### BLAS ###\n",
    "See https://docs.scipy.org/doc/numpy-1.13.0/reference/routines.linalg.html"
   ]
  },
  {
   "cell_type": "code",
   "execution_count": 187,
   "metadata": {},
   "outputs": [
    {
     "name": "stdout",
     "output_type": "stream",
     "text": [
      "Singular values of arr2:\n",
      "[ 7.127  4.499  1.87   0.997]\n",
      "\n",
      "The eigenvalues of arr2 are:\n",
      "[ 2.340+1.501j  2.340-1.501j -1.973+1.961j -1.973-1.961j]\n"
     ]
    }
   ],
   "source": [
    "import numpy.linalg as la\n",
    "\n",
    "U, sigma, V = la.svd(arr2)\n",
    "print 'Singular values of arr2:'\n",
    "print sigma\n",
    "\n",
    "eigValues, eigVectors = la.eig(arr2)\n",
    "print endl, 'The eigenvalues of arr2 are:'\n",
    "print eigValues"
   ]
  },
  {
   "cell_type": "markdown",
   "metadata": {},
   "source": [
    "-----------------------------------\n",
    "# Retructuring arrays #"
   ]
  },
  {
   "cell_type": "markdown",
   "metadata": {},
   "source": [
    "### reshape | resize ###"
   ]
  },
  {
   "cell_type": "code",
   "execution_count": 194,
   "metadata": {},
   "outputs": [
    {
     "name": "stdout",
     "output_type": "stream",
     "text": [
      "[0 1 2 3 4 5 6 7 8 9]\n",
      "\n",
      "Make a 2x5 array:\n",
      "[[0 1 2 3 4]\n",
      " [5 6 7 8 9]]\n",
      "\n",
      "This is the same\n",
      "[[0 1 2 3 4]\n",
      " [5 6 7 8 9]]\n",
      "\n",
      "Formally, \"newaxis\" seems irrelevant but it reshapes as well:\n",
      "[[[0 1 2 3 4]]\n",
      "\n",
      " [[5 6 7 8 9]]]\n",
      "\n",
      "nparray.resize modifies the array in place and adds zeros:\n",
      "[[0 1 2]\n",
      " [3 4 5]\n",
      " [6 7 8]\n",
      " [9 0 0]\n",
      " [0 0 0]]\n",
      "\n",
      "numpy.resize returns a new array and adds starting over\n",
      "[[0 1 2]\n",
      " [3 4 5]\n",
      " [6 7 8]\n",
      " [9 0 1]\n",
      " [2 3 4]]\n"
     ]
    }
   ],
   "source": [
    "arr = np.arange(10)\n",
    "print arr\n",
    "\n",
    "print endl, 'Make a 2x5 array:'\n",
    "print arr.reshape(2, 5)\n",
    "\n",
    "print endl, 'This is the same'\n",
    "print arr.reshape(2, -1)\n",
    "\n",
    "print endl, 'Formally, \"newaxis\" seems irrelevant but it reshapes as well:'\n",
    "print arr.reshape(2, -1)[:, np.newaxis, :]\n",
    "\n",
    "print endl, 'nparray.resize modifies the array in place and adds zeros:'\n",
    "x = arr.copy()\n",
    "x.resize(5, 3)\n",
    "print x\n",
    "\n",
    "print endl, 'numpy.resize returns a new array and adds starting over'\n",
    "print np.resize(arr, [5, 3])"
   ]
  },
  {
   "cell_type": "markdown",
   "metadata": {},
   "source": [
    "### repeating and tiling ###"
   ]
  },
  {
   "cell_type": "code",
   "execution_count": null,
   "metadata": {},
   "outputs": [],
   "source": [
    "arr = np.arange(4)\n",
    "print 'Repeat each element twice:'\n",
    "print np.repeat(arr, 2)\n",
    "\n",
    "print endl, 'We can have different repeats per element:'\n",
    "print np.repeat(arr, [2, 1, 0, 3])\n",
    "\n",
    "print endl, 'We can repeat along an axis:'\n",
    "print np.repeat(arr.reshape(2, 2), 2, axis = 1)\n",
    "\n",
    "print endl, '\"Tile\" repeats the array as block, broadcasting to new axes if necessary:'\n",
    "print np.tile(arr, [3, 2, 2])"
   ]
  },
  {
   "cell_type": "markdown",
   "metadata": {},
   "source": [
    "### stacking ###\n",
    "\n",
    "`stack` concatenates a list of equi-sized arrays along a new dimension.  \n",
    "For vectors it is intuitive but for arrays of more dimensions the result is more involved.  \n",
    "To see what actually happens, before stacking add an extra dimension to one of the arrays as below:"
   ]
  },
  {
   "cell_type": "code",
   "execution_count": 226,
   "metadata": {},
   "outputs": [
    {
     "name": "stdout",
     "output_type": "stream",
     "text": [
      "Stack along the 1st dim (rows):\n",
      "[[0 1 2 3]]\n",
      "[[ 0  1  2  3]\n",
      " [ 0 -1 -2 -3]]\n",
      "\n",
      "Stack along columns\n",
      "[[0]\n",
      " [1]\n",
      " [2]\n",
      " [3]]\n",
      "[[ 0  0]\n",
      " [ 1 -1]\n",
      " [ 2 -2]\n",
      " [ 3 -3]]\n",
      "\n",
      "Stack 2 2D arrays one after the other:\n",
      "[[[ 0  1]\n",
      "  [ 2  3]]\n",
      "\n",
      " [[ 0 -1]\n",
      "  [-2 -3]]]\n",
      "\n",
      "Now stack by transforming each element to a 1x2 array:\n",
      "[[[ 0  0]\n",
      "  [ 1 -1]]\n",
      "\n",
      " [[ 2 -2]\n",
      "  [ 3 -3]]]\n"
     ]
    }
   ],
   "source": [
    "print 'Stack along the 1st dim (rows):'\n",
    "print arr[np.newaxis, :]\n",
    "print np.stack([arr, -arr], axis = 0)\n",
    "\n",
    "print endl, 'Stack along columns'\n",
    "print arr[:, np.newaxis]\n",
    "print np.stack([arr, -arr], axis = 1)\n",
    "\n",
    "print endl, 'Stack 2 2D arrays one after the other:'\n",
    "arr2 = arr.reshape(2, 2)\n",
    "print np.stack([arr2, -arr2], axis = 0)\n",
    "\n",
    "print endl, 'Now stack by transforming each element to a 1x2 array:'\n",
    "print np.stack([arr2, -arr2], axis = 2)"
   ]
  },
  {
   "cell_type": "markdown",
   "metadata": {},
   "source": [
    "### Concatenate ###\n",
    "To \"stack\" without adding a new dimension, use concatenate.  \n",
    "Therefore, you can only concatenate vectors on axis = 0 and 2D arrays on axis = 0 or 1"
   ]
  },
  {
   "cell_type": "code",
   "execution_count": 237,
   "metadata": {},
   "outputs": [
    {
     "name": "stdout",
     "output_type": "stream",
     "text": [
      "[[ 0  1  0 -1]\n",
      " [ 2  3 -2 -3]]\n"
     ]
    }
   ],
   "source": [
    "arr = np.arange(4).reshape(2, 2)\n",
    "print np.concatenate([arr, -arr], axis = 1)"
   ]
  },
  {
   "cell_type": "markdown",
   "metadata": {},
   "source": [
    "### <span style = \"color: purple\">Exercise</span> ###\n",
    "Concatenate 2 vectors columnwise"
   ]
  },
  {
   "cell_type": "raw",
   "metadata": {},
   "source": [
    "%load -s python1 solutions.py"
   ]
  }
 ],
 "metadata": {
  "kernelspec": {
   "display_name": "Python 2",
   "language": "python",
   "name": "python2"
  },
  "language_info": {
   "codemirror_mode": {
    "name": "ipython",
    "version": 2
   },
   "file_extension": ".py",
   "mimetype": "text/x-python",
   "name": "python",
   "nbconvert_exporter": "python",
   "pygments_lexer": "ipython2",
   "version": "2.7.12"
  }
 },
 "nbformat": 4,
 "nbformat_minor": 2
}
