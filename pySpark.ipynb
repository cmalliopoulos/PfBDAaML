{
 "cells": [
  {
   "cell_type": "markdown",
   "metadata": {},
   "source": [
    "![MLTrain logo](https://mltrain.cc/wp-content/uploads/2017/11/mltrain_logo-4.png \"MLTrain logo\")"
   ]
  },
  {
   "cell_type": "markdown",
   "metadata": {},
   "source": [
    "__NB:__ Do not execute the following if running from Databricks!"
   ]
  },
  {
   "cell_type": "code",
   "execution_count": 1,
   "metadata": {},
   "outputs": [
    {
     "data": {
      "text/html": [
       "\n",
       "    <style>\n",
       "    @import url('https://fonts.googleapis.com/css?family=Roboto+Condensed');\n",
       "    </style> "
      ],
      "text/plain": [
       "<IPython.core.display.HTML object>"
      ]
     },
     "metadata": {},
     "output_type": "display_data"
    },
    {
     "data": {
      "text/html": [
       "<style> .container {width: 98%} </style>"
      ],
      "text/plain": [
       "<IPython.core.display.HTML object>"
      ]
     },
     "metadata": {},
     "output_type": "display_data"
    },
    {
     "data": {
      "text/html": [
       "\n",
       "    <style> .CodeMirror {font-size: 10.5pt !important} </style>"
      ],
      "text/plain": [
       "<IPython.core.display.HTML object>"
      ]
     },
     "metadata": {},
     "output_type": "display_data"
    },
    {
     "data": {
      "text/html": [
       "\n",
       "    <style> div.cell.selected{border: 0px};</style>"
      ],
      "text/plain": [
       "<IPython.core.display.HTML object>"
      ]
     },
     "metadata": {},
     "output_type": "display_data"
    },
    {
     "data": {
      "text/html": [
       "<style> \n",
       "    .text_cell_render {\n",
       "        font-family: \"Roboto Condensed\"; \n",
       "        line-height: 145%; \n",
       "        font-size: 14pt} </style>"
      ],
      "text/plain": [
       "<IPython.core.display.HTML object>"
      ]
     },
     "metadata": {},
     "output_type": "display_data"
    },
    {
     "data": {
      "text/html": [
       "<style> \n",
       "    .output_area {font-size: large} </style>"
      ],
      "text/plain": [
       "<IPython.core.display.HTML object>"
      ]
     },
     "metadata": {},
     "output_type": "display_data"
    }
   ],
   "source": [
    "# !wget -q -O changeNBLayout.py https://raw.githubusercontent.com/cmalliopoulos/PfBDAaML/master/changeNBLayout.py\n",
    "# !wget -q -O appleStocks.csv https://raw.githubusercontent.com/cmalliopoulos/PfBDAaML/master/appleStocks.csv\n",
    "\n",
    "%run changeNBLayout.py"
   ]
  },
  {
   "cell_type": "markdown",
   "metadata": {},
   "source": [
    "# TL;DR #\n",
    "High-level Spark APIs (DataFrame, Dataset and SparkSql) are made available through a SparkSession cluster-level object.  \n",
    "In the following we'll use a SparkSession to construct Spark DataFrames, register them as tables and execute SparkSQL over these tables.  \n",
    "  \n",
    "We first do the necessary import. SparkSession lives in the `pyspark.sql` module"
   ]
  },
  {
   "cell_type": "code",
   "execution_count": 3,
   "metadata": {},
   "outputs": [],
   "source": [
    "import pyspark.sql as pss\n",
    "from os import linesep as endl"
   ]
  },
  {
   "cell_type": "markdown",
   "metadata": {},
   "source": [
    "# Dataframe construction and introspection #\n",
    "A SparkSession is either constructed explicitly from an already avaiable SparkContext of implicitly as below though the `builder` factory method"
   ]
  },
  {
   "cell_type": "code",
   "execution_count": 4,
   "metadata": {},
   "outputs": [],
   "source": [
    "sses = pss.SparkSession.builder.appName(\"ssapp01\").getOrCreate()"
   ]
  },
  {
   "cell_type": "markdown",
   "metadata": {},
   "source": [
    "### Create a Spark dataframe from a csv file ###\n"
   ]
  },
  {
   "cell_type": "code",
   "execution_count": 5,
   "metadata": {},
   "outputs": [
    {
     "name": "stdout",
     "output_type": "stream",
     "text": [
      "<class 'pyspark.sql.dataframe.DataFrame'>\n",
      "+----------+------------------+------------------+------------------+------------------+---------+------------------+\n",
      "|      Date|              Open|              High|               Low|             Close|   Volume|         Adj Close|\n",
      "+----------+------------------+------------------+------------------+------------------+---------+------------------+\n",
      "|2010-01-04|        213.429998|        214.499996|212.38000099999996|        214.009998|123432400|         27.727039|\n",
      "|2010-01-05|        214.599998|        215.589994|        213.249994|        214.379993|150476200|27.774976000000002|\n",
      "|2010-01-06|        214.379993|            215.23|        210.750004|        210.969995|138040000|27.333178000000004|\n",
      "|2010-01-07|            211.75|        212.000006|        209.050005|            210.58|119282800|          27.28265|\n",
      "|2010-01-08|        210.299994|        212.000006|209.06000500000002|211.98000499999998|111902700|         27.464034|\n",
      "|2010-01-11|212.79999700000002|        213.000002|        208.450005|210.11000299999998|115557400|         27.221758|\n",
      "|2010-01-12|209.18999499999998|209.76999500000002|        206.419998|        207.720001|148614900|          26.91211|\n",
      "|2010-01-13|        207.870005|210.92999500000002|        204.099998|        210.650002|151473000|          27.29172|\n",
      "|2010-01-14|210.11000299999998|210.45999700000002|        209.020004|            209.43|108223500|         27.133657|\n",
      "|2010-01-15|210.92999500000002|211.59999700000003|        205.869999|            205.93|148516900|26.680197999999997|\n",
      "+----------+------------------+------------------+------------------+------------------+---------+------------------+\n",
      "only showing top 10 rows\n",
      "\n",
      "df fields and their types:\n",
      "root\n",
      " |-- Date: string (nullable = true)\n",
      " |-- Open: string (nullable = true)\n",
      " |-- High: string (nullable = true)\n",
      " |-- Low: string (nullable = true)\n",
      " |-- Close: string (nullable = true)\n",
      " |-- Volume: string (nullable = true)\n",
      " |-- Adj Close: string (nullable = true)\n",
      "\n"
     ]
    }
   ],
   "source": [
    "df = sses.read.csv('appleStocks.csv', header = True)\n",
    "print type(df)\n",
    "df.show(n = 10, truncate = True)\n",
    "\n",
    "print 'df fields and their types:'\n",
    "df.printSchema()"
   ]
  },
  {
   "cell_type": "markdown",
   "metadata": {},
   "source": [
    "Notice the schema that read.csv created.  \n",
    "There's no type info in the text file so everything is parsed as string.  \n",
    "  \n",
    "We can construct a schema explicitly and pass it to the DataFrame"
   ]
  },
  {
   "cell_type": "code",
   "execution_count": 187,
   "metadata": {},
   "outputs": [
    {
     "name": "stdout",
     "output_type": "stream",
     "text": [
      "root\n",
      " |-- Date: date (nullable = true)\n",
      " |-- Open: float (nullable = true)\n",
      " |-- Close: float (nullable = true)\n",
      " |-- High: float (nullable = true)\n",
      " |-- Low: float (nullable = true)\n",
      " |-- Volume: integer (nullable = true)\n",
      " |-- Adj Close: string (nullable = true)\n",
      "\n",
      "+----------+---------+---------+---------+---------+---------+------------------+\n",
      "|      Date|     Open|    Close|     High|      Low|   Volume|         Adj Close|\n",
      "+----------+---------+---------+---------+---------+---------+------------------+\n",
      "|      null|     null|     null|     null|     null|     null|              null|\n",
      "|2010-01-04|   213.43|    214.5|   212.38|   214.01|123432400|         27.727039|\n",
      "|2010-01-05|214.59999|   215.59|   213.25|214.37999|150476200|27.774976000000002|\n",
      "|2010-01-06|214.37999|   215.23|   210.75|   210.97|138040000|27.333178000000004|\n",
      "|2010-01-07|   211.75|    212.0|   209.05|   210.58|119282800|          27.28265|\n",
      "|2010-01-08|210.29999|    212.0|   209.06|211.98001|111902700|         27.464034|\n",
      "|2010-01-11|    212.8|    213.0|208.45001|   210.11|115557400|         27.221758|\n",
      "|2010-01-12|   209.19|209.76999|   206.42|   207.72|148614900|          26.91211|\n",
      "|2010-01-13|207.87001|   210.93|204.09999|210.65001|151473000|          27.29172|\n",
      "|2010-01-14|   210.11|210.45999|   209.02|   209.43|108223500|         27.133657|\n",
      "+----------+---------+---------+---------+---------+---------+------------------+\n",
      "only showing top 10 rows\n",
      "\n"
     ]
    }
   ],
   "source": [
    "from pyspark.sql.types import StructField, StringType, IntegerType, DateType, FloatType, StructType\n",
    "\n",
    "dataSchema = [\n",
    "    StructField(\"Date\", DateType(), nullable = True), \n",
    "    StructField(\"Open\", FloatType(), True),\n",
    "    StructField(\"Close\", FloatType(), True),\n",
    "    StructField(\"High\", FloatType(), True),\n",
    "    StructField(\"Low\", FloatType(), True),\n",
    "    StructField(\"Volume\", IntegerType(), True),\n",
    "    StructField(\"Adj Close\", StringType(), True)]\n",
    "\n",
    "dataSchema = StructType(fields = dataSchema)\n",
    "df = sses.read.csv('appleStocks.csv', schema = dataSchema)\n",
    "\n",
    "df.printSchema()\n",
    "df.show(n = 10, truncate = True)"
   ]
  },
  {
   "cell_type": "code",
   "execution_count": 172,
   "metadata": {},
   "outputs": [
    {
     "name": "stdout",
     "output_type": "stream",
     "text": [
      "+-------+------------------+-----------------+------------------+------------------+-------------------+-----------------+\n",
      "|summary|              Open|            Close|              High|               Low|             Volume|        Adj Close|\n",
      "+-------+------------------+-----------------+------------------+------------------+-------------------+-----------------+\n",
      "|  count|              1762|             1762|              1762|              1762|               1762|             1762|\n",
      "|   mean|313.07631053340015|315.9112879420788| 309.8282404974289| 312.9270658330668|9.422577587968218E7|75.00174115607275|\n",
      "| stddev|185.29946731081264|186.8981766989906|183.38391663940038|185.14710364848838|6.020518776592709E7|28.57492972179906|\n",
      "|    min|              90.0|             90.7|             89.47|             90.28|           11475900|       100.012029|\n",
      "|    max|            702.41|           705.07|            699.57|         702.10004|          470249500|99.96167700000001|\n",
      "+-------+------------------+-----------------+------------------+------------------+-------------------+-----------------+\n",
      "\n"
     ]
    }
   ],
   "source": [
    "# Basic descriptive stats of df's contents\n",
    "df.describe().show()"
   ]
  },
  {
   "cell_type": "markdown",
   "metadata": {},
   "source": [
    "# Projections and selections #\n",
    "\n",
    "Slicing rows and columns of pyspark DataFrames is similar to pandas:  "
   ]
  },
  {
   "cell_type": "code",
   "execution_count": 2,
   "metadata": {},
   "outputs": [
    {
     "ename": "NameError",
     "evalue": "name 'df' is not defined",
     "output_type": "error",
     "traceback": [
      "\u001b[0;31m---------------------------------------------------------------------------\u001b[0m",
      "\u001b[0;31mNameError\u001b[0m                                 Traceback (most recent call last)",
      "\u001b[0;32m<ipython-input-2-253dfc6953a6>\u001b[0m in \u001b[0;36m<module>\u001b[0;34m()\u001b[0m\n\u001b[1;32m      1\u001b[0m \u001b[0;31m# import pandas as pd\u001b[0m\u001b[0;34m\u001b[0m\u001b[0;34m\u001b[0m\u001b[0m\n\u001b[1;32m      2\u001b[0m \u001b[0;31m# df[col.isin(*pd.date_range(dt.datetime(2016, 1, 1), dt.datetime(2016, 2, 1)))].collect()\u001b[0m\u001b[0;34m\u001b[0m\u001b[0;34m\u001b[0m\u001b[0m\n\u001b[0;32m----> 3\u001b[0;31m \u001b[0mdf\u001b[0m\u001b[0;34m[\u001b[0m\u001b[0mcol\u001b[0m\u001b[0;34m.\u001b[0m\u001b[0misin\u001b[0m\u001b[0;34m(\u001b[0m\u001b[0;34m*\u001b[0m\u001b[0mpd\u001b[0m\u001b[0;34m.\u001b[0m\u001b[0mdate_range\u001b[0m\u001b[0;34m(\u001b[0m\u001b[0mdt\u001b[0m\u001b[0;34m.\u001b[0m\u001b[0mdatetime\u001b[0m\u001b[0;34m(\u001b[0m\u001b[0;36m2016\u001b[0m\u001b[0;34m,\u001b[0m \u001b[0;36m1\u001b[0m\u001b[0;34m,\u001b[0m \u001b[0;36m1\u001b[0m\u001b[0;34m)\u001b[0m\u001b[0;34m,\u001b[0m \u001b[0mdt\u001b[0m\u001b[0;34m.\u001b[0m\u001b[0mdatetime\u001b[0m\u001b[0;34m(\u001b[0m\u001b[0;36m2016\u001b[0m\u001b[0;34m,\u001b[0m \u001b[0;36m2\u001b[0m\u001b[0;34m,\u001b[0m \u001b[0;36m1\u001b[0m\u001b[0;34m)\u001b[0m\u001b[0;34m)\u001b[0m\u001b[0;34m)\u001b[0m\u001b[0;34m]\u001b[0m\u001b[0;34m.\u001b[0m\u001b[0mshow\u001b[0m\u001b[0;34m(\u001b[0m\u001b[0;34m)\u001b[0m\u001b[0;34m\u001b[0m\u001b[0m\n\u001b[0m\u001b[1;32m      4\u001b[0m \u001b[0mdf\u001b[0m\u001b[0;34m[\u001b[0m\u001b[0;34m[\u001b[0m\u001b[0;34m'Date'\u001b[0m\u001b[0;34m,\u001b[0m \u001b[0;34m'Open'\u001b[0m\u001b[0;34m]\u001b[0m\u001b[0;34m]\u001b[0m\u001b[0;34m.\u001b[0m\u001b[0mshow\u001b[0m\u001b[0;34m(\u001b[0m\u001b[0;36m5\u001b[0m\u001b[0;34m)\u001b[0m\u001b[0;34m\u001b[0m\u001b[0m\n\u001b[1;32m      5\u001b[0m \u001b[0;34m\u001b[0m\u001b[0m\n",
      "\u001b[0;31mNameError\u001b[0m: name 'df' is not defined"
     ]
    }
   ],
   "source": [
    "# import pandas as pd\n",
    "df[col.isin(*pd.date_range(dt.datetime(2016, 1, 1), dt.datetime(2016, 2, 1)))].collect()\n",
    "# df[col.isin(*pd.date_range(dt.datetime(2016, 1, 1), dt.datetime(2016, 2, 1)))].show()\n",
    "df[['Date', 'Open']].show(5)\n",
    "\n",
    "# Selection in pySpark is a relational algebra projection:\n",
    "df.select(['Open', 'Close']).show(5)"
   ]
  },
  {
   "cell_type": "code",
   "execution_count": 196,
   "metadata": {},
   "outputs": [
    {
     "name": "stdout",
     "output_type": "stream",
     "text": [
      "+--------+\n",
      "|  Volume|\n",
      "+--------+\n",
      "|67649400|\n",
      "|55791000|\n",
      "|68457400|\n",
      "|81094400|\n",
      "|70798000|\n",
      "+--------+\n",
      "only showing top 5 rows\n",
      "\n"
     ]
    }
   ],
   "source": [
    "# Select the volumes of stocks exchanged after 01 Jan 2016\n",
    "df.filter(df['Date'] > dt.datetime(2016, 1, 1)).select(['Volume']).show(5)"
   ]
  },
  {
   "cell_type": "markdown",
   "metadata": {},
   "source": [
    "# Adding new columns #\n",
    "\n",
    "We import `month` ufunc from `pyspark.sql.functions` (a great deal of ufuncs are defined there).  \n",
    "Then create a binned column 'Month' to use it for our aggregations in the sequel"
   ]
  },
  {
   "cell_type": "code",
   "execution_count": 236,
   "metadata": {},
   "outputs": [
    {
     "name": "stdout",
     "output_type": "stream",
     "text": [
      "+----------+-----+\n",
      "|      Date|Month|\n",
      "+----------+-----+\n",
      "|2010-01-04|    1|\n",
      "|2010-01-06|    1|\n",
      "|2010-01-07|    1|\n",
      "|2010-01-14|    1|\n",
      "|2010-01-20|    1|\n",
      "+----------+-----+\n",
      "only showing top 5 rows\n",
      "\n"
     ]
    }
   ],
   "source": [
    "import pyspark.sql.functions as pf\n",
    "\n",
    "df = df.withColumn('Month', pf.month(df.Date))\n",
    "df.select('Date', 'Month').sample(False, 0.1).show(5)"
   ]
  },
  {
   "cell_type": "markdown",
   "metadata": {},
   "source": [
    "----------------------------------------------\n",
    "# Grouping and aggregating #\n",
    "\n",
    "As in Pandas, the groupby method returns a `groupby` object which we can aggregate on:"
   ]
  },
  {
   "cell_type": "code",
   "execution_count": 234,
   "metadata": {},
   "outputs": [],
   "source": [
    "applesGroup = df.groupby('Month')"
   ]
  },
  {
   "cell_type": "code",
   "execution_count": 226,
   "metadata": {},
   "outputs": [
    {
     "name": "stdout",
     "output_type": "stream",
     "text": [
      "+-----+------------------+\n",
      "|Month|         avg(Open)|\n",
      "+-----+------------------+\n",
      "|   12|302.76953155722396|\n",
      "| null|              null|\n",
      "+-----+------------------+\n",
      "only showing top 2 rows\n",
      "\n",
      "+-----+---------+\n",
      "|Month|max(Open)|\n",
      "+-----+---------+\n",
      "|   12|   593.65|\n",
      "| null|     null|\n",
      "+-----+---------+\n",
      "only showing top 2 rows\n",
      "\n",
      "+-----+-----+\n",
      "|Month|count|\n",
      "+-----+-----+\n",
      "|   12|  149|\n",
      "| null|    1|\n",
      "+-----+-----+\n",
      "only showing top 2 rows\n",
      "\n"
     ]
    }
   ],
   "source": [
    "applesGroup.mean('Open').show(2)\n",
    "applesGroup.max('Open').show(2)\n",
    "applesGroup.count().show(2)"
   ]
  },
  {
   "cell_type": "markdown",
   "metadata": {},
   "source": [
    "### Simultaneous aggregations ###"
   ]
  },
  {
   "cell_type": "code",
   "execution_count": 227,
   "metadata": {},
   "outputs": [
    {
     "name": "stdout",
     "output_type": "stream",
     "text": [
      "+-----+---------+--------+------------------+\n",
      "|Month|min(High)|max(Low)|         avg(Open)|\n",
      "+-----+---------+--------+------------------+\n",
      "|   12|   104.82|  586.19|302.76953155722396|\n",
      "| null|     null|    null|              null|\n",
      "|    1|    92.39|  557.36| 322.9062850407192|\n",
      "|    6|    89.65|  647.35|288.75166641235353|\n",
      "|    3|    97.42|  617.62| 332.8893473506753|\n",
      "+-----+---------+--------+------------------+\n",
      "only showing top 5 rows\n",
      "\n"
     ]
    }
   ],
   "source": [
    "applesGroup.agg({'High': 'min', 'Low': 'max', 'Open': 'mean'}).show(5)"
   ]
  },
  {
   "cell_type": "markdown",
   "metadata": {},
   "source": [
    "# OrderBy method #"
   ]
  },
  {
   "cell_type": "code",
   "execution_count": 237,
   "metadata": {},
   "outputs": [
    {
     "name": "stdout",
     "output_type": "stream",
     "text": [
      "+----------+---------+------+------+---------+---------+------------------+-----+\n",
      "|      Date|     Open| Close|  High|      Low|   Volume|         Adj Close|Month|\n",
      "+----------+---------+------+------+---------+---------+------------------+-----+\n",
      "|      null|     null|  null|  null|     null|     null|              null| null|\n",
      "|2010-01-04|   213.43| 214.5|212.38|   214.01|123432400|         27.727039|    1|\n",
      "|2010-01-06|214.37999|215.23|210.75|   210.97|138040000|27.333178000000004|    1|\n",
      "|2010-01-05|214.59999|215.59|213.25|214.37999|150476200|27.774976000000002|    1|\n",
      "|2010-01-07|   211.75| 212.0|209.05|   210.58|119282800|          27.28265|    1|\n",
      "+----------+---------+------+------+---------+---------+------------------+-----+\n",
      "only showing top 5 rows\n",
      "\n"
     ]
    }
   ],
   "source": [
    "df.orderBy(\"Month\").show(5)"
   ]
  },
  {
   "cell_type": "code",
   "execution_count": 241,
   "metadata": {},
   "outputs": [
    {
     "name": "stdout",
     "output_type": "stream",
     "text": [
      "+----------+------+------+------+------+--------+------------------+-----+\n",
      "|      Date|  Open| Close|  High|   Low|  Volume|         Adj Close|Month|\n",
      "+----------+------+------+------+------+--------+------------------+-----+\n",
      "|2016-01-04|102.61|105.37| 102.0|105.35|67649400|        102.612183|    1|\n",
      "|2016-01-11| 98.97| 99.06| 97.34| 98.53|49739400|          95.96942|    1|\n",
      "|2016-01-05|105.75|105.85|102.41|102.71|55791000|100.04079200000001|    1|\n",
      "|2016-01-06|100.56|102.37| 99.87| 100.7|68457400|         98.083025|    1|\n",
      "|2016-01-07| 98.68|100.13| 96.43| 96.45|81094400|         93.943473|    1|\n",
      "+----------+------+------+------+------+--------+------------------+-----+\n",
      "only showing top 5 rows\n",
      "\n"
     ]
    }
   ],
   "source": [
    "# More complex orderings are possible\n",
    "df.orderBy(pf.year(df.Date).desc()).show(5)"
   ]
  },
  {
   "cell_type": "markdown",
   "metadata": {},
   "source": [
    "# Functions #\n",
    "There are a variety of functions you can import from pyspark.sql.functions.  \n",
    "Check out the [Spark documentation](http://spark.apache.org/docs/latest/api/python/pyspark.sql.html#module-pyspark.sql.functions) for the full list available"
   ]
  },
  {
   "cell_type": "code",
   "execution_count": 233,
   "metadata": {},
   "outputs": [
    {
     "name": "stdout",
     "output_type": "stream",
     "text": [
      "+--------------------------+\n",
      "|count(DISTINCT year(Date))|\n",
      "+--------------------------+\n",
      "|                         7|\n",
      "+--------------------------+\n",
      "\n",
      "+------------------+\n",
      "|         avg(Open)|\n",
      "+------------------+\n",
      "|313.07631053340015|\n",
      "+------------------+\n",
      "\n",
      "+------------------+\n",
      "|  stddev_samp(Low)|\n",
      "+------------------+\n",
      "|185.14710364848838|\n",
      "+------------------+\n",
      "\n"
     ]
    }
   ],
   "source": [
    "from pyspark.sql.functions import countDistinct, avg, stddev, year\n",
    "\n",
    "df.select(countDistinct(year(df.Date))).show()\n",
    "df.select(avg('Open')).show()\n",
    "df.select(stddev('Low')).show()"
   ]
  },
  {
   "cell_type": "markdown",
   "metadata": {},
   "source": [
    "# Exporting to pandas #"
   ]
  },
  {
   "cell_type": "code",
   "execution_count": 235,
   "metadata": {
    "scrolled": false
   },
   "outputs": [
    {
     "data": {
      "image/png": "[encoded data removed]",
      "text/plain": [
       "<matplotlib.figure.Figure at 0x7f7e301a6210>"
      ]
     },
     "metadata": {},
     "output_type": "display_data"
    }
   ],
   "source": [
    "%matplotlib inline\n",
    "\n",
    "import datetime as dt\n",
    "import pandas as pd\n",
    "import numpy as np\n",
    "import matplotlib.pyplot as plt\n",
    "import seaborn as sns\n",
    "\n",
    "pd.set_option('display.width', 144)\n",
    "\n",
    "pandf = df.toPandas()\n",
    "pandf['Date'] = pd.to_datetime(pandf['Date'], unit = 'D', errors = 'raise')\n",
    "pandf = pandf.sort_values(axis = 'index', by = 'Date')\n",
    "\n",
    "for col in pandf.columns[1:]:\n",
    "    pandf[col] = pandf[col].astype(float)\n",
    "\n",
    "# Normalize\n",
    "pandf.High = pandf.High.map(lambda _: np.log(_ + 1.) * 1.05)\n",
    "pandf.Low = pandf.Low.map(lambda _: np.log(_ + 1.) * .95)\n",
    "pandf[['Open', 'Close']] = pandf[['Open', 'Close']].apply(lambda _: np.log(_ + 1.))\n",
    "\n",
    "with plt.style.context(['ggplot', 'seaborn-notebook']):\n",
    "    plt.fill_between(x = pandf.Date.values, y1 = pandf.High.values, y2 = pandf.Low.values, alpha = .3)\n",
    "    plt.plot(pandf.Date.values, pandf.Open.values, pandf.Date.values, pandf.Close.values - .1)\n",
    "\n",
    "# Required for plotting in Databricks\n",
    "display()\n"
   ]
  },
  {
   "cell_type": "markdown",
   "metadata": {},
   "source": [
    "# The SQL API #\n",
    "\n",
    "the pySpark SQL API is handy (and intuitive for those who know SQL, however still lacks the capabilities of the Dataframe API in terms of transformations.  \n",
    "As a general guideline you should use the Dataframe API to transform data, then the SQL API to do aggregations and filtering.  \n",
    "  \n",
    "To use SQL queries with a Dataframe object, you will need to register it to a temporary view:"
   ]
  },
  {
   "cell_type": "code",
   "execution_count": 217,
   "metadata": {},
   "outputs": [],
   "source": [
    "df.createOrReplaceTempView('appleStocksTmpView')"
   ]
  },
  {
   "cell_type": "code",
   "execution_count": 221,
   "metadata": {},
   "outputs": [
    {
     "name": "stdout",
     "output_type": "stream",
     "text": [
      "+-----+------------------+\n",
      "|month|         sum(Open)|\n",
      "+-----+------------------+\n",
      "|   12|   22440.330078125|\n",
      "|    1|15079.500122070312|\n",
      "|    6|15263.839782714844|\n",
      "|    3|23896.339965820312|\n",
      "|    5|25074.609924316406|\n",
      "|    9|13465.249908447266|\n",
      "|    4|23533.869995117188|\n",
      "|    8| 16773.52996826172|\n",
      "|    7|12591.809936523438|\n",
      "|   10|18641.420135498047|\n",
      "|   11|   22372.169921875|\n",
      "|    2| 14139.39990234375|\n",
      "+-----+------------------+\n",
      "\n"
     ]
    }
   ],
   "source": [
    "sses.sql('select month, sum(Open) from appleStocksTmpView where High > 500 group by month').show()"
   ]
  },
  {
   "cell_type": "code",
   "execution_count": null,
   "metadata": {},
   "outputs": [],
   "source": []
  }
 ],
 "metadata": {
  "kernelspec": {
   "display_name": "Python 2",
   "language": "python",
   "name": "python2"
  },
  "language_info": {
   "codemirror_mode": {
    "name": "ipython",
    "version": 2
   },
   "file_extension": ".py",
   "mimetype": "text/x-python",
   "name": "python",
   "nbconvert_exporter": "python",
   "pygments_lexer": "ipython2",
   "version": "2.7.12"
  }
 },
 "nbformat": 4,
 "nbformat_minor": 2
}
