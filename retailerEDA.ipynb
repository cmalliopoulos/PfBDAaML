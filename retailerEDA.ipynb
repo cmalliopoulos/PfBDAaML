{
 "cells": [
  {
   "cell_type": "markdown",
   "metadata": {},
   "source": [
    "![MLTrain logo](https://mltrain.cc/wp-content/uploads/2017/11/mltrain_logo-4.png \"MLTrain logo\")\n",
    "\n",
    "---------------------------------------------------------"
   ]
  },
  {
   "cell_type": "code",
   "execution_count": 33,
   "metadata": {},
   "outputs": [
    {
     "data": {
      "text/html": [
       "\n",
       "    <style>\n",
       "    @import url('https://fonts.googleapis.com/css?family=Roboto+Condensed');\n",
       "    </style> "
      ],
      "text/plain": [
       "<IPython.core.display.HTML object>"
      ]
     },
     "metadata": {},
     "output_type": "display_data"
    },
    {
     "data": {
      "text/html": [
       "<style> .container {width: 90%} </style>"
      ],
      "text/plain": [
       "<IPython.core.display.HTML object>"
      ]
     },
     "metadata": {},
     "output_type": "display_data"
    },
    {
     "data": {
      "text/html": [
       "\n",
       "    <style> .CodeMirror {font-size: 10.5pt !important} </style>"
      ],
      "text/plain": [
       "<IPython.core.display.HTML object>"
      ]
     },
     "metadata": {},
     "output_type": "display_data"
    },
    {
     "data": {
      "text/html": [
       "\n",
       "    <style> div.cell.selected{border: 0px};</style>"
      ],
      "text/plain": [
       "<IPython.core.display.HTML object>"
      ]
     },
     "metadata": {},
     "output_type": "display_data"
    },
    {
     "data": {
      "text/html": [
       "<style> \n",
       "    .text_cell_render {\n",
       "        font-family: \"Roboto Condensed\"; \n",
       "        line-height: 145%; \n",
       "        font-size: 14pt} </style>"
      ],
      "text/plain": [
       "<IPython.core.display.HTML object>"
      ]
     },
     "metadata": {},
     "output_type": "display_data"
    },
    {
     "data": {
      "text/html": [
       "<style> \n",
       "    .output_area {font-size: large} </style>"
      ],
      "text/plain": [
       "<IPython.core.display.HTML object>"
      ]
     },
     "metadata": {},
     "output_type": "display_data"
    },
    {
     "data": {
      "text/plain": [
       "<matplotlib.figure.Figure at 0x7faba152b550>"
      ]
     },
     "metadata": {},
     "output_type": "display_data"
    }
   ],
   "source": [
    "%%capture --no-display\n",
    "%run /Nvme/Training/MLTrainAthens/JupyterNotebooks/changeNBLayout.py\n",
    "\n",
    "# %wget -q -O retailer.csv . . ."
   ]
  },
  {
   "cell_type": "markdown",
   "metadata": {},
   "source": [
    "--------------------------\n",
    "# Scope #\n",
    "\n",
    "A large retailer asked for insights on the consumer purchasing preferences of their __fluid__ products.  \n",
    "Fluids are products like shampoo, conditioner and cleaning liquids that are offered in packs of different sizes (weights | volumes).  \n",
    "In particular, the retailer wanted to know  \n",
    "1. the \n",
    "2. the consequences of __introducing a new size for a fluid product__  \n",
    "\n",
    "  \n",
    "<span style = \"background: #E9B96E\">\n",
    "In the project we will investigate the effect of the <span style = \"color: darkred\">size composition of a sort__</span> to <b>sort sales</b>.\n",
    "</span>  \n",
    "A _sort_ is a collection of product items (SKUs) differing only in their sizes.\n",
    "\n",
    "### Example ###\n",
    "A type of H&S Shampoo if available in ounce-sizes 7 and 12. If I introduce a size 16oz what will be the effect on the sum of H&S sales?\n"
   ]
  },
  {
   "cell_type": "markdown",
   "metadata": {},
   "source": [
    "# The retailer dataset #\n",
    "\n",
    "The dataset contains numbers of items sold per week and store for each SKU.  \n",
    "SKUs belong to BRANDS, SEGMENTS, TYPES and COLLECTIONS"
   ]
  },
  {
   "cell_type": "code",
   "execution_count": 2,
   "metadata": {},
   "outputs": [
    {
     "data": {
      "text/html": [
       "<div>\n",
       "<style>\n",
       "    .dataframe thead tr:only-child th {\n",
       "        text-align: right;\n",
       "    }\n",
       "\n",
       "    .dataframe thead th {\n",
       "        text-align: left;\n",
       "    }\n",
       "\n",
       "    .dataframe tbody tr th {\n",
       "        vertical-align: top;\n",
       "    }\n",
       "</style>\n",
       "<table border=\"1\" class=\"dataframe\">\n",
       "  <thead>\n",
       "    <tr style=\"text-align: right;\">\n",
       "      <th></th>\n",
       "      <th>SKU</th>\n",
       "      <th>GEO</th>\n",
       "      <th>WEEK_ENDING</th>\n",
       "      <th>WEEK</th>\n",
       "      <th>MONTH</th>\n",
       "      <th>PCT</th>\n",
       "      <th>PCTF</th>\n",
       "      <th>PCTD</th>\n",
       "      <th>UNITS</th>\n",
       "      <th>REVENUE</th>\n",
       "      <th>SEGMENT</th>\n",
       "      <th>TYPE</th>\n",
       "      <th>BRAND</th>\n",
       "      <th>COLLECTION</th>\n",
       "      <th>SORT</th>\n",
       "      <th>BASE_ITEM</th>\n",
       "      <th>SIZE</th>\n",
       "    </tr>\n",
       "  </thead>\n",
       "  <tbody>\n",
       "    <tr>\n",
       "      <th>72186</th>\n",
       "      <td>104764</td>\n",
       "      <td>TWTUC</td>\n",
       "      <td>1985-06-13</td>\n",
       "      <td>24</td>\n",
       "      <td>6</td>\n",
       "      <td>99</td>\n",
       "      <td>0</td>\n",
       "      <td>8</td>\n",
       "      <td>17883</td>\n",
       "      <td>52545.85</td>\n",
       "      <td>SHA</td>\n",
       "      <td>SR</td>\n",
       "      <td>S</td>\n",
       "      <td>SPS</td>\n",
       "      <td>908</td>\n",
       "      <td>REG 1CT 28.0OZ</td>\n",
       "      <td>D</td>\n",
       "    </tr>\n",
       "    <tr>\n",
       "      <th>23938</th>\n",
       "      <td>102083</td>\n",
       "      <td>PTCTA</td>\n",
       "      <td>1983-12-22</td>\n",
       "      <td>51</td>\n",
       "      <td>12</td>\n",
       "      <td>89</td>\n",
       "      <td>0</td>\n",
       "      <td>2</td>\n",
       "      <td>816</td>\n",
       "      <td>4073.73</td>\n",
       "      <td>SHA</td>\n",
       "      <td>S2</td>\n",
       "      <td>H&amp;S</td>\n",
       "      <td>H&amp;SGA</td>\n",
       "      <td>385</td>\n",
       "      <td>2-IN-1 1CT 13.5OZ</td>\n",
       "      <td>C</td>\n",
       "    </tr>\n",
       "    <tr>\n",
       "      <th>85639</th>\n",
       "      <td>102792</td>\n",
       "      <td>TTCTA</td>\n",
       "      <td>1984-06-14</td>\n",
       "      <td>24</td>\n",
       "      <td>6</td>\n",
       "      <td>1</td>\n",
       "      <td>0</td>\n",
       "      <td>0</td>\n",
       "      <td>6</td>\n",
       "      <td>24.13</td>\n",
       "      <td>SHA</td>\n",
       "      <td>S2</td>\n",
       "      <td>DM</td>\n",
       "      <td>DMF&amp;C</td>\n",
       "      <td>983</td>\n",
       "      <td>2-IN-1 1CT 12.0OZ</td>\n",
       "      <td>C</td>\n",
       "    </tr>\n",
       "    <tr>\n",
       "      <th>86594</th>\n",
       "      <td>103098</td>\n",
       "      <td>TWTUC</td>\n",
       "      <td>1984-03-01</td>\n",
       "      <td>9</td>\n",
       "      <td>3</td>\n",
       "      <td>22</td>\n",
       "      <td>0</td>\n",
       "      <td>2</td>\n",
       "      <td>568</td>\n",
       "      <td>1463.67</td>\n",
       "      <td>SHA</td>\n",
       "      <td>SR</td>\n",
       "      <td>S</td>\n",
       "      <td>SPSM</td>\n",
       "      <td>1007</td>\n",
       "      <td>REG 1CT 12.6OZ</td>\n",
       "      <td>C</td>\n",
       "    </tr>\n",
       "    <tr>\n",
       "      <th>106148</th>\n",
       "      <td>103592</td>\n",
       "      <td>TTCTA</td>\n",
       "      <td>1985-02-14</td>\n",
       "      <td>7</td>\n",
       "      <td>2</td>\n",
       "      <td>94</td>\n",
       "      <td>0</td>\n",
       "      <td>0</td>\n",
       "      <td>6748</td>\n",
       "      <td>10151.06</td>\n",
       "      <td>CON</td>\n",
       "      <td>CR</td>\n",
       "      <td>S</td>\n",
       "      <td>SEC</td>\n",
       "      <td>845</td>\n",
       "      <td>REG 1CT 30.0OZ</td>\n",
       "      <td>D</td>\n",
       "    </tr>\n",
       "    <tr>\n",
       "      <th>70849</th>\n",
       "      <td>104778</td>\n",
       "      <td>CTCT</td>\n",
       "      <td>1982-10-14</td>\n",
       "      <td>41</td>\n",
       "      <td>10</td>\n",
       "      <td>45</td>\n",
       "      <td>0</td>\n",
       "      <td>0</td>\n",
       "      <td>1024</td>\n",
       "      <td>7089.37</td>\n",
       "      <td>SHA</td>\n",
       "      <td>S2</td>\n",
       "      <td>A</td>\n",
       "      <td>AP</td>\n",
       "      <td>965</td>\n",
       "      <td>2-IN-1 1CT 12.0OZ</td>\n",
       "      <td>C</td>\n",
       "    </tr>\n",
       "    <tr>\n",
       "      <th>95429</th>\n",
       "      <td>104422</td>\n",
       "      <td>PTCTA</td>\n",
       "      <td>1986-01-02</td>\n",
       "      <td>1</td>\n",
       "      <td>1</td>\n",
       "      <td>83</td>\n",
       "      <td>43</td>\n",
       "      <td>2</td>\n",
       "      <td>745</td>\n",
       "      <td>2283.65</td>\n",
       "      <td>SHA</td>\n",
       "      <td>SR</td>\n",
       "      <td>S</td>\n",
       "      <td>SPSM</td>\n",
       "      <td>1007</td>\n",
       "      <td>REG 1CT 12.6OZ</td>\n",
       "      <td>C</td>\n",
       "    </tr>\n",
       "    <tr>\n",
       "      <th>99236</th>\n",
       "      <td>103618</td>\n",
       "      <td>TTCTA</td>\n",
       "      <td>1986-01-16</td>\n",
       "      <td>3</td>\n",
       "      <td>1</td>\n",
       "      <td>93</td>\n",
       "      <td>72</td>\n",
       "      <td>0</td>\n",
       "      <td>3056</td>\n",
       "      <td>14917.46</td>\n",
       "      <td>SHA</td>\n",
       "      <td>SR</td>\n",
       "      <td>S</td>\n",
       "      <td>SPC</td>\n",
       "      <td>1097</td>\n",
       "      <td>REG 1CT 28.0OZ</td>\n",
       "      <td>D</td>\n",
       "    </tr>\n",
       "    <tr>\n",
       "      <th>18461</th>\n",
       "      <td>102570</td>\n",
       "      <td>TWTUC</td>\n",
       "      <td>1984-11-29</td>\n",
       "      <td>48</td>\n",
       "      <td>11</td>\n",
       "      <td>63</td>\n",
       "      <td>0</td>\n",
       "      <td>3</td>\n",
       "      <td>3248</td>\n",
       "      <td>15942.43</td>\n",
       "      <td>CON</td>\n",
       "      <td>CR</td>\n",
       "      <td>H&amp;S</td>\n",
       "      <td>H&amp;SIS</td>\n",
       "      <td>376</td>\n",
       "      <td>REG 1CT 13.5OZ</td>\n",
       "      <td>C</td>\n",
       "    </tr>\n",
       "    <tr>\n",
       "      <th>53865</th>\n",
       "      <td>102103</td>\n",
       "      <td>TTCTA</td>\n",
       "      <td>1983-08-25</td>\n",
       "      <td>34</td>\n",
       "      <td>8</td>\n",
       "      <td>1</td>\n",
       "      <td>0</td>\n",
       "      <td>0</td>\n",
       "      <td>6</td>\n",
       "      <td>6.18</td>\n",
       "      <td>CON</td>\n",
       "      <td>CR</td>\n",
       "      <td>S</td>\n",
       "      <td>SNA&amp;S</td>\n",
       "      <td>861</td>\n",
       "      <td>REG 1CT 12.6OZ</td>\n",
       "      <td>C</td>\n",
       "    </tr>\n",
       "  </tbody>\n",
       "</table>\n",
       "</div>"
      ],
      "text/plain": [
       "           SKU    GEO WEEK_ENDING  WEEK  MONTH  PCT  PCTF  PCTD  UNITS  \\\n",
       "72186   104764  TWTUC  1985-06-13    24      6   99     0     8  17883   \n",
       "23938   102083  PTCTA  1983-12-22    51     12   89     0     2    816   \n",
       "85639   102792  TTCTA  1984-06-14    24      6    1     0     0      6   \n",
       "86594   103098  TWTUC  1984-03-01     9      3   22     0     2    568   \n",
       "106148  103592  TTCTA  1985-02-14     7      2   94     0     0   6748   \n",
       "70849   104778   CTCT  1982-10-14    41     10   45     0     0   1024   \n",
       "95429   104422  PTCTA  1986-01-02     1      1   83    43     2    745   \n",
       "99236   103618  TTCTA  1986-01-16     3      1   93    72     0   3056   \n",
       "18461   102570  TWTUC  1984-11-29    48     11   63     0     3   3248   \n",
       "53865   102103  TTCTA  1983-08-25    34      8    1     0     0      6   \n",
       "\n",
       "         REVENUE SEGMENT TYPE BRAND COLLECTION  SORT          BASE_ITEM SIZE  \n",
       "72186   52545.85     SHA   SR     S        SPS   908     REG 1CT 28.0OZ    D  \n",
       "23938    4073.73     SHA   S2   H&S      H&SGA   385  2-IN-1 1CT 13.5OZ    C  \n",
       "85639      24.13     SHA   S2    DM      DMF&C   983  2-IN-1 1CT 12.0OZ    C  \n",
       "86594    1463.67     SHA   SR     S       SPSM  1007     REG 1CT 12.6OZ    C  \n",
       "106148  10151.06     CON   CR     S        SEC   845     REG 1CT 30.0OZ    D  \n",
       "70849    7089.37     SHA   S2     A         AP   965  2-IN-1 1CT 12.0OZ    C  \n",
       "95429    2283.65     SHA   SR     S       SPSM  1007     REG 1CT 12.6OZ    C  \n",
       "99236   14917.46     SHA   SR     S        SPC  1097     REG 1CT 28.0OZ    D  \n",
       "18461   15942.43     CON   CR   H&S      H&SIS   376     REG 1CT 13.5OZ    C  \n",
       "53865       6.18     CON   CR     S      SNA&S   861     REG 1CT 12.6OZ    C  "
      ]
     },
     "metadata": {},
     "output_type": "display_data"
    }
   ],
   "source": [
    "import pandas as pd\n",
    "import numpy as np\n",
    "import sys, os\n",
    "import datetime as dt\n",
    "\n",
    "from os import linesep as endl\n",
    "\n",
    "tab = pd.read_csv('retailer.csv', sep = '|')\n",
    "display(tab.sample(10))"
   ]
  },
  {
   "cell_type": "markdown",
   "metadata": {},
   "source": [
    "How about the types of the data?"
   ]
  },
  {
   "cell_type": "code",
   "execution_count": 3,
   "metadata": {},
   "outputs": [
    {
     "data": {
      "text/plain": [
       "SKU              int64\n",
       "GEO             object\n",
       "WEEK_ENDING     object\n",
       "WEEK             int64\n",
       "MONTH            int64\n",
       "PCT              int64\n",
       "PCTF             int64\n",
       "PCTD             int64\n",
       "UNITS            int64\n",
       "REVENUE        float64\n",
       "SEGMENT         object\n",
       "TYPE            object\n",
       "BRAND           object\n",
       "COLLECTION      object\n",
       "SORT             int64\n",
       "BASE_ITEM       object\n",
       "SIZE            object\n",
       "dtype: object"
      ]
     },
     "execution_count": 3,
     "metadata": {},
     "output_type": "execute_result"
    }
   ],
   "source": [
    "tab.dtypes"
   ]
  },
  {
   "cell_type": "markdown",
   "metadata": {},
   "source": [
    "Everything seems to have been read properly exept from WEEK_ENDING.  \n",
    "It is a date column but has been read as string (type 'object' in DataFrames)\n",
    "\n",
    "We can either re-read retailer.csv and explicitly parse WEEK_ENDING as date:\n",
    "``` Python\n",
    "pd.read_csv('retailer.csv', sep = '|', parse_dates = ['WEEK_ENDING'])\n",
    "```\n",
    "or we can convert the WEEK_ENDING column to datetime type using pandas.to_datetime function:"
   ]
  },
  {
   "cell_type": "code",
   "execution_count": 4,
   "metadata": {},
   "outputs": [
    {
     "name": "stdout",
     "output_type": "stream",
     "text": [
      "datetime64[ns]\n"
     ]
    }
   ],
   "source": [
    "tab.WEEK_ENDING = pd.to_datetime(tab.WEEK_ENDING, format = '%Y-%m-%d')\n",
    "print tab.WEEK_ENDING.dtype"
   ]
  },
  {
   "cell_type": "markdown",
   "metadata": {},
   "source": [
    "`DateFrame.describe` computes basic descriptive statistics of tab's contents"
   ]
  },
  {
   "cell_type": "code",
   "execution_count": 5,
   "metadata": {},
   "outputs": [
    {
     "data": {
      "text/html": [
       "<div>\n",
       "<style>\n",
       "    .dataframe thead tr:only-child th {\n",
       "        text-align: right;\n",
       "    }\n",
       "\n",
       "    .dataframe thead th {\n",
       "        text-align: left;\n",
       "    }\n",
       "\n",
       "    .dataframe tbody tr th {\n",
       "        vertical-align: top;\n",
       "    }\n",
       "</style>\n",
       "<table border=\"1\" class=\"dataframe\">\n",
       "  <thead>\n",
       "    <tr style=\"text-align: right;\">\n",
       "      <th></th>\n",
       "      <th>SKU</th>\n",
       "      <th>WEEK</th>\n",
       "      <th>MONTH</th>\n",
       "      <th>PCT</th>\n",
       "      <th>PCTF</th>\n",
       "      <th>PCTD</th>\n",
       "      <th>UNITS</th>\n",
       "      <th>REVENUE</th>\n",
       "      <th>SORT</th>\n",
       "    </tr>\n",
       "  </thead>\n",
       "  <tbody>\n",
       "    <tr>\n",
       "      <th>count</th>\n",
       "      <td>112779.000000</td>\n",
       "      <td>112779.000000</td>\n",
       "      <td>112779.000000</td>\n",
       "      <td>112779.000000</td>\n",
       "      <td>112779.000000</td>\n",
       "      <td>112779.000000</td>\n",
       "      <td>112779.000000</td>\n",
       "      <td>112779.000000</td>\n",
       "      <td>112779.000000</td>\n",
       "    </tr>\n",
       "    <tr>\n",
       "      <th>mean</th>\n",
       "      <td>102751.378555</td>\n",
       "      <td>24.961908</td>\n",
       "      <td>6.181816</td>\n",
       "      <td>68.333254</td>\n",
       "      <td>4.534337</td>\n",
       "      <td>2.186657</td>\n",
       "      <td>5576.052102</td>\n",
       "      <td>19103.393757</td>\n",
       "      <td>689.939173</td>\n",
       "    </tr>\n",
       "    <tr>\n",
       "      <th>std</th>\n",
       "      <td>1504.111777</td>\n",
       "      <td>14.524046</td>\n",
       "      <td>3.341917</td>\n",
       "      <td>31.977284</td>\n",
       "      <td>16.358580</td>\n",
       "      <td>5.421718</td>\n",
       "      <td>8459.402683</td>\n",
       "      <td>25958.044088</td>\n",
       "      <td>289.565226</td>\n",
       "    </tr>\n",
       "    <tr>\n",
       "      <th>min</th>\n",
       "      <td>100009.000000</td>\n",
       "      <td>1.000000</td>\n",
       "      <td>1.000000</td>\n",
       "      <td>1.000000</td>\n",
       "      <td>0.000000</td>\n",
       "      <td>0.000000</td>\n",
       "      <td>5.000000</td>\n",
       "      <td>1.270000</td>\n",
       "      <td>356.000000</td>\n",
       "    </tr>\n",
       "    <tr>\n",
       "      <th>25%</th>\n",
       "      <td>101462.000000</td>\n",
       "      <td>13.000000</td>\n",
       "      <td>3.000000</td>\n",
       "      <td>48.000000</td>\n",
       "      <td>0.000000</td>\n",
       "      <td>0.000000</td>\n",
       "      <td>638.000000</td>\n",
       "      <td>2676.925000</td>\n",
       "      <td>385.000000</td>\n",
       "    </tr>\n",
       "    <tr>\n",
       "      <th>50%</th>\n",
       "      <td>102862.000000</td>\n",
       "      <td>24.000000</td>\n",
       "      <td>6.000000</td>\n",
       "      <td>81.000000</td>\n",
       "      <td>0.000000</td>\n",
       "      <td>0.000000</td>\n",
       "      <td>2539.000000</td>\n",
       "      <td>11185.930000</td>\n",
       "      <td>842.000000</td>\n",
       "    </tr>\n",
       "    <tr>\n",
       "      <th>75%</th>\n",
       "      <td>103837.000000</td>\n",
       "      <td>37.000000</td>\n",
       "      <td>9.000000</td>\n",
       "      <td>95.000000</td>\n",
       "      <td>0.000000</td>\n",
       "      <td>2.000000</td>\n",
       "      <td>6998.500000</td>\n",
       "      <td>26853.630000</td>\n",
       "      <td>965.000000</td>\n",
       "    </tr>\n",
       "    <tr>\n",
       "      <th>max</th>\n",
       "      <td>105449.000000</td>\n",
       "      <td>52.000000</td>\n",
       "      <td>12.000000</td>\n",
       "      <td>100.000000</td>\n",
       "      <td>99.000000</td>\n",
       "      <td>69.000000</td>\n",
       "      <td>131343.000000</td>\n",
       "      <td>715352.740000</td>\n",
       "      <td>2668.000000</td>\n",
       "    </tr>\n",
       "  </tbody>\n",
       "</table>\n",
       "</div>"
      ],
      "text/plain": [
       "                 SKU           WEEK          MONTH            PCT  \\\n",
       "count  112779.000000  112779.000000  112779.000000  112779.000000   \n",
       "mean   102751.378555      24.961908       6.181816      68.333254   \n",
       "std      1504.111777      14.524046       3.341917      31.977284   \n",
       "min    100009.000000       1.000000       1.000000       1.000000   \n",
       "25%    101462.000000      13.000000       3.000000      48.000000   \n",
       "50%    102862.000000      24.000000       6.000000      81.000000   \n",
       "75%    103837.000000      37.000000       9.000000      95.000000   \n",
       "max    105449.000000      52.000000      12.000000     100.000000   \n",
       "\n",
       "                PCTF           PCTD          UNITS        REVENUE  \\\n",
       "count  112779.000000  112779.000000  112779.000000  112779.000000   \n",
       "mean        4.534337       2.186657    5576.052102   19103.393757   \n",
       "std        16.358580       5.421718    8459.402683   25958.044088   \n",
       "min         0.000000       0.000000       5.000000       1.270000   \n",
       "25%         0.000000       0.000000     638.000000    2676.925000   \n",
       "50%         0.000000       0.000000    2539.000000   11185.930000   \n",
       "75%         0.000000       2.000000    6998.500000   26853.630000   \n",
       "max        99.000000      69.000000  131343.000000  715352.740000   \n",
       "\n",
       "                SORT  \n",
       "count  112779.000000  \n",
       "mean      689.939173  \n",
       "std       289.565226  \n",
       "min       356.000000  \n",
       "25%       385.000000  \n",
       "50%       842.000000  \n",
       "75%       965.000000  \n",
       "max      2668.000000  "
      ]
     },
     "metadata": {},
     "output_type": "display_data"
    }
   ],
   "source": [
    "display(tab.describe())"
   ]
  },
  {
   "cell_type": "markdown",
   "metadata": {},
   "source": [
    "-------------------------------------------------------\n",
    "# An analysis of attribute relations #\n",
    "\n",
    "There're several attributes that classify SKUs: SEGMENT, TYPE, BRAND, COLLECTION, SORT and BASE_ITEM  \n",
    "We want to see if subsets of the attributes constitute dimension hierarchies.  \n",
    "A dimension hierarchy is a set of attributes with a 1:N relation between them.  \n",
    "  \n",
    "E.g. if SEGMENT, BRAND, COLLECTION constitute a dimension hierarchy then SEGMENT:BRAND and BRAND:COLLECTION should be 1:N relations  \n",
    "\n",
    "We can search for such relations per case, i.e search for a 1:N relation between SEGMENT and BRAND:"
   ]
  },
  {
   "cell_type": "markdown",
   "metadata": {},
   "source": [
    "<span style = \"color: darkred; font-size: 200%; font-weight: bold;  text-decoration: underline\"> \n",
    "Exercise \n",
    "</span>\n",
    "\n",
    "Do SEGMENT and BRAND constitute a dimension hierarchy?\n"
   ]
  },
  {
   "cell_type": "raw",
   "metadata": {},
   "source": [
    "%load -s retailerEDA1 solutions.py"
   ]
  },
  {
   "cell_type": "markdown",
   "metadata": {},
   "source": [
    "Doing so explicitly for each pair of attributes in datasets with even a moderate number of attributes, is cumbersome and _leads to errors_.  \n",
    "Instead, let's use Python's expressiveness to construct a representation of relations with a few lines of code:"
   ]
  },
  {
   "cell_type": "code",
   "execution_count": 6,
   "metadata": {},
   "outputs": [
    {
     "data": {
      "text/html": [
       "<div>\n",
       "<style>\n",
       "    .dataframe thead tr:only-child th {\n",
       "        text-align: right;\n",
       "    }\n",
       "\n",
       "    .dataframe thead th {\n",
       "        text-align: left;\n",
       "    }\n",
       "\n",
       "    .dataframe tbody tr th {\n",
       "        vertical-align: top;\n",
       "    }\n",
       "</style>\n",
       "<table border=\"1\" class=\"dataframe\">\n",
       "  <thead>\n",
       "    <tr>\n",
       "      <th></th>\n",
       "      <th colspan=\"4\" halign=\"left\">nunique</th>\n",
       "    </tr>\n",
       "    <tr>\n",
       "      <th></th>\n",
       "      <th>BRAND</th>\n",
       "      <th>COLLECTION</th>\n",
       "      <th>SEGMENT</th>\n",
       "      <th>TYPE</th>\n",
       "    </tr>\n",
       "    <tr>\n",
       "      <th>groupby</th>\n",
       "      <th></th>\n",
       "      <th></th>\n",
       "      <th></th>\n",
       "      <th></th>\n",
       "    </tr>\n",
       "  </thead>\n",
       "  <tbody>\n",
       "    <tr>\n",
       "      <th>BRAND</th>\n",
       "      <td>1</td>\n",
       "      <td>37</td>\n",
       "      <td>2</td>\n",
       "      <td>6</td>\n",
       "    </tr>\n",
       "    <tr>\n",
       "      <th>COLLECTION</th>\n",
       "      <td>1</td>\n",
       "      <td>1</td>\n",
       "      <td>2</td>\n",
       "      <td>5</td>\n",
       "    </tr>\n",
       "    <tr>\n",
       "      <th>SEGMENT</th>\n",
       "      <td>4</td>\n",
       "      <td>99</td>\n",
       "      <td>1</td>\n",
       "      <td>5</td>\n",
       "    </tr>\n",
       "    <tr>\n",
       "      <th>TYPE</th>\n",
       "      <td>4</td>\n",
       "      <td>76</td>\n",
       "      <td>1</td>\n",
       "      <td>1</td>\n",
       "    </tr>\n",
       "  </tbody>\n",
       "</table>\n",
       "</div>"
      ],
      "text/plain": [
       "           nunique                        \n",
       "             BRAND COLLECTION SEGMENT TYPE\n",
       "groupby                                   \n",
       "BRAND            1         37       2    6\n",
       "COLLECTION       1          1       2    5\n",
       "SEGMENT          4         99       1    5\n",
       "TYPE             4         76       1    1"
      ]
     },
     "execution_count": 6,
     "metadata": {},
     "output_type": "execute_result"
    }
   ],
   "source": [
    "def cardinals(df_):\n",
    "    ret = pd.DataFrame(\n",
    "        data = [], \n",
    "        index = pd.MultiIndex.from_product([df_.columns] * 2, names = ['groupby', '']),\n",
    "        columns = ['nunique'])\n",
    "    for row in df_.columns:\n",
    "        ret.loc[row] = np.array([df_.groupby(row)[col].nunique().max() for col in df_.columns]).reshape(-1, 1)\n",
    "    return ret.unstack()\n",
    "\n",
    "\n",
    "cardinals(tab[['SEGMENT', 'TYPE', 'BRAND', 'COLLECTION']])"
   ]
  },
  {
   "cell_type": "markdown",
   "metadata": {},
   "source": [
    "In one stroke we see that BRAND:COLLECTION and SEGMENT:TYPE are dimension hierarchies"
   ]
  },
  {
   "cell_type": "markdown",
   "metadata": {},
   "source": [
    "----------------------------------------------------------\n",
    "# Creation of SIZE-related attributes #\n",
    "The object is to see if the size composition of a SORT is related to total SORT sales.  \n",
    "We must therefore create proxies of a sort's SIZE composition.\n",
    "  \n",
    "__SIZE_NUM__ = distinct sizes per GEO, WEEK_ENDING, SORT  \n",
    "__SIZE_SORT__ = A (sorted) string representation of the available sizes per WEEK_ENDING, GEO, SORT\n",
    "  \n",
    "the second attribute tells us not only how many SIZEs we have in each SORT a given week but also the __kinds__ of available sizes:  \n",
    "e.g. for SIZE_NUM = 3 we can have SIZE_SORT = 'ABC' or 'BDE'. These 2 sorts are not the same."
   ]
  },
  {
   "cell_type": "code",
   "execution_count": 7,
   "metadata": {},
   "outputs": [
    {
     "data": {
      "text/html": [
       "<div>\n",
       "<style>\n",
       "    .dataframe thead tr:only-child th {\n",
       "        text-align: right;\n",
       "    }\n",
       "\n",
       "    .dataframe thead th {\n",
       "        text-align: left;\n",
       "    }\n",
       "\n",
       "    .dataframe tbody tr th {\n",
       "        vertical-align: top;\n",
       "    }\n",
       "</style>\n",
       "<table border=\"1\" class=\"dataframe\">\n",
       "  <thead>\n",
       "    <tr style=\"text-align: right;\">\n",
       "      <th></th>\n",
       "      <th>SORT</th>\n",
       "      <th>GEO</th>\n",
       "      <th>WEEK_ENDING</th>\n",
       "      <th>NUM_SIZE</th>\n",
       "    </tr>\n",
       "  </thead>\n",
       "  <tbody>\n",
       "    <tr>\n",
       "      <th>111239</th>\n",
       "      <td>1103</td>\n",
       "      <td>TWTUC</td>\n",
       "      <td>1986-05-15</td>\n",
       "      <td>2</td>\n",
       "    </tr>\n",
       "    <tr>\n",
       "      <th>99877</th>\n",
       "      <td>912</td>\n",
       "      <td>TWTUC</td>\n",
       "      <td>1984-11-08</td>\n",
       "      <td>2</td>\n",
       "    </tr>\n",
       "    <tr>\n",
       "      <th>27503</th>\n",
       "      <td>394</td>\n",
       "      <td>TWTUC</td>\n",
       "      <td>1982-05-20</td>\n",
       "      <td>2</td>\n",
       "    </tr>\n",
       "    <tr>\n",
       "      <th>72413</th>\n",
       "      <td>856</td>\n",
       "      <td>TTCTA</td>\n",
       "      <td>1982-10-28</td>\n",
       "      <td>2</td>\n",
       "    </tr>\n",
       "    <tr>\n",
       "      <th>80394</th>\n",
       "      <td>930</td>\n",
       "      <td>TWTUC</td>\n",
       "      <td>1983-08-11</td>\n",
       "      <td>3</td>\n",
       "    </tr>\n",
       "    <tr>\n",
       "      <th>65468</th>\n",
       "      <td>925</td>\n",
       "      <td>PTCTA</td>\n",
       "      <td>1983-07-21</td>\n",
       "      <td>2</td>\n",
       "    </tr>\n",
       "    <tr>\n",
       "      <th>99613</th>\n",
       "      <td>1098</td>\n",
       "      <td>TWTUC</td>\n",
       "      <td>1985-09-12</td>\n",
       "      <td>2</td>\n",
       "    </tr>\n",
       "    <tr>\n",
       "      <th>24681</th>\n",
       "      <td>385</td>\n",
       "      <td>TTCTA</td>\n",
       "      <td>1985-05-30</td>\n",
       "      <td>2</td>\n",
       "    </tr>\n",
       "    <tr>\n",
       "      <th>89655</th>\n",
       "      <td>1024</td>\n",
       "      <td>TWTUC</td>\n",
       "      <td>1985-08-15</td>\n",
       "      <td>2</td>\n",
       "    </tr>\n",
       "    <tr>\n",
       "      <th>19633</th>\n",
       "      <td>378</td>\n",
       "      <td>TWTUC</td>\n",
       "      <td>1985-08-29</td>\n",
       "      <td>2</td>\n",
       "    </tr>\n",
       "  </tbody>\n",
       "</table>\n",
       "</div>"
      ],
      "text/plain": [
       "        SORT    GEO WEEK_ENDING  NUM_SIZE\n",
       "111239  1103  TWTUC  1986-05-15         2\n",
       "99877    912  TWTUC  1984-11-08         2\n",
       "27503    394  TWTUC  1982-05-20         2\n",
       "72413    856  TTCTA  1982-10-28         2\n",
       "80394    930  TWTUC  1983-08-11         3\n",
       "65468    925  PTCTA  1983-07-21         2\n",
       "99613   1098  TWTUC  1985-09-12         2\n",
       "24681    385  TTCTA  1985-05-30         2\n",
       "89655   1024  TWTUC  1985-08-15         2\n",
       "19633    378  TWTUC  1985-08-29         2"
      ]
     },
     "metadata": {},
     "output_type": "display_data"
    }
   ],
   "source": [
    "tab['NUM_SIZE'] = tab.groupby(['SORT', 'GEO', 'WEEK_ENDING'])['SIZE'].transform('nunique')\n",
    "display(tab[tab['NUM_SIZE'] > 1][['SORT', 'GEO', 'WEEK_ENDING', 'NUM_SIZE']].sample(10))"
   ]
  },
  {
   "cell_type": "markdown",
   "metadata": {},
   "source": [
    "`transform` is a convenience DataFrame method similar to `partition by` clauses in SQL.  \n",
    "Applies a group transform to each row in the dataset, thereby creating new group columns  \n",
    "  \n",
    "------------------------\n",
    "`SIZE_SORT` is trickier:  \n",
    "We must gather the unique SIZES per SORT, concatenate them to create a string, than apply this string to each `['WEEK_ENDING', 'GEO', 'SORT']` group using `transform`.  \n",
    "  \n",
    "Fortunately Pandas is quite flexible in this (although not higly performant as you'll see), by permitting __custom functions in transformations__"
   ]
  },
  {
   "cell_type": "code",
   "execution_count": 8,
   "metadata": {},
   "outputs": [
    {
     "name": "stdout",
     "output_type": "stream",
     "text": [
      "1 loop, best of 1: 14 s per loop\n"
     ]
    }
   ],
   "source": [
    "%%timeit -n1 -r1\n",
    "asSortedString = lambda _: ''.join(np.unique(_))\n",
    "\n",
    "tab['SIZE_SORT'] = (tab.\n",
    "    groupby(['WEEK_ENDING', 'GEO', 'SORT']).\n",
    "    SIZE.\n",
    "    transform(asSortedString))"
   ]
  },
  {
   "cell_type": "code",
   "execution_count": 9,
   "metadata": {},
   "outputs": [
    {
     "data": {
      "text/html": [
       "<div>\n",
       "<style>\n",
       "    .dataframe thead tr:only-child th {\n",
       "        text-align: right;\n",
       "    }\n",
       "\n",
       "    .dataframe thead th {\n",
       "        text-align: left;\n",
       "    }\n",
       "\n",
       "    .dataframe tbody tr th {\n",
       "        vertical-align: top;\n",
       "    }\n",
       "</style>\n",
       "<table border=\"1\" class=\"dataframe\">\n",
       "  <thead>\n",
       "    <tr style=\"text-align: right;\">\n",
       "      <th></th>\n",
       "      <th>SKU</th>\n",
       "      <th>GEO</th>\n",
       "      <th>WEEK_ENDING</th>\n",
       "      <th>WEEK</th>\n",
       "      <th>MONTH</th>\n",
       "      <th>PCT</th>\n",
       "      <th>PCTF</th>\n",
       "      <th>PCTD</th>\n",
       "      <th>UNITS</th>\n",
       "      <th>REVENUE</th>\n",
       "      <th>SEGMENT</th>\n",
       "      <th>TYPE</th>\n",
       "      <th>BRAND</th>\n",
       "      <th>COLLECTION</th>\n",
       "      <th>SORT</th>\n",
       "      <th>BASE_ITEM</th>\n",
       "      <th>SIZE</th>\n",
       "      <th>NUM_SIZE</th>\n",
       "      <th>SIZE_SORT</th>\n",
       "    </tr>\n",
       "  </thead>\n",
       "  <tbody>\n",
       "    <tr>\n",
       "      <th>43779</th>\n",
       "      <td>102440</td>\n",
       "      <td>TWTUC</td>\n",
       "      <td>1985-09-19</td>\n",
       "      <td>38</td>\n",
       "      <td>9</td>\n",
       "      <td>32</td>\n",
       "      <td>0</td>\n",
       "      <td>0</td>\n",
       "      <td>925</td>\n",
       "      <td>4205.23</td>\n",
       "      <td>CON</td>\n",
       "      <td>CR</td>\n",
       "      <td>H&amp;S</td>\n",
       "      <td>H&amp;SIR</td>\n",
       "      <td>429</td>\n",
       "      <td>REG 1CT 12.8OZ</td>\n",
       "      <td>C</td>\n",
       "      <td>1</td>\n",
       "      <td>C</td>\n",
       "    </tr>\n",
       "    <tr>\n",
       "      <th>105224</th>\n",
       "      <td>101855</td>\n",
       "      <td>TTCTA</td>\n",
       "      <td>1983-04-14</td>\n",
       "      <td>15</td>\n",
       "      <td>4</td>\n",
       "      <td>100</td>\n",
       "      <td>0</td>\n",
       "      <td>0</td>\n",
       "      <td>10312</td>\n",
       "      <td>15832.61</td>\n",
       "      <td>SHA</td>\n",
       "      <td>SR</td>\n",
       "      <td>S</td>\n",
       "      <td>SEC</td>\n",
       "      <td>844</td>\n",
       "      <td>REG 1CT 30.0OZ</td>\n",
       "      <td>D</td>\n",
       "      <td>1</td>\n",
       "      <td>D</td>\n",
       "    </tr>\n",
       "    <tr>\n",
       "      <th>7644</th>\n",
       "      <td>103818</td>\n",
       "      <td>TWTUC</td>\n",
       "      <td>1986-04-10</td>\n",
       "      <td>15</td>\n",
       "      <td>4</td>\n",
       "      <td>89</td>\n",
       "      <td>0</td>\n",
       "      <td>0</td>\n",
       "      <td>5907</td>\n",
       "      <td>34701.76</td>\n",
       "      <td>SHA</td>\n",
       "      <td>S2</td>\n",
       "      <td>H&amp;S</td>\n",
       "      <td>H&amp;SS&amp;S</td>\n",
       "      <td>364</td>\n",
       "      <td>2-IN-1 1CT 13.5OZ</td>\n",
       "      <td>C</td>\n",
       "      <td>4</td>\n",
       "      <td>BCDE</td>\n",
       "    </tr>\n",
       "    <tr>\n",
       "      <th>73367</th>\n",
       "      <td>104601</td>\n",
       "      <td>PTCTA</td>\n",
       "      <td>1984-07-26</td>\n",
       "      <td>30</td>\n",
       "      <td>7</td>\n",
       "      <td>66</td>\n",
       "      <td>0</td>\n",
       "      <td>0</td>\n",
       "      <td>1187</td>\n",
       "      <td>2124.61</td>\n",
       "      <td>CON</td>\n",
       "      <td>CR</td>\n",
       "      <td>S</td>\n",
       "      <td>SPK</td>\n",
       "      <td>930</td>\n",
       "      <td>REG 1CT 2.0OZ</td>\n",
       "      <td>A</td>\n",
       "      <td>2</td>\n",
       "      <td>AC</td>\n",
       "    </tr>\n",
       "    <tr>\n",
       "      <th>58289</th>\n",
       "      <td>103099</td>\n",
       "      <td>TTCTA</td>\n",
       "      <td>1984-03-15</td>\n",
       "      <td>11</td>\n",
       "      <td>3</td>\n",
       "      <td>100</td>\n",
       "      <td>0</td>\n",
       "      <td>1</td>\n",
       "      <td>8005</td>\n",
       "      <td>22176.10</td>\n",
       "      <td>SHA</td>\n",
       "      <td>SR</td>\n",
       "      <td>S</td>\n",
       "      <td>SNRM</td>\n",
       "      <td>862</td>\n",
       "      <td>REG 1CT 28.0OZ</td>\n",
       "      <td>D</td>\n",
       "      <td>1</td>\n",
       "      <td>D</td>\n",
       "    </tr>\n",
       "    <tr>\n",
       "      <th>100476</th>\n",
       "      <td>102147</td>\n",
       "      <td>TWTUC</td>\n",
       "      <td>1985-08-08</td>\n",
       "      <td>32</td>\n",
       "      <td>8</td>\n",
       "      <td>53</td>\n",
       "      <td>0</td>\n",
       "      <td>14</td>\n",
       "      <td>2399</td>\n",
       "      <td>8963.72</td>\n",
       "      <td>SHA</td>\n",
       "      <td>S2</td>\n",
       "      <td>DM</td>\n",
       "      <td>DMCC</td>\n",
       "      <td>1106</td>\n",
       "      <td>2-IN-1 1CT 12.0OZ</td>\n",
       "      <td>C</td>\n",
       "      <td>2</td>\n",
       "      <td>CD</td>\n",
       "    </tr>\n",
       "    <tr>\n",
       "      <th>61887</th>\n",
       "      <td>100366</td>\n",
       "      <td>TWTUC</td>\n",
       "      <td>1982-07-22</td>\n",
       "      <td>29</td>\n",
       "      <td>7</td>\n",
       "      <td>39</td>\n",
       "      <td>0</td>\n",
       "      <td>2</td>\n",
       "      <td>2765</td>\n",
       "      <td>7867.82</td>\n",
       "      <td>SHA</td>\n",
       "      <td>SR</td>\n",
       "      <td>S</td>\n",
       "      <td>SPS</td>\n",
       "      <td>908</td>\n",
       "      <td>REG 1CT 28.0OZ</td>\n",
       "      <td>D</td>\n",
       "      <td>2</td>\n",
       "      <td>CD</td>\n",
       "    </tr>\n",
       "    <tr>\n",
       "      <th>93883</th>\n",
       "      <td>103176</td>\n",
       "      <td>TWTUC</td>\n",
       "      <td>1985-05-16</td>\n",
       "      <td>20</td>\n",
       "      <td>5</td>\n",
       "      <td>91</td>\n",
       "      <td>0</td>\n",
       "      <td>0</td>\n",
       "      <td>4879</td>\n",
       "      <td>24130.37</td>\n",
       "      <td>SHA</td>\n",
       "      <td>SD</td>\n",
       "      <td>S</td>\n",
       "      <td>SPK</td>\n",
       "      <td>934</td>\n",
       "      <td>SHAM KRTN 4.3OZ</td>\n",
       "      <td>A</td>\n",
       "      <td>1</td>\n",
       "      <td>A</td>\n",
       "    </tr>\n",
       "    <tr>\n",
       "      <th>27536</th>\n",
       "      <td>101387</td>\n",
       "      <td>TWTUC</td>\n",
       "      <td>1982-07-15</td>\n",
       "      <td>28</td>\n",
       "      <td>7</td>\n",
       "      <td>65</td>\n",
       "      <td>0</td>\n",
       "      <td>0</td>\n",
       "      <td>7542</td>\n",
       "      <td>47243.58</td>\n",
       "      <td>SHA</td>\n",
       "      <td>S2</td>\n",
       "      <td>H&amp;S</td>\n",
       "      <td>H&amp;SOSPS</td>\n",
       "      <td>394</td>\n",
       "      <td>2-IN-1 1CT 23.7OZ</td>\n",
       "      <td>D</td>\n",
       "      <td>2</td>\n",
       "      <td>CD</td>\n",
       "    </tr>\n",
       "    <tr>\n",
       "      <th>21014</th>\n",
       "      <td>103983</td>\n",
       "      <td>CTCT</td>\n",
       "      <td>1984-09-06</td>\n",
       "      <td>36</td>\n",
       "      <td>9</td>\n",
       "      <td>40</td>\n",
       "      <td>0</td>\n",
       "      <td>0</td>\n",
       "      <td>918</td>\n",
       "      <td>7715.05</td>\n",
       "      <td>SHA</td>\n",
       "      <td>S2</td>\n",
       "      <td>H&amp;S</td>\n",
       "      <td>H&amp;SCC</td>\n",
       "      <td>359</td>\n",
       "      <td>2-IN-1 1CT 23.7OZ</td>\n",
       "      <td>D</td>\n",
       "      <td>4</td>\n",
       "      <td>BCDE</td>\n",
       "    </tr>\n",
       "  </tbody>\n",
       "</table>\n",
       "</div>"
      ],
      "text/plain": [
       "           SKU    GEO WEEK_ENDING  WEEK  MONTH  PCT  PCTF  PCTD  UNITS  \\\n",
       "43779   102440  TWTUC  1985-09-19    38      9   32     0     0    925   \n",
       "105224  101855  TTCTA  1983-04-14    15      4  100     0     0  10312   \n",
       "7644    103818  TWTUC  1986-04-10    15      4   89     0     0   5907   \n",
       "73367   104601  PTCTA  1984-07-26    30      7   66     0     0   1187   \n",
       "58289   103099  TTCTA  1984-03-15    11      3  100     0     1   8005   \n",
       "100476  102147  TWTUC  1985-08-08    32      8   53     0    14   2399   \n",
       "61887   100366  TWTUC  1982-07-22    29      7   39     0     2   2765   \n",
       "93883   103176  TWTUC  1985-05-16    20      5   91     0     0   4879   \n",
       "27536   101387  TWTUC  1982-07-15    28      7   65     0     0   7542   \n",
       "21014   103983   CTCT  1984-09-06    36      9   40     0     0    918   \n",
       "\n",
       "         REVENUE SEGMENT TYPE BRAND COLLECTION  SORT          BASE_ITEM SIZE  \\\n",
       "43779    4205.23     CON   CR   H&S      H&SIR   429     REG 1CT 12.8OZ    C   \n",
       "105224  15832.61     SHA   SR     S        SEC   844     REG 1CT 30.0OZ    D   \n",
       "7644    34701.76     SHA   S2   H&S     H&SS&S   364  2-IN-1 1CT 13.5OZ    C   \n",
       "73367    2124.61     CON   CR     S        SPK   930      REG 1CT 2.0OZ    A   \n",
       "58289   22176.10     SHA   SR     S       SNRM   862     REG 1CT 28.0OZ    D   \n",
       "100476   8963.72     SHA   S2    DM       DMCC  1106  2-IN-1 1CT 12.0OZ    C   \n",
       "61887    7867.82     SHA   SR     S        SPS   908     REG 1CT 28.0OZ    D   \n",
       "93883   24130.37     SHA   SD     S        SPK   934    SHAM KRTN 4.3OZ    A   \n",
       "27536   47243.58     SHA   S2   H&S    H&SOSPS   394  2-IN-1 1CT 23.7OZ    D   \n",
       "21014    7715.05     SHA   S2   H&S      H&SCC   359  2-IN-1 1CT 23.7OZ    D   \n",
       "\n",
       "        NUM_SIZE SIZE_SORT  \n",
       "43779          1         C  \n",
       "105224         1         D  \n",
       "7644           4      BCDE  \n",
       "73367          2        AC  \n",
       "58289          1         D  \n",
       "100476         2        CD  \n",
       "61887          2        CD  \n",
       "93883          1         A  \n",
       "27536          2        CD  \n",
       "21014          4      BCDE  "
      ]
     },
     "metadata": {},
     "output_type": "display_data"
    }
   ],
   "source": [
    "display(tab.sample(10))"
   ]
  },
  {
   "cell_type": "markdown",
   "metadata": {},
   "source": [
    "<span style = \"color: darkred; font-size: 200%; font-weight: bold;  text-decoration: underline\"> \n",
    "Exercise \n",
    "</span>  \n",
    "Another interesting issue is the dependency a SORT may have on the number of available sizes in the SORT. E.g. assume that a product has 5 possible SIZES and 2 are only available.  \n",
    "Is this the same as having 2 sizes for a product with 2 possible sizes?  \n",
    "  \n",
    "Create an attribute called PCT_SIZE per (GEO, WEEK_ENDING, SORT) that contains the % percentage in relation with the total number of sizes available for the SORT"
   ]
  },
  {
   "cell_type": "raw",
   "metadata": {},
   "source": [
    "%load -s retailerEDA2 ./solutions.py"
   ]
  },
  {
   "cell_type": "markdown",
   "metadata": {},
   "source": [
    "-------------------------------------------------------------------------------------------\n",
    "# Creation of UNITS and REVENUE related attributes #\n",
    "\n",
    "### UNITS ###\n",
    "The way retailer.csv provides the items sold per GEO and WEEK_ENDING (UNITS field) is cumbersome:  \n",
    "  \n",
    "1. GEO is not a store's location but a the name of a distribution channel!  \n",
    "2. UNITS then, is the number of SKUs sold through a channel's stores (channels have different number of stores).  \n",
    "3. There is no indication of the number of stores per channel. Rather the field PCT contains the __percentage__ of the stores in a channel that a given SKU was available in a certain WEEK_ENDING.  \n",
    "  \n",
    "The best we can do is assume that each channel has 100 stores and use the UNITS/PCT as a target variable in our prediction task.  \n",
    "We can say that we predict the units sold per GEO's __percentile store__.  \n",
    "  \n",
    "We use Dataframe's `where` method to divide UNITS by non-zero PCT only"
   ]
  },
  {
   "cell_type": "code",
   "execution_count": 10,
   "metadata": {},
   "outputs": [
    {
     "name": "stdout",
     "output_type": "stream",
     "text": [
      "float64\n"
     ]
    }
   ],
   "source": [
    "# DO NOT forget to convert to float:\n",
    "# Both UNITS and PCT are int. Dividing them in Python 2.x produces an int that will truncate fractional sales\n",
    "\n",
    "tab['SALES'] = np.where(tab.PCT > 0, (1. * tab.UNITS)/tab.PCT, 0.) \n",
    "print tab.SALES.dtype"
   ]
  },
  {
   "cell_type": "markdown",
   "metadata": {},
   "source": [
    "### REVENUE ###\n",
    "REVENUE contains the pounds collected from ALL the stores of the channel per SKU and WEEK_ENDING.  \n",
    "Therefore is not sth that we can use during the prediction phase (we don't know the items sold).  \n",
    "  \n",
    "REVENUE/UNITS however is the avg selling price of the item and this is known during the prediction phase."
   ]
  },
  {
   "cell_type": "code",
   "execution_count": 11,
   "metadata": {},
   "outputs": [
    {
     "name": "stdout",
     "output_type": "stream",
     "text": [
      "81134     4.969171\n",
      "55531     7.035122\n",
      "75012     2.877375\n",
      "97662     5.918464\n",
      "101474    2.226268\n",
      "Name: PRICE, dtype: float64\n"
     ]
    }
   ],
   "source": [
    "tab['PRICE'] = np.where(tab.UNITS > 0, tab.REVENUE / tab.UNITS, 0.)\n",
    "print tab.PRICE.sample(5)"
   ]
  },
  {
   "cell_type": "markdown",
   "metadata": {},
   "source": [
    "------------\n",
    "# EDA #"
   ]
  },
  {
   "cell_type": "code",
   "execution_count": 12,
   "metadata": {},
   "outputs": [],
   "source": [
    "%matplotlib inline\n",
    "\n",
    "import matplotlib.pyplot as plt\n",
    "import seaborn as sns\n",
    "\n",
    "plt.style.use('ggplot')\n",
    "sns.set_context('notebook', font_scale = 1.2)"
   ]
  },
  {
   "cell_type": "markdown",
   "metadata": {},
   "source": [
    "### Dataset imbalance:  ###\n",
    "Observation counts per SEGMENT and {SIZE, NUM_SIZE, SORT_TYPE}: The dataset is highly biased towards sizes C and D, and sorts C, D and CD.  \n",
    "Analysis will be constraint to categories with enough observations (here we will filter with SIZE_SORT C, D, CD and CDE)"
   ]
  },
  {
   "cell_type": "code",
   "execution_count": 13,
   "metadata": {},
   "outputs": [
    {
     "data": {
      "text/plain": [
       "<matplotlib.axes._subplots.AxesSubplot at 0x7fab9f749390>"
      ]
     },
     "execution_count": 13,
     "metadata": {},
     "output_type": "execute_result"
    },
    {
     "data": {
      "image/png": "[encoded data removed]",
      "text/plain": [
       "<matplotlib.figure.Figure at 0x7fab9fbbbed0>"
      ]
     },
     "metadata": {},
     "output_type": "display_data"
    }
   ],
   "source": [
    "fig = plt.figure(figsize = [20, 11])\n",
    "ax1 = fig.add_subplot(221)\n",
    "sns.countplot(x = 'SIZE', hue = 'SEGMENT', data = tab.sort_values(by = 'SIZE'), ax = ax1, dodge = False)\n",
    "ax2 = fig.add_subplot(222)\n",
    "sns.countplot(x = 'NUM_SIZE', hue = 'SEGMENT', data = tab.sort_values(by = 'NUM_SIZE'), ax = ax2, dodge = False)\n",
    "ax3 = fig.add_subplot(212)\n",
    "sns.countplot(x = 'SIZE_SORT', hue = 'SEGMENT', dodge = False, ax = ax3, data = tab.sort_values(by = 'SIZE_SORT'))"
   ]
  },
  {
   "cell_type": "markdown",
   "metadata": {},
   "source": [
    "Create (a reference to) a subset of tab, containing only the SIZE_SORT values of interest:"
   ]
  },
  {
   "cell_type": "code",
   "execution_count": 14,
   "metadata": {},
   "outputs": [],
   "source": [
    "tab2 = tab[tab.SIZE_SORT.isin(['C', 'D', 'E', 'CD', 'CDE'])]"
   ]
  },
  {
   "cell_type": "markdown",
   "metadata": {},
   "source": [
    "### Dependency of SALES to promotions ###\n",
    "PCTF and PCTD are similar to PCT and contain the percentage of stores where a product was _'Featured'_ or _'Displayed'_.  \n",
    "Both featuring and display can hold for a product.  \n",
    "  \n",
    "A __featured__ product is sold with an extra 'feature' like another complementary (e.g. shampoo with conditioner)  \n",
    "A __displayed__ product is placed in a very 'spotty' location in the store  \n",
    "  \n",
    "In the following we examine the relation of PCTD with SALES and display this relationship visually and with a statistical descriptive measure called __'lift'__"
   ]
  },
  {
   "cell_type": "code",
   "execution_count": 15,
   "metadata": {},
   "outputs": [
    {
     "data": {
      "image/png": "[encoded data removed]",
      "text/plain": [
       "<matplotlib.figure.Figure at 0x7faba3593bd0>"
      ]
     },
     "metadata": {},
     "output_type": "display_data"
    }
   ],
   "source": [
    "_ = sns.jointplot(x = 'PCTD', y = 'SALES', data = tab2[tab2.PCTD > 0.], size = 8, stat_func = None)"
   ]
  },
  {
   "cell_type": "markdown",
   "metadata": {},
   "source": [
    "<span style = \"color: darkred; font-size: 200%; font-weight: bold;  text-decoration: underline\"> \n",
    "Exercise \n",
    "</span>  \n",
    "  \n",
    "A lift of a scalar quantity (here SALES) wrt a binary variable V is defined as:  \n",
    "$$\\frac{\\mathtt {AVG(quantity)\\, for\\, V = 1}}{\\mathtt {AVG(quantity)\\, for\\, V = 0}}$$\n",
    "\n",
    "Calculate the lift of sales for PCTD > .2 versus PCTD <= .2\n"
   ]
  },
  {
   "cell_type": "raw",
   "metadata": {},
   "source": [
    "%load -s retailerEDA3 ./solutions.py"
   ]
  },
  {
   "cell_type": "markdown",
   "metadata": {},
   "source": [
    "### Elaborating on SIZE_SORT ###\n",
    "The relation of the size composition of a sort to sort's sales is a bit involved.  \n",
    "  \n",
    "A question is:  \n",
    "'Given that a size is available for sale, what size sorts (containing this size) sell more?'\n",
    "  \n",
    "The following diagram uses seaborn's ploting tools to display a breakdown of AVG sales per SIZE_SORT for each combination of BRAND and SIZE\n",
    "There's visual evidence that the co-existence CD and CDE increases AVG SALES."
   ]
  },
  {
   "cell_type": "code",
   "execution_count": 32,
   "metadata": {},
   "outputs": [
    {
     "data": {
      "image/png": "[encoded data removed]",
      "text/plain": [
       "<matplotlib.figure.Figure at 0x7fab9b94c490>"
      ]
     },
     "metadata": {},
     "output_type": "display_data"
    }
   ],
   "source": [
    "tab3 = tab2.groupby(['SEGMENT', 'BRAND', 'SIZE', 'SIZE_SORT'], as_index = False)['SALES'].mean()\n",
    "fg = sns.FacetGrid(\n",
    "    tab3,\n",
    "    row = 'SIZE', col = 'BRAND', hue = 'SEGMENT', size = 3.5, aspect = 1.2, sharex = False)\n",
    "_ = fg.map(sns.barplot, 'SIZE_SORT', 'SALES').add_legend()"
   ]
  },
  {
   "cell_type": "markdown",
   "metadata": {},
   "source": [
    "-------------------------\n",
    "# Conclusions #\n",
    "\n",
    "DataFrames and matplotlib-seaborn systems are very powerfull for doing EDA on moderately-sized datasets.  \n",
    "the problem is that the data must reside in memory, however this is easily aleviated using PySpark or increasing the available memory.  \n",
    "  \n",
    "Beyond the technical matters, __the most important caveat I of visual analysis and descriptive stats is that:__    \n",
    "<div style = \"background: #E9B96E\">\n",
    "in the real world there're __no obvious relationships between data__.  \n",
    "Most of the examples you see in courses use datasets with obvious relations between a few fields in the observations.  \n",
    "In reality the dependencies are more complex and involve __many__ fields so that it is difficult to discover them visually.\n",
    "</div>  \n",
    "  \n",
    "The answer is __Machine Learning__  \n",
    "We let the algorithm find intricate relationships among multiple fields and rest with the fact that this is better an eye can do  \n",
    "  \n",
    "In the ML notebook we'll see that it is preferable to employ a regression tree do a whatif analysis automatically for any size assortment, brand, promo and week we like"
   ]
  },
  {
   "cell_type": "code",
   "execution_count": null,
   "metadata": {},
   "outputs": [],
   "source": []
  }
 ],
 "metadata": {
  "kernelspec": {
   "display_name": "Python 2",
   "language": "python",
   "name": "python2"
  },
  "language_info": {
   "codemirror_mode": {
    "name": "ipython",
    "version": 2
   },
   "file_extension": ".py",
   "mimetype": "text/x-python",
   "name": "python",
   "nbconvert_exporter": "python",
   "pygments_lexer": "ipython2",
   "version": "2.7.12"
  }
 },
 "nbformat": 4,
 "nbformat_minor": 2
}
