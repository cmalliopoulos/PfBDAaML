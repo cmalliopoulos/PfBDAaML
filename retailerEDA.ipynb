{
 "cells": [
  {
   "cell_type": "markdown",
   "metadata": {},
   "source": [
    "![MLTrain logo](https://mltrain.cc/wp-content/uploads/2017/11/mltrain_logo-4.png \"MLTrain logo\")\n",
    "\n",
    "---------------------------------------------------------"
   ]
  },
  {
   "cell_type": "code",
   "execution_count": 1,
   "metadata": {},
   "outputs": [
    {
     "data": {
      "text/html": [
       "\n",
       "    <style>\n",
       "    @import url('https://fonts.googleapis.com/css?family=Roboto+Condensed');\n",
       "    </style> "
      ],
      "text/plain": [
       "<IPython.core.display.HTML object>"
      ]
     },
     "metadata": {},
     "output_type": "display_data"
    },
    {
     "data": {
      "text/html": [
       "<style> .container {width: 90%} </style>"
      ],
      "text/plain": [
       "<IPython.core.display.HTML object>"
      ]
     },
     "metadata": {},
     "output_type": "display_data"
    },
    {
     "data": {
      "text/html": [
       "\n",
       "    <style> .CodeMirror {font-size: 10.5pt !important} </style>"
      ],
      "text/plain": [
       "<IPython.core.display.HTML object>"
      ]
     },
     "metadata": {},
     "output_type": "display_data"
    },
    {
     "data": {
      "text/html": [
       "\n",
       "    <style> div.cell.selected{border: 0px};</style>"
      ],
      "text/plain": [
       "<IPython.core.display.HTML object>"
      ]
     },
     "metadata": {},
     "output_type": "display_data"
    },
    {
     "data": {
      "text/html": [
       "<style> \n",
       "    .text_cell_render {\n",
       "        font-family: \"Roboto Condensed\"; \n",
       "        line-height: 145%; \n",
       "        font-size: 13pt} </style>"
      ],
      "text/plain": [
       "<IPython.core.display.HTML object>"
      ]
     },
     "metadata": {},
     "output_type": "display_data"
    },
    {
     "data": {
      "text/html": [
       "<style> \n",
       "    .output_area {font-size: large} </style>"
      ],
      "text/plain": [
       "<IPython.core.display.HTML object>"
      ]
     },
     "metadata": {},
     "output_type": "display_data"
    }
   ],
   "source": [
    "%%capture --no-display\n",
    "%run /Nvme/Training/MLTrainAthens/JupyterNotebooks/changeNBLayout.py\n",
    "\n",
    "# %wget -q -O retailer.csv . . ."
   ]
  },
  {
   "cell_type": "markdown",
   "metadata": {},
   "source": [
    "--------------------------\n",
    "# Scope #\n",
    "\n",
    "A large retailer asked for insights on the consumer purchasing preferences of their __fluid__ products.  \n",
    "Fluids are products like shampoo, conditioner and cleaning liquids that are offered in packs of different sizes (weights | volumes).  \n",
    "In particular, the retailer wanted to know  \n",
    "1. the \n",
    "2. the consequences of __introducing a new size for a fluid product__  \n",
    "\n",
    "  \n",
    "<span style = \"background: #E9B96E\">\n",
    "In the project we will investigate the effect of the <span style = \"color: darkred\">size composition of a sort__</span> to <b>sort sales</b>.\n",
    "</span>  \n",
    "A _sort_ is a collection of product items (SKUs) differing only in their sizes.\n",
    "\n",
    "### Example ###\n",
    "A type of H&S Shampoo if available in ounce-sizes 7 and 12. If I introduce a size 16oz what will be the effect on the sum of H&S sales?\n"
   ]
  },
  {
   "cell_type": "markdown",
   "metadata": {},
   "source": [
    "# The retailer dataset #\n",
    "\n",
    "The dataset contains numbers of items sold per week and store for each SKU.  \n",
    "SKUs belong to BRANDS, SEGMENTS, TYPES and COLLECTIONS"
   ]
  },
  {
   "cell_type": "code",
   "execution_count": 2,
   "metadata": {},
   "outputs": [
    {
     "data": {
      "text/html": [
       "<div>\n",
       "<style>\n",
       "    .dataframe thead tr:only-child th {\n",
       "        text-align: right;\n",
       "    }\n",
       "\n",
       "    .dataframe thead th {\n",
       "        text-align: left;\n",
       "    }\n",
       "\n",
       "    .dataframe tbody tr th {\n",
       "        vertical-align: top;\n",
       "    }\n",
       "</style>\n",
       "<table border=\"1\" class=\"dataframe\">\n",
       "  <thead>\n",
       "    <tr style=\"text-align: right;\">\n",
       "      <th></th>\n",
       "      <th>SKU</th>\n",
       "      <th>GEO</th>\n",
       "      <th>WEEK_ENDING</th>\n",
       "      <th>WEEK</th>\n",
       "      <th>MONTH</th>\n",
       "      <th>PCT</th>\n",
       "      <th>PCTF</th>\n",
       "      <th>PCTD</th>\n",
       "      <th>UNITS</th>\n",
       "      <th>REVENUE</th>\n",
       "      <th>SEGMENT</th>\n",
       "      <th>TYPE</th>\n",
       "      <th>BRAND</th>\n",
       "      <th>COLLECTION</th>\n",
       "      <th>SORT</th>\n",
       "      <th>BASE_ITEM</th>\n",
       "      <th>SIZE</th>\n",
       "    </tr>\n",
       "  </thead>\n",
       "  <tbody>\n",
       "    <tr>\n",
       "      <th>14898</th>\n",
       "      <td>102850</td>\n",
       "      <td>TWTUC</td>\n",
       "      <td>1982-04-29</td>\n",
       "      <td>17</td>\n",
       "      <td>4</td>\n",
       "      <td>93</td>\n",
       "      <td>0</td>\n",
       "      <td>0</td>\n",
       "      <td>6839</td>\n",
       "      <td>47500.34</td>\n",
       "      <td>CON</td>\n",
       "      <td>CR</td>\n",
       "      <td>H&amp;S</td>\n",
       "      <td>H&amp;SS&amp;S</td>\n",
       "      <td>371</td>\n",
       "      <td>REG 1CT 23.0OZ</td>\n",
       "      <td>D</td>\n",
       "    </tr>\n",
       "    <tr>\n",
       "      <th>98515</th>\n",
       "      <td>101124</td>\n",
       "      <td>TTCTA</td>\n",
       "      <td>1984-11-01</td>\n",
       "      <td>44</td>\n",
       "      <td>11</td>\n",
       "      <td>95</td>\n",
       "      <td>0</td>\n",
       "      <td>0</td>\n",
       "      <td>2013</td>\n",
       "      <td>11741.84</td>\n",
       "      <td>SHA</td>\n",
       "      <td>SD</td>\n",
       "      <td>S</td>\n",
       "      <td>SPR</td>\n",
       "      <td>1043</td>\n",
       "      <td>DRY 2CT 4.3OZ</td>\n",
       "      <td>A</td>\n",
       "    </tr>\n",
       "    <tr>\n",
       "      <th>69231</th>\n",
       "      <td>104938</td>\n",
       "      <td>PTCTA</td>\n",
       "      <td>1985-12-05</td>\n",
       "      <td>49</td>\n",
       "      <td>12</td>\n",
       "      <td>82</td>\n",
       "      <td>0</td>\n",
       "      <td>0</td>\n",
       "      <td>715</td>\n",
       "      <td>2255.91</td>\n",
       "      <td>CON</td>\n",
       "      <td>CR</td>\n",
       "      <td>S</td>\n",
       "      <td>SPK</td>\n",
       "      <td>931</td>\n",
       "      <td>REG 1CT 12.6OZ</td>\n",
       "      <td>C</td>\n",
       "    </tr>\n",
       "    <tr>\n",
       "      <th>56951</th>\n",
       "      <td>102862</td>\n",
       "      <td>PTCTA</td>\n",
       "      <td>1984-08-09</td>\n",
       "      <td>32</td>\n",
       "      <td>8</td>\n",
       "      <td>75</td>\n",
       "      <td>0</td>\n",
       "      <td>0</td>\n",
       "      <td>642</td>\n",
       "      <td>2368.43</td>\n",
       "      <td>SHA</td>\n",
       "      <td>SR</td>\n",
       "      <td>S</td>\n",
       "      <td>SNA&amp;S</td>\n",
       "      <td>860</td>\n",
       "      <td>REG 1CT 28.0OZ</td>\n",
       "      <td>D</td>\n",
       "    </tr>\n",
       "    <tr>\n",
       "      <th>66527</th>\n",
       "      <td>100422</td>\n",
       "      <td>TTCTA</td>\n",
       "      <td>1982-05-13</td>\n",
       "      <td>19</td>\n",
       "      <td>5</td>\n",
       "      <td>100</td>\n",
       "      <td>0</td>\n",
       "      <td>0</td>\n",
       "      <td>10170</td>\n",
       "      <td>31620.53</td>\n",
       "      <td>SHA</td>\n",
       "      <td>SR</td>\n",
       "      <td>S</td>\n",
       "      <td>SPK</td>\n",
       "      <td>928</td>\n",
       "      <td>REG 1CT 12.6OZ</td>\n",
       "      <td>C</td>\n",
       "    </tr>\n",
       "    <tr>\n",
       "      <th>86085</th>\n",
       "      <td>102096</td>\n",
       "      <td>TTCTA</td>\n",
       "      <td>1986-05-29</td>\n",
       "      <td>22</td>\n",
       "      <td>5</td>\n",
       "      <td>57</td>\n",
       "      <td>0</td>\n",
       "      <td>0</td>\n",
       "      <td>989</td>\n",
       "      <td>6812.30</td>\n",
       "      <td>SHA</td>\n",
       "      <td>S2</td>\n",
       "      <td>A</td>\n",
       "      <td>AA</td>\n",
       "      <td>988</td>\n",
       "      <td>2-IN-1 1CT 22.0OZ</td>\n",
       "      <td>D</td>\n",
       "    </tr>\n",
       "    <tr>\n",
       "      <th>22137</th>\n",
       "      <td>102518</td>\n",
       "      <td>TTCTA</td>\n",
       "      <td>1984-02-02</td>\n",
       "      <td>5</td>\n",
       "      <td>2</td>\n",
       "      <td>49</td>\n",
       "      <td>0</td>\n",
       "      <td>0</td>\n",
       "      <td>1203</td>\n",
       "      <td>6018.04</td>\n",
       "      <td>SHA</td>\n",
       "      <td>SR</td>\n",
       "      <td>H&amp;S</td>\n",
       "      <td>H&amp;SOL</td>\n",
       "      <td>384</td>\n",
       "      <td>REG 1CT 14.2OZ</td>\n",
       "      <td>C</td>\n",
       "    </tr>\n",
       "    <tr>\n",
       "      <th>25685</th>\n",
       "      <td>101998</td>\n",
       "      <td>WTCTA</td>\n",
       "      <td>1982-02-04</td>\n",
       "      <td>5</td>\n",
       "      <td>2</td>\n",
       "      <td>4</td>\n",
       "      <td>1</td>\n",
       "      <td>0</td>\n",
       "      <td>104</td>\n",
       "      <td>546.59</td>\n",
       "      <td>SHA</td>\n",
       "      <td>S2</td>\n",
       "      <td>H&amp;S</td>\n",
       "      <td>H&amp;S</td>\n",
       "      <td>387</td>\n",
       "      <td>2-IN-1 1CT 14.2OZ</td>\n",
       "      <td>C</td>\n",
       "    </tr>\n",
       "    <tr>\n",
       "      <th>21883</th>\n",
       "      <td>103679</td>\n",
       "      <td>TTCTA</td>\n",
       "      <td>1985-05-02</td>\n",
       "      <td>18</td>\n",
       "      <td>5</td>\n",
       "      <td>68</td>\n",
       "      <td>0</td>\n",
       "      <td>0</td>\n",
       "      <td>1384</td>\n",
       "      <td>10181.92</td>\n",
       "      <td>SHA</td>\n",
       "      <td>S2</td>\n",
       "      <td>H&amp;S</td>\n",
       "      <td>H&amp;SDS</td>\n",
       "      <td>361</td>\n",
       "      <td>2-IN-1 1CT 23.7OZ</td>\n",
       "      <td>D</td>\n",
       "    </tr>\n",
       "    <tr>\n",
       "      <th>24291</th>\n",
       "      <td>102083</td>\n",
       "      <td>PTCTA</td>\n",
       "      <td>1986-03-27</td>\n",
       "      <td>13</td>\n",
       "      <td>3</td>\n",
       "      <td>96</td>\n",
       "      <td>65</td>\n",
       "      <td>0</td>\n",
       "      <td>1437</td>\n",
       "      <td>7428.89</td>\n",
       "      <td>SHA</td>\n",
       "      <td>S2</td>\n",
       "      <td>H&amp;S</td>\n",
       "      <td>H&amp;SGA</td>\n",
       "      <td>385</td>\n",
       "      <td>2-IN-1 1CT 13.5OZ</td>\n",
       "      <td>C</td>\n",
       "    </tr>\n",
       "  </tbody>\n",
       "</table>\n",
       "</div>"
      ],
      "text/plain": [
       "          SKU    GEO WEEK_ENDING  WEEK  MONTH  PCT  PCTF  PCTD  UNITS  \\\n",
       "14898  102850  TWTUC  1982-04-29    17      4   93     0     0   6839   \n",
       "98515  101124  TTCTA  1984-11-01    44     11   95     0     0   2013   \n",
       "69231  104938  PTCTA  1985-12-05    49     12   82     0     0    715   \n",
       "56951  102862  PTCTA  1984-08-09    32      8   75     0     0    642   \n",
       "66527  100422  TTCTA  1982-05-13    19      5  100     0     0  10170   \n",
       "86085  102096  TTCTA  1986-05-29    22      5   57     0     0    989   \n",
       "22137  102518  TTCTA  1984-02-02     5      2   49     0     0   1203   \n",
       "25685  101998  WTCTA  1982-02-04     5      2    4     1     0    104   \n",
       "21883  103679  TTCTA  1985-05-02    18      5   68     0     0   1384   \n",
       "24291  102083  PTCTA  1986-03-27    13      3   96    65     0   1437   \n",
       "\n",
       "        REVENUE SEGMENT TYPE BRAND COLLECTION  SORT          BASE_ITEM SIZE  \n",
       "14898  47500.34     CON   CR   H&S     H&SS&S   371     REG 1CT 23.0OZ    D  \n",
       "98515  11741.84     SHA   SD     S        SPR  1043      DRY 2CT 4.3OZ    A  \n",
       "69231   2255.91     CON   CR     S        SPK   931     REG 1CT 12.6OZ    C  \n",
       "56951   2368.43     SHA   SR     S      SNA&S   860     REG 1CT 28.0OZ    D  \n",
       "66527  31620.53     SHA   SR     S        SPK   928     REG 1CT 12.6OZ    C  \n",
       "86085   6812.30     SHA   S2     A         AA   988  2-IN-1 1CT 22.0OZ    D  \n",
       "22137   6018.04     SHA   SR   H&S      H&SOL   384     REG 1CT 14.2OZ    C  \n",
       "25685    546.59     SHA   S2   H&S        H&S   387  2-IN-1 1CT 14.2OZ    C  \n",
       "21883  10181.92     SHA   S2   H&S      H&SDS   361  2-IN-1 1CT 23.7OZ    D  \n",
       "24291   7428.89     SHA   S2   H&S      H&SGA   385  2-IN-1 1CT 13.5OZ    C  "
      ]
     },
     "metadata": {},
     "output_type": "display_data"
    }
   ],
   "source": [
    "import pandas as pd\n",
    "import numpy as np\n",
    "import sys, os\n",
    "import datetime as dt\n",
    "\n",
    "from os import linesep as endl\n",
    "\n",
    "tab = pd.read_csv('retailer.csv', sep = '|')\n",
    "display(tab.sample(10))"
   ]
  },
  {
   "cell_type": "markdown",
   "metadata": {},
   "source": [
    "How about the types of the data?"
   ]
  },
  {
   "cell_type": "code",
   "execution_count": 186,
   "metadata": {},
   "outputs": [
    {
     "data": {
      "text/plain": [
       "SKU              int64\n",
       "GEO             object\n",
       "WEEK_ENDING     object\n",
       "WEEK             int64\n",
       "MONTH            int64\n",
       "PCTF             int64\n",
       "PCTD             int64\n",
       "UNITS            int64\n",
       "REVENUE        float64\n",
       "SEGMENT         object\n",
       "TYPE            object\n",
       "BRAND           object\n",
       "COLLECTION      object\n",
       "SORT             int64\n",
       "BASE_ITEM       object\n",
       "SIZE            object\n",
       "dtype: object"
      ]
     },
     "execution_count": 186,
     "metadata": {},
     "output_type": "execute_result"
    }
   ],
   "source": [
    "tab.dtypes"
   ]
  },
  {
   "cell_type": "markdown",
   "metadata": {},
   "source": [
    "Everything seems to have been read properly exept from WEEK_ENDING.  \n",
    "It is a date column but has been read as string (type 'object' in DataFrames)\n",
    "\n",
    "We can either re-read retailer.csv and explicitly parse WEEK_ENDING as date:\n",
    "``` Python\n",
    "pd.read_csv('retailer.csv', sep = '|', parse_dates = ['WEEK_ENDING'])\n",
    "```\n",
    "or we can convert the WEEK_ENDING column to datetime type using pandas.to_datetime function:"
   ]
  },
  {
   "cell_type": "code",
   "execution_count": 3,
   "metadata": {},
   "outputs": [
    {
     "name": "stdout",
     "output_type": "stream",
     "text": [
      "datetime64[ns]\n"
     ]
    }
   ],
   "source": [
    "tab.WEEK_ENDING = pd.to_datetime(tab.WEEK_ENDING, format = '%Y-%m-%d')\n",
    "print tab.WEEK_ENDING.dtype"
   ]
  },
  {
   "cell_type": "markdown",
   "metadata": {},
   "source": [
    "`DateFrame.describe` computes basic descriptive statistics of tab's contents"
   ]
  },
  {
   "cell_type": "code",
   "execution_count": 165,
   "metadata": {},
   "outputs": [
    {
     "data": {
      "text/html": [
       "<div>\n",
       "<style>\n",
       "    .dataframe thead tr:only-child th {\n",
       "        text-align: right;\n",
       "    }\n",
       "\n",
       "    .dataframe thead th {\n",
       "        text-align: left;\n",
       "    }\n",
       "\n",
       "    .dataframe tbody tr th {\n",
       "        vertical-align: top;\n",
       "    }\n",
       "</style>\n",
       "<table border=\"1\" class=\"dataframe\">\n",
       "  <thead>\n",
       "    <tr style=\"text-align: right;\">\n",
       "      <th></th>\n",
       "      <th>SKU</th>\n",
       "      <th>WEEK</th>\n",
       "      <th>MONTH</th>\n",
       "      <th>PCTF</th>\n",
       "      <th>PCTD</th>\n",
       "      <th>UNITS</th>\n",
       "      <th>REVENUE</th>\n",
       "      <th>SORT</th>\n",
       "    </tr>\n",
       "  </thead>\n",
       "  <tbody>\n",
       "    <tr>\n",
       "      <th>count</th>\n",
       "      <td>112779.000000</td>\n",
       "      <td>112779.000000</td>\n",
       "      <td>112779.000000</td>\n",
       "      <td>112779.000000</td>\n",
       "      <td>112779.000000</td>\n",
       "      <td>112779.000000</td>\n",
       "      <td>112779.000000</td>\n",
       "      <td>112779.000000</td>\n",
       "    </tr>\n",
       "    <tr>\n",
       "      <th>mean</th>\n",
       "      <td>102751.378555</td>\n",
       "      <td>24.961908</td>\n",
       "      <td>6.181816</td>\n",
       "      <td>4.534337</td>\n",
       "      <td>2.186657</td>\n",
       "      <td>5576.052102</td>\n",
       "      <td>19103.393757</td>\n",
       "      <td>689.939173</td>\n",
       "    </tr>\n",
       "    <tr>\n",
       "      <th>std</th>\n",
       "      <td>1504.111777</td>\n",
       "      <td>14.524046</td>\n",
       "      <td>3.341917</td>\n",
       "      <td>16.358580</td>\n",
       "      <td>5.421718</td>\n",
       "      <td>8459.402683</td>\n",
       "      <td>25958.044088</td>\n",
       "      <td>289.565226</td>\n",
       "    </tr>\n",
       "    <tr>\n",
       "      <th>min</th>\n",
       "      <td>100009.000000</td>\n",
       "      <td>1.000000</td>\n",
       "      <td>1.000000</td>\n",
       "      <td>0.000000</td>\n",
       "      <td>0.000000</td>\n",
       "      <td>5.000000</td>\n",
       "      <td>1.270000</td>\n",
       "      <td>356.000000</td>\n",
       "    </tr>\n",
       "    <tr>\n",
       "      <th>25%</th>\n",
       "      <td>101462.000000</td>\n",
       "      <td>13.000000</td>\n",
       "      <td>3.000000</td>\n",
       "      <td>0.000000</td>\n",
       "      <td>0.000000</td>\n",
       "      <td>638.000000</td>\n",
       "      <td>2676.925000</td>\n",
       "      <td>385.000000</td>\n",
       "    </tr>\n",
       "    <tr>\n",
       "      <th>50%</th>\n",
       "      <td>102862.000000</td>\n",
       "      <td>24.000000</td>\n",
       "      <td>6.000000</td>\n",
       "      <td>0.000000</td>\n",
       "      <td>0.000000</td>\n",
       "      <td>2539.000000</td>\n",
       "      <td>11185.930000</td>\n",
       "      <td>842.000000</td>\n",
       "    </tr>\n",
       "    <tr>\n",
       "      <th>75%</th>\n",
       "      <td>103837.000000</td>\n",
       "      <td>37.000000</td>\n",
       "      <td>9.000000</td>\n",
       "      <td>0.000000</td>\n",
       "      <td>2.000000</td>\n",
       "      <td>6998.500000</td>\n",
       "      <td>26853.630000</td>\n",
       "      <td>965.000000</td>\n",
       "    </tr>\n",
       "    <tr>\n",
       "      <th>max</th>\n",
       "      <td>105449.000000</td>\n",
       "      <td>52.000000</td>\n",
       "      <td>12.000000</td>\n",
       "      <td>99.000000</td>\n",
       "      <td>69.000000</td>\n",
       "      <td>131343.000000</td>\n",
       "      <td>715352.740000</td>\n",
       "      <td>2668.000000</td>\n",
       "    </tr>\n",
       "  </tbody>\n",
       "</table>\n",
       "</div>"
      ],
      "text/plain": [
       "                 SKU           WEEK          MONTH           PCTF  \\\n",
       "count  112779.000000  112779.000000  112779.000000  112779.000000   \n",
       "mean   102751.378555      24.961908       6.181816       4.534337   \n",
       "std      1504.111777      14.524046       3.341917      16.358580   \n",
       "min    100009.000000       1.000000       1.000000       0.000000   \n",
       "25%    101462.000000      13.000000       3.000000       0.000000   \n",
       "50%    102862.000000      24.000000       6.000000       0.000000   \n",
       "75%    103837.000000      37.000000       9.000000       0.000000   \n",
       "max    105449.000000      52.000000      12.000000      99.000000   \n",
       "\n",
       "                PCTD          UNITS        REVENUE           SORT  \n",
       "count  112779.000000  112779.000000  112779.000000  112779.000000  \n",
       "mean        2.186657    5576.052102   19103.393757     689.939173  \n",
       "std         5.421718    8459.402683   25958.044088     289.565226  \n",
       "min         0.000000       5.000000       1.270000     356.000000  \n",
       "25%         0.000000     638.000000    2676.925000     385.000000  \n",
       "50%         0.000000    2539.000000   11185.930000     842.000000  \n",
       "75%         2.000000    6998.500000   26853.630000     965.000000  \n",
       "max        69.000000  131343.000000  715352.740000    2668.000000  "
      ]
     },
     "metadata": {},
     "output_type": "display_data"
    }
   ],
   "source": [
    "display(tab.describe())"
   ]
  },
  {
   "cell_type": "markdown",
   "metadata": {},
   "source": [
    "-------------------------------------------------------\n",
    "# An analysis of attribute relations #\n",
    "\n",
    "There're several attributes that classify SKUs: SEGMENT, TYPE, BRAND, COLLECTION, SORT and BASE_ITEM  \n",
    "We want to see if subsets of the attributes constitute dimension hierarchies.  \n",
    "A dimension hierarchy is a set of attributes with a 1:N relation between them.  \n",
    "  \n",
    "E.g. if SEGMENT, BRAND, COLLECTION constitute a dimension hierarchy then SEGMENT:BRAND and BRAND:COLLECTION should be 1:N relations  \n",
    "\n",
    "We can search for such relations per case, i.e search for a 1:N relation between SEGMENT and BRAND:"
   ]
  },
  {
   "cell_type": "markdown",
   "metadata": {},
   "source": [
    "<span style = \"color: darkred; font-size: 200%; font-weight: bold;  text-decoration: underline\"> \n",
    "Exercise \n",
    "</span>\n",
    "\n",
    "Do SEGMENT and BRAND constitute a dimension hierarchy?\n"
   ]
  },
  {
   "cell_type": "raw",
   "metadata": {},
   "source": [
    "%load -s retailerEDA1 solutions.py"
   ]
  },
  {
   "cell_type": "markdown",
   "metadata": {},
   "source": [
    "Doing so explicitly for each pair of attributes in datasets with even a moderate number of attributes, is cumbersome and _leads to errors_.  \n",
    "Instead, let's use Python's expressiveness to construct a representation of relations with a few lines of code:"
   ]
  },
  {
   "cell_type": "code",
   "execution_count": 4,
   "metadata": {},
   "outputs": [
    {
     "data": {
      "text/html": [
       "<div>\n",
       "<style>\n",
       "    .dataframe thead tr:only-child th {\n",
       "        text-align: right;\n",
       "    }\n",
       "\n",
       "    .dataframe thead th {\n",
       "        text-align: left;\n",
       "    }\n",
       "\n",
       "    .dataframe tbody tr th {\n",
       "        vertical-align: top;\n",
       "    }\n",
       "</style>\n",
       "<table border=\"1\" class=\"dataframe\">\n",
       "  <thead>\n",
       "    <tr>\n",
       "      <th></th>\n",
       "      <th colspan=\"4\" halign=\"left\">nunique</th>\n",
       "    </tr>\n",
       "    <tr>\n",
       "      <th></th>\n",
       "      <th>BRAND</th>\n",
       "      <th>COLLECTION</th>\n",
       "      <th>SEGMENT</th>\n",
       "      <th>TYPE</th>\n",
       "    </tr>\n",
       "    <tr>\n",
       "      <th>groupby</th>\n",
       "      <th></th>\n",
       "      <th></th>\n",
       "      <th></th>\n",
       "      <th></th>\n",
       "    </tr>\n",
       "  </thead>\n",
       "  <tbody>\n",
       "    <tr>\n",
       "      <th>BRAND</th>\n",
       "      <td>1</td>\n",
       "      <td>37</td>\n",
       "      <td>2</td>\n",
       "      <td>6</td>\n",
       "    </tr>\n",
       "    <tr>\n",
       "      <th>COLLECTION</th>\n",
       "      <td>1</td>\n",
       "      <td>1</td>\n",
       "      <td>2</td>\n",
       "      <td>5</td>\n",
       "    </tr>\n",
       "    <tr>\n",
       "      <th>SEGMENT</th>\n",
       "      <td>4</td>\n",
       "      <td>99</td>\n",
       "      <td>1</td>\n",
       "      <td>5</td>\n",
       "    </tr>\n",
       "    <tr>\n",
       "      <th>TYPE</th>\n",
       "      <td>4</td>\n",
       "      <td>76</td>\n",
       "      <td>1</td>\n",
       "      <td>1</td>\n",
       "    </tr>\n",
       "  </tbody>\n",
       "</table>\n",
       "</div>"
      ],
      "text/plain": [
       "           nunique                        \n",
       "             BRAND COLLECTION SEGMENT TYPE\n",
       "groupby                                   \n",
       "BRAND            1         37       2    6\n",
       "COLLECTION       1          1       2    5\n",
       "SEGMENT          4         99       1    5\n",
       "TYPE             4         76       1    1"
      ]
     },
     "execution_count": 4,
     "metadata": {},
     "output_type": "execute_result"
    }
   ],
   "source": [
    "def cardinals(df_):\n",
    "    ret = pd.DataFrame(\n",
    "        data = [], \n",
    "        index = pd.MultiIndex.from_product([df_.columns] * 2, names = ['groupby', '']),\n",
    "        columns = ['nunique'])\n",
    "    for row in df_.columns:\n",
    "        ret.loc[row] = np.array([df_.groupby(row)[col].nunique().max() for col in df_.columns]).reshape(-1, 1)\n",
    "    return ret.unstack()\n",
    "\n",
    "\n",
    "cardinals(tab[['SEGMENT', 'TYPE', 'BRAND', 'COLLECTION']])"
   ]
  },
  {
   "cell_type": "markdown",
   "metadata": {},
   "source": [
    "In one stroke we see that BRAND:COLLECTION and SEGMENT:TYPE are dimension hierarchies"
   ]
  },
  {
   "cell_type": "markdown",
   "metadata": {},
   "source": [
    "----------------------------------------------------------\n",
    "# Creation of SIZE-related attributes #\n",
    "The object is to see if the size composition of a SORT is related to total SORT sales.  \n",
    "We must therefore create proxies of a sort's SIZE composition.\n",
    "  \n",
    "__SIZE_NUM__ = distinct sizes per GEO, WEEK_ENDING, SORT  \n",
    "__SIZE_SORT__ = A (sorted) string representation of the available sizes per WEEK_ENDING, GEO, SORT\n",
    "  \n",
    "the second attribute tells us not only how many SIZEs we have in each SORT a given week but also the __kinds__ of available sizes:  \n",
    "e.g. for SIZE_NUM = 3 we can have SIZE_SORT = 'ABC' or 'BDE'. These 2 sorts are not the same."
   ]
  },
  {
   "cell_type": "code",
   "execution_count": 5,
   "metadata": {},
   "outputs": [
    {
     "data": {
      "text/html": [
       "<div>\n",
       "<style>\n",
       "    .dataframe thead tr:only-child th {\n",
       "        text-align: right;\n",
       "    }\n",
       "\n",
       "    .dataframe thead th {\n",
       "        text-align: left;\n",
       "    }\n",
       "\n",
       "    .dataframe tbody tr th {\n",
       "        vertical-align: top;\n",
       "    }\n",
       "</style>\n",
       "<table border=\"1\" class=\"dataframe\">\n",
       "  <thead>\n",
       "    <tr style=\"text-align: right;\">\n",
       "      <th></th>\n",
       "      <th>SORT</th>\n",
       "      <th>GEO</th>\n",
       "      <th>WEEK_ENDING</th>\n",
       "      <th>NUM_SIZE</th>\n",
       "    </tr>\n",
       "  </thead>\n",
       "  <tbody>\n",
       "    <tr>\n",
       "      <th>27586</th>\n",
       "      <td>394</td>\n",
       "      <td>CTCT</td>\n",
       "      <td>1982-10-21</td>\n",
       "      <td>2</td>\n",
       "    </tr>\n",
       "    <tr>\n",
       "      <th>15958</th>\n",
       "      <td>374</td>\n",
       "      <td>CTCT</td>\n",
       "      <td>1982-08-19</td>\n",
       "      <td>2</td>\n",
       "    </tr>\n",
       "    <tr>\n",
       "      <th>2988</th>\n",
       "      <td>362</td>\n",
       "      <td>TTCTA</td>\n",
       "      <td>1983-03-31</td>\n",
       "      <td>2</td>\n",
       "    </tr>\n",
       "    <tr>\n",
       "      <th>29353</th>\n",
       "      <td>374</td>\n",
       "      <td>TTCTA</td>\n",
       "      <td>1983-06-30</td>\n",
       "      <td>2</td>\n",
       "    </tr>\n",
       "    <tr>\n",
       "      <th>46252</th>\n",
       "      <td>385</td>\n",
       "      <td>TTCTA</td>\n",
       "      <td>1985-03-28</td>\n",
       "      <td>2</td>\n",
       "    </tr>\n",
       "    <tr>\n",
       "      <th>28035</th>\n",
       "      <td>394</td>\n",
       "      <td>PTCTA</td>\n",
       "      <td>1986-06-19</td>\n",
       "      <td>2</td>\n",
       "    </tr>\n",
       "    <tr>\n",
       "      <th>35473</th>\n",
       "      <td>396</td>\n",
       "      <td>TWTUC</td>\n",
       "      <td>1982-12-09</td>\n",
       "      <td>2</td>\n",
       "    </tr>\n",
       "    <tr>\n",
       "      <th>19663</th>\n",
       "      <td>378</td>\n",
       "      <td>TTCTA</td>\n",
       "      <td>1985-12-12</td>\n",
       "      <td>2</td>\n",
       "    </tr>\n",
       "    <tr>\n",
       "      <th>22922</th>\n",
       "      <td>385</td>\n",
       "      <td>TWTUC</td>\n",
       "      <td>1985-09-05</td>\n",
       "      <td>2</td>\n",
       "    </tr>\n",
       "    <tr>\n",
       "      <th>90565</th>\n",
       "      <td>868</td>\n",
       "      <td>TWTUC</td>\n",
       "      <td>1985-01-10</td>\n",
       "      <td>2</td>\n",
       "    </tr>\n",
       "  </tbody>\n",
       "</table>\n",
       "</div>"
      ],
      "text/plain": [
       "       SORT    GEO WEEK_ENDING  NUM_SIZE\n",
       "27586   394   CTCT  1982-10-21         2\n",
       "15958   374   CTCT  1982-08-19         2\n",
       "2988    362  TTCTA  1983-03-31         2\n",
       "29353   374  TTCTA  1983-06-30         2\n",
       "46252   385  TTCTA  1985-03-28         2\n",
       "28035   394  PTCTA  1986-06-19         2\n",
       "35473   396  TWTUC  1982-12-09         2\n",
       "19663   378  TTCTA  1985-12-12         2\n",
       "22922   385  TWTUC  1985-09-05         2\n",
       "90565   868  TWTUC  1985-01-10         2"
      ]
     },
     "metadata": {},
     "output_type": "display_data"
    }
   ],
   "source": [
    "tab['NUM_SIZE'] = tab.groupby(['SORT', 'GEO', 'WEEK_ENDING'])['SIZE'].transform('nunique')\n",
    "display(tab[tab['NUM_SIZE'] > 1][['SORT', 'GEO', 'WEEK_ENDING', 'NUM_SIZE']].sample(10))"
   ]
  },
  {
   "cell_type": "markdown",
   "metadata": {},
   "source": [
    "`transform` is a convenience DataFrame method similar to `partition by` clauses in SQL.  \n",
    "Applies a group transform to each row in the dataset, thereby creating new group columns  \n",
    "  \n",
    "------------------------\n",
    "`SIZE_SORT` is trickier:  \n",
    "We must gather the unique SIZES per SORT, concatenate them to create a string, than apply this string to each `['WEEK_ENDING', 'GEO', 'SORT']` group using `transform`.  \n",
    "  \n",
    "Fortunately Pandas is quite flexible in this (although not higly performant as you'll see), by permitting __custom functions in transformations__"
   ]
  },
  {
   "cell_type": "code",
   "execution_count": 6,
   "metadata": {},
   "outputs": [
    {
     "name": "stdout",
     "output_type": "stream",
     "text": [
      "1 loop, best of 1: 14 s per loop\n"
     ]
    }
   ],
   "source": [
    "%%timeit -n1 -r1\n",
    "asSortedString = lambda _: ''.join(np.unique(_))\n",
    "\n",
    "tab['SIZE_SORT'] = (tab.\n",
    "    groupby(['WEEK_ENDING', 'GEO', 'SORT']).\n",
    "    SIZE.\n",
    "    transform(asSortedString))"
   ]
  },
  {
   "cell_type": "code",
   "execution_count": 199,
   "metadata": {},
   "outputs": [
    {
     "data": {
      "text/html": [
       "<div>\n",
       "<style>\n",
       "    .dataframe thead tr:only-child th {\n",
       "        text-align: right;\n",
       "    }\n",
       "\n",
       "    .dataframe thead th {\n",
       "        text-align: left;\n",
       "    }\n",
       "\n",
       "    .dataframe tbody tr th {\n",
       "        vertical-align: top;\n",
       "    }\n",
       "</style>\n",
       "<table border=\"1\" class=\"dataframe\">\n",
       "  <thead>\n",
       "    <tr style=\"text-align: right;\">\n",
       "      <th></th>\n",
       "      <th>SKU</th>\n",
       "      <th>GEO</th>\n",
       "      <th>WEEK_ENDING</th>\n",
       "      <th>WEEK</th>\n",
       "      <th>MONTH</th>\n",
       "      <th>PCT</th>\n",
       "      <th>PCTF</th>\n",
       "      <th>PCTD</th>\n",
       "      <th>UNITS</th>\n",
       "      <th>REVENUE</th>\n",
       "      <th>SEGMENT</th>\n",
       "      <th>TYPE</th>\n",
       "      <th>BRAND</th>\n",
       "      <th>COLLECTION</th>\n",
       "      <th>SORT</th>\n",
       "      <th>BASE_ITEM</th>\n",
       "      <th>SIZE</th>\n",
       "      <th>NUM_SIZE</th>\n",
       "      <th>SIZE_SORT</th>\n",
       "    </tr>\n",
       "  </thead>\n",
       "  <tbody>\n",
       "    <tr>\n",
       "      <th>92598</th>\n",
       "      <td>103693</td>\n",
       "      <td>TWTUC</td>\n",
       "      <td>1983-11-24</td>\n",
       "      <td>47</td>\n",
       "      <td>11</td>\n",
       "      <td>93</td>\n",
       "      <td>0</td>\n",
       "      <td>4</td>\n",
       "      <td>5077</td>\n",
       "      <td>35256.21</td>\n",
       "      <td>SHA</td>\n",
       "      <td>S2</td>\n",
       "      <td>A</td>\n",
       "      <td>ADT</td>\n",
       "      <td>966</td>\n",
       "      <td>2-IN-1 1CT 22.0OZ</td>\n",
       "      <td>D</td>\n",
       "      <td>2</td>\n",
       "      <td>CD</td>\n",
       "    </tr>\n",
       "    <tr>\n",
       "      <th>92198</th>\n",
       "      <td>101952</td>\n",
       "      <td>TWTUC</td>\n",
       "      <td>1986-05-15</td>\n",
       "      <td>20</td>\n",
       "      <td>5</td>\n",
       "      <td>1</td>\n",
       "      <td>0</td>\n",
       "      <td>0</td>\n",
       "      <td>19</td>\n",
       "      <td>29.94</td>\n",
       "      <td>CON</td>\n",
       "      <td>CR</td>\n",
       "      <td>S</td>\n",
       "      <td>SPSE</td>\n",
       "      <td>1012</td>\n",
       "      <td>REG 1CT 28.0OZ</td>\n",
       "      <td>D</td>\n",
       "      <td>1</td>\n",
       "      <td>D</td>\n",
       "    </tr>\n",
       "    <tr>\n",
       "      <th>48161</th>\n",
       "      <td>101095</td>\n",
       "      <td>TTCTA</td>\n",
       "      <td>1986-05-08</td>\n",
       "      <td>19</td>\n",
       "      <td>5</td>\n",
       "      <td>13</td>\n",
       "      <td>0</td>\n",
       "      <td>0</td>\n",
       "      <td>109</td>\n",
       "      <td>1065.38</td>\n",
       "      <td>SHA</td>\n",
       "      <td>S2</td>\n",
       "      <td>H&amp;S</td>\n",
       "      <td>H&amp;SDS</td>\n",
       "      <td>361</td>\n",
       "      <td>2-IN-1 1CT 33.8OZ</td>\n",
       "      <td>E</td>\n",
       "      <td>3</td>\n",
       "      <td>CDE</td>\n",
       "    </tr>\n",
       "    <tr>\n",
       "      <th>67702</th>\n",
       "      <td>104490</td>\n",
       "      <td>TTCTA</td>\n",
       "      <td>1985-03-28</td>\n",
       "      <td>13</td>\n",
       "      <td>3</td>\n",
       "      <td>92</td>\n",
       "      <td>0</td>\n",
       "      <td>1</td>\n",
       "      <td>3811</td>\n",
       "      <td>9386.16</td>\n",
       "      <td>SHA</td>\n",
       "      <td>SR</td>\n",
       "      <td>S</td>\n",
       "      <td>SPK</td>\n",
       "      <td>929</td>\n",
       "      <td>REG 1CT 12.6OZ</td>\n",
       "      <td>C</td>\n",
       "      <td>2</td>\n",
       "      <td>CD</td>\n",
       "    </tr>\n",
       "    <tr>\n",
       "      <th>18298</th>\n",
       "      <td>102570</td>\n",
       "      <td>WTCTA</td>\n",
       "      <td>1982-05-20</td>\n",
       "      <td>20</td>\n",
       "      <td>5</td>\n",
       "      <td>38</td>\n",
       "      <td>0</td>\n",
       "      <td>1</td>\n",
       "      <td>907</td>\n",
       "      <td>4592.11</td>\n",
       "      <td>CON</td>\n",
       "      <td>CR</td>\n",
       "      <td>H&amp;S</td>\n",
       "      <td>H&amp;SIS</td>\n",
       "      <td>376</td>\n",
       "      <td>REG 1CT 13.5OZ</td>\n",
       "      <td>C</td>\n",
       "      <td>1</td>\n",
       "      <td>C</td>\n",
       "    </tr>\n",
       "    <tr>\n",
       "      <th>105105</th>\n",
       "      <td>101855</td>\n",
       "      <td>PTCTA</td>\n",
       "      <td>1982-08-05</td>\n",
       "      <td>31</td>\n",
       "      <td>8</td>\n",
       "      <td>93</td>\n",
       "      <td>0</td>\n",
       "      <td>10</td>\n",
       "      <td>4126</td>\n",
       "      <td>5155.35</td>\n",
       "      <td>SHA</td>\n",
       "      <td>SR</td>\n",
       "      <td>S</td>\n",
       "      <td>SEC</td>\n",
       "      <td>844</td>\n",
       "      <td>REG 1CT 30.0OZ</td>\n",
       "      <td>D</td>\n",
       "      <td>1</td>\n",
       "      <td>D</td>\n",
       "    </tr>\n",
       "    <tr>\n",
       "      <th>15842</th>\n",
       "      <td>105430</td>\n",
       "      <td>TWTUC</td>\n",
       "      <td>1982-03-04</td>\n",
       "      <td>9</td>\n",
       "      <td>3</td>\n",
       "      <td>94</td>\n",
       "      <td>0</td>\n",
       "      <td>7</td>\n",
       "      <td>7586</td>\n",
       "      <td>37428.41</td>\n",
       "      <td>SHA</td>\n",
       "      <td>S2</td>\n",
       "      <td>H&amp;S</td>\n",
       "      <td>H&amp;SHE</td>\n",
       "      <td>374</td>\n",
       "      <td>2-IN-1 1CT 14.2OZ</td>\n",
       "      <td>C</td>\n",
       "      <td>3</td>\n",
       "      <td>CDE</td>\n",
       "    </tr>\n",
       "    <tr>\n",
       "      <th>44475</th>\n",
       "      <td>102675</td>\n",
       "      <td>TTCTA</td>\n",
       "      <td>1985-01-31</td>\n",
       "      <td>5</td>\n",
       "      <td>1</td>\n",
       "      <td>64</td>\n",
       "      <td>0</td>\n",
       "      <td>0</td>\n",
       "      <td>1030</td>\n",
       "      <td>7616.67</td>\n",
       "      <td>SHA</td>\n",
       "      <td>S2</td>\n",
       "      <td>H&amp;S</td>\n",
       "      <td>H&amp;SIR</td>\n",
       "      <td>427</td>\n",
       "      <td>2-IN-1 1CT 22.5OZ</td>\n",
       "      <td>D</td>\n",
       "      <td>1</td>\n",
       "      <td>D</td>\n",
       "    </tr>\n",
       "    <tr>\n",
       "      <th>49688</th>\n",
       "      <td>100834</td>\n",
       "      <td>TWTUC</td>\n",
       "      <td>1984-05-03</td>\n",
       "      <td>18</td>\n",
       "      <td>5</td>\n",
       "      <td>95</td>\n",
       "      <td>0</td>\n",
       "      <td>15</td>\n",
       "      <td>16951</td>\n",
       "      <td>48501.61</td>\n",
       "      <td>SHA</td>\n",
       "      <td>SR</td>\n",
       "      <td>S</td>\n",
       "      <td>SPDM</td>\n",
       "      <td>494</td>\n",
       "      <td>REG 1CT 28.0OZ</td>\n",
       "      <td>D</td>\n",
       "      <td>2</td>\n",
       "      <td>CD</td>\n",
       "    </tr>\n",
       "    <tr>\n",
       "      <th>79371</th>\n",
       "      <td>104656</td>\n",
       "      <td>TTCTA</td>\n",
       "      <td>1985-10-17</td>\n",
       "      <td>42</td>\n",
       "      <td>10</td>\n",
       "      <td>74</td>\n",
       "      <td>0</td>\n",
       "      <td>0</td>\n",
       "      <td>2302</td>\n",
       "      <td>9154.26</td>\n",
       "      <td>SHA</td>\n",
       "      <td>S2</td>\n",
       "      <td>DM</td>\n",
       "      <td>DMT&amp;S</td>\n",
       "      <td>984</td>\n",
       "      <td>2-IN-1 1CT 12.0OZ</td>\n",
       "      <td>C</td>\n",
       "      <td>2</td>\n",
       "      <td>CD</td>\n",
       "    </tr>\n",
       "  </tbody>\n",
       "</table>\n",
       "</div>"
      ],
      "text/plain": [
       "           SKU    GEO WEEK_ENDING  WEEK  MONTH  PCT  PCTF  PCTD  UNITS  \\\n",
       "92598   103693  TWTUC  1983-11-24    47     11   93     0     4   5077   \n",
       "92198   101952  TWTUC  1986-05-15    20      5    1     0     0     19   \n",
       "48161   101095  TTCTA  1986-05-08    19      5   13     0     0    109   \n",
       "67702   104490  TTCTA  1985-03-28    13      3   92     0     1   3811   \n",
       "18298   102570  WTCTA  1982-05-20    20      5   38     0     1    907   \n",
       "105105  101855  PTCTA  1982-08-05    31      8   93     0    10   4126   \n",
       "15842   105430  TWTUC  1982-03-04     9      3   94     0     7   7586   \n",
       "44475   102675  TTCTA  1985-01-31     5      1   64     0     0   1030   \n",
       "49688   100834  TWTUC  1984-05-03    18      5   95     0    15  16951   \n",
       "79371   104656  TTCTA  1985-10-17    42     10   74     0     0   2302   \n",
       "\n",
       "         REVENUE SEGMENT TYPE BRAND COLLECTION  SORT          BASE_ITEM SIZE  \\\n",
       "92598   35256.21     SHA   S2     A        ADT   966  2-IN-1 1CT 22.0OZ    D   \n",
       "92198      29.94     CON   CR     S       SPSE  1012     REG 1CT 28.0OZ    D   \n",
       "48161    1065.38     SHA   S2   H&S      H&SDS   361  2-IN-1 1CT 33.8OZ    E   \n",
       "67702    9386.16     SHA   SR     S        SPK   929     REG 1CT 12.6OZ    C   \n",
       "18298    4592.11     CON   CR   H&S      H&SIS   376     REG 1CT 13.5OZ    C   \n",
       "105105   5155.35     SHA   SR     S        SEC   844     REG 1CT 30.0OZ    D   \n",
       "15842   37428.41     SHA   S2   H&S      H&SHE   374  2-IN-1 1CT 14.2OZ    C   \n",
       "44475    7616.67     SHA   S2   H&S      H&SIR   427  2-IN-1 1CT 22.5OZ    D   \n",
       "49688   48501.61     SHA   SR     S       SPDM   494     REG 1CT 28.0OZ    D   \n",
       "79371    9154.26     SHA   S2    DM      DMT&S   984  2-IN-1 1CT 12.0OZ    C   \n",
       "\n",
       "        NUM_SIZE SIZE_SORT  \n",
       "92598          2        CD  \n",
       "92198          1         D  \n",
       "48161          3       CDE  \n",
       "67702          2        CD  \n",
       "18298          1         C  \n",
       "105105         1         D  \n",
       "15842          3       CDE  \n",
       "44475          1         D  \n",
       "49688          2        CD  \n",
       "79371          2        CD  "
      ]
     },
     "metadata": {},
     "output_type": "display_data"
    }
   ],
   "source": [
    "display(tab.sample(10))"
   ]
  },
  {
   "cell_type": "markdown",
   "metadata": {},
   "source": [
    "<span style = \"color: darkred; font-size: 200%; font-weight: bold;  text-decoration: underline\"> \n",
    "Exercise \n",
    "</span>  \n",
    "Another interesting issue is the dependency a SORT may have on the number of available sizes in the SORT. E.g. assume that a product has 5 possible SIZES and 2 are only available.  \n",
    "Is this the same as having 2 sizes for a product with 2 possible sizes?  \n",
    "  \n",
    "Create an attribute called PCT_SIZE per (GEO, WEEK_ENDING, SORT) that contains the % percentage in relation with the total number of sizes available for the SORT"
   ]
  },
  {
   "cell_type": "raw",
   "metadata": {},
   "source": [
    "%load -s retailerEDA2 ./solutions.py"
   ]
  },
  {
   "cell_type": "markdown",
   "metadata": {},
   "source": [
    "-------------------------------------------------------------------------------------------\n",
    "# Creation of UNITS and REVENUE related attributes #\n",
    "\n",
    "### UNITS ###\n",
    "The way retailer.csv provides the items sold per GEO and WEEK_ENDING (UNITS field) is cumbersome:  \n",
    "  \n",
    "1. GEO is not a store's location but a the name of a distribution channel!  \n",
    "2. UNITS then, is the number of SKUs sold through a channel's stores (channels have different number of stores).  \n",
    "3. There is no indication of the number of stores per channel. Rather the field PCT contains the __percentage__ of the stores in a channel that a given SKU was available in a certain WEEK_ENDING.  \n",
    "  \n",
    "The best we can do is assume that each channel has 100 stores and use the UNITS/PCT as a target variable in our prediction task.  \n",
    "We can say that we predict the units sold per GEO's __percentile store__.  \n",
    "  \n",
    "We use Dataframe's `where` method to divide UNITS by non-zero PCT only"
   ]
  },
  {
   "cell_type": "code",
   "execution_count": 209,
   "metadata": {},
   "outputs": [
    {
     "data": {
      "text/plain": [
       "dtype('float64')"
      ]
     },
     "execution_count": 209,
     "metadata": {},
     "output_type": "execute_result"
    }
   ],
   "source": [
    "# DO NOT forget to convert to float:\n",
    "# Both UNITS and PCT are int. Dividing them in Python 2.x produces an int that will truncate fractional sales\n",
    "\n",
    "tab['SALES'] = np.where(tab.PCT > 0, (1. * tab.UNITS)/tab.PCT, 0.) \n",
    "print tab.SALES.dtype"
   ]
  },
  {
   "cell_type": "markdown",
   "metadata": {},
   "source": [
    "### REVENUE ###\n",
    "REVENUE contains the pounds collected from ALL the stores of the channel per SKU and WEEK_ENDING.  \n",
    "Therefore is not sth that we can use during the prediction phase (we don't know the items sold).  \n",
    "  \n",
    "REVENUE/UNITS however is the avg selling price of the item and this is known during the prediction phase."
   ]
  },
  {
   "cell_type": "code",
   "execution_count": 211,
   "metadata": {},
   "outputs": [
    {
     "name": "stdout",
     "output_type": "stream",
     "text": [
      "16704     0.977857\n",
      "70513     1.577262\n",
      "10039     4.928705\n",
      "79662     5.560638\n",
      "111454    1.978717\n",
      "Name: PRICE, dtype: float64\n"
     ]
    }
   ],
   "source": [
    "tab['PRICE'] = np.where(tab.UNITS > 0, tab.REVENUE / tab.UNITS, 0.)\n",
    "print tab.PRICE.sample(5)"
   ]
  },
  {
   "cell_type": "markdown",
   "metadata": {},
   "source": [
    "------------\n",
    "# EDA #"
   ]
  },
  {
   "cell_type": "code",
   "execution_count": 242,
   "metadata": {},
   "outputs": [],
   "source": [
    "%matplotlib inline\n",
    "\n",
    "import matplotlib.pyplot as plt\n",
    "import seaborn as sns\n",
    "\n",
    "plt.style.use('ggplot')\n",
    "sns.set_context('notebook', font_scale = 1.2)"
   ]
  },
  {
   "cell_type": "markdown",
   "metadata": {},
   "source": [
    "### Dataset imbalance:  ###\n",
    "Observation counts per SEGMENT and {SIZE, NUM_SIZE, SORT_TYPE}: The dataset is highly biased towards sizes C and D, and sorts C, D and CD.  \n",
    "Analysis will be constraint to categories with enough observations (here we will filter with SIZE_SORT C, D, CD and CDE)"
   ]
  },
  {
   "cell_type": "code",
   "execution_count": 245,
   "metadata": {},
   "outputs": [
    {
     "data": {
      "text/plain": [
       "<matplotlib.axes._subplots.AxesSubplot at 0x7f1fa8f40f90>"
      ]
     },
     "execution_count": 245,
     "metadata": {},
     "output_type": "execute_result"
    },
    {
     "data": {
      "image/png": "[encoded data removed]",
      "text/plain": [
       "<matplotlib.figure.Figure at 0x7f1fa18e17d0>"
      ]
     },
     "metadata": {},
     "output_type": "display_data"
    }
   ],
   "source": [
    "fig = plt.figure(figsize = [20, 11])\n",
    "ax1 = fig.add_subplot(221)\n",
    "sns.countplot(x = 'SIZE', hue = 'SEGMENT', data = tab.sort_values(by = 'SIZE'), ax = ax1, dodge = False)\n",
    "ax2 = fig.add_subplot(222)\n",
    "sns.countplot(x = 'NUM_SIZE', hue = 'SEGMENT', data = tab.sort_values(by = 'NUM_SIZE'), ax = ax2, dodge = False)\n",
    "ax3 = fig.add_subplot(212)\n",
    "sns.countplot(x = 'SIZE_SORT', hue = 'SEGMENT', dodge = False, ax = ax3, data = tab.sort_values(by = 'SIZE_SORT'))"
   ]
  },
  {
   "cell_type": "markdown",
   "metadata": {},
   "source": [
    "Create (a reference to) a subset of tab, containing only the SIZE_SORT values of interest:"
   ]
  },
  {
   "cell_type": "code",
   "execution_count": 296,
   "metadata": {},
   "outputs": [],
   "source": [
    "tab2 = tab[tab.SIZE_SORT.isin(['C', 'D', 'E', 'CD', 'CDE'])]"
   ]
  },
  {
   "cell_type": "markdown",
   "metadata": {},
   "source": [
    "### Dependency of SALES to promotions ###\n",
    "PCTF and PCTD are similar to PCT and contain the percentage of stores where a product was _'Featured'_ or _'Displayed'_.  \n",
    "Both featuring and display can hold for a product.  \n",
    "  \n",
    "A __featured__ product is sold with an extra 'feature' like another complementary (e.g. shampoo with conditioner)  \n",
    "A __displayed__ product is placed in a very 'spotty' location in the store  \n",
    "  \n",
    "In the following we examine the relation of PCTD with SALES and display this relationship visually and with a statistical descriptive measure called __'lift'__"
   ]
  },
  {
   "cell_type": "code",
   "execution_count": 297,
   "metadata": {},
   "outputs": [
    {
     "data": {
      "image/png": "[encoded data removed]",
      "text/plain": [
       "<matplotlib.figure.Figure at 0x7f1fa006d850>"
      ]
     },
     "metadata": {},
     "output_type": "display_data"
    }
   ],
   "source": [
    "_ = sns.jointplot(x = 'PCTD', y = 'SALES', data = tab2[tab2.PCTD > 0.], size = 8, stat_func = None)"
   ]
  },
  {
   "cell_type": "markdown",
   "metadata": {},
   "source": [
    "<span style = \"color: darkred; font-size: 200%; font-weight: bold;  text-decoration: underline\"> \n",
    "Exercise \n",
    "</span>  \n",
    "  \n",
    "A lift of a scalar quantity (here SALES) wrt a binary variable V is defined as:  \n",
    "$$\\frac{\\mathtt {AVG(quantity)\\, for\\, V = 1}}{\\mathtt {AVG(quantity)\\, for\\, V = 0}}$$\n",
    "\n",
    "Calculate the lift of sales for PCTD > .2 versus PCTD <= .2\n"
   ]
  },
  {
   "cell_type": "raw",
   "metadata": {},
   "source": [
    "%load -s retailerEDA3 ./solutions.py\n"
   ]
  },
  {
   "cell_type": "markdown",
   "metadata": {},
   "source": [
    "### Elaborating on PCTD ###\n",
    "A question is whether this loose relation of PCTD to sales is general or holds for certain SIZES and SIZE_SORTS  \n",
    "  \n",
    "In the following diagram we display this relation per SIZE and SIZE_SORT for the conditioner and shampoo segments.  \n",
    "It is shown that a general relation between PCTD and SALES is misleading and related to a specific brand."
   ]
  },
  {
   "cell_type": "code",
   "execution_count": 304,
   "metadata": {},
   "outputs": [
    {
     "ename": "IndentationError",
     "evalue": "unexpected indent (<ipython-input-304-e95d7ce27d2c>, line 3)",
     "output_type": "error",
     "traceback": [
      "\u001b[0;36m  File \u001b[0;32m\"<ipython-input-304-e95d7ce27d2c>\"\u001b[0;36m, line \u001b[0;32m3\u001b[0m\n\u001b[0;31m    tab2,\u001b[0m\n\u001b[0m    ^\u001b[0m\n\u001b[0;31mIndentationError\u001b[0m\u001b[0;31m:\u001b[0m unexpected indent\n"
     ]
    }
   ],
   "source": [
    "tab2.dtypes\n",
    "# fg = sns.FacetGrid(\n",
    "    tab2,\n",
    "    row = 'SIZE', col = 'BRAND', hue = 'SEGMENT', size = 2.5, aspect = 1.5)\n",
    "# _ = fg.map(plt.scatter, 'SALES', 'SIZE_SORT')"
   ]
  },
  {
   "cell_type": "code",
   "execution_count": null,
   "metadata": {},
   "outputs": [],
   "source": []
  }
 ],
 "metadata": {
  "kernelspec": {
   "display_name": "Python 2",
   "language": "python",
   "name": "python2"
  },
  "language_info": {
   "codemirror_mode": {
    "name": "ipython",
    "version": 2
   },
   "file_extension": ".py",
   "mimetype": "text/x-python",
   "name": "python",
   "nbconvert_exporter": "python",
   "pygments_lexer": "ipython2",
   "version": "2.7.12"
  }
 },
 "nbformat": 4,
 "nbformat_minor": 2
}
